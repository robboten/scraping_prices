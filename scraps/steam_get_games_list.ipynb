{
 "cells": [
  {
   "cell_type": "code",
   "execution_count": 1,
   "id": "03242827",
   "metadata": {},
   "outputs": [],
   "source": [
    "import requests\n",
    "import pandas as pd"
   ]
  },
  {
   "cell_type": "markdown",
   "id": "8ec9ad27",
   "metadata": {},
   "source": [
    "-------- Start Steam ------"
   ]
  },
  {
   "cell_type": "code",
   "execution_count": 9,
   "id": "c9c3f051",
   "metadata": {},
   "outputs": [
    {
     "data": {
      "text/plain": [
       "154533"
      ]
     },
     "execution_count": 9,
     "metadata": {},
     "output_type": "execute_result"
    }
   ],
   "source": [
    "import pyarrow.parquet as pq\n",
    "pq.read_metadata('parquets/steam_games_list.parquet').num_rows"
   ]
  },
  {
   "cell_type": "code",
   "execution_count": 2,
   "id": "53d3929a",
   "metadata": {
    "scrolled": true
   },
   "outputs": [],
   "source": [
    "steamAppsResponse = requests.get(\n",
    "    \"https://api.steampowered.com/ISteamApps/GetAppList/v2/\")\n",
    "\n",
    "steamApps = steamAppsResponse.json()\n",
    "steamApps = steamApps['applist']['apps']  # ['app']\n",
    "#steamApps"
   ]
  },
  {
   "cell_type": "code",
   "execution_count": 3,
   "id": "84384cb0",
   "metadata": {
    "scrolled": true
   },
   "outputs": [
    {
     "data": {
      "text/plain": [
       "154533"
      ]
     },
     "execution_count": 3,
     "metadata": {},
     "output_type": "execute_result"
    }
   ],
   "source": [
    "steam_df=pd.json_normalize(steamApps)\n",
    "steam_df_rows=len(steam_df.index)\n",
    "steam_df_rows"
   ]
  },
  {
   "cell_type": "markdown",
   "id": "286b5a5f",
   "metadata": {},
   "source": [
    "check if nr rows in stored differs from response - if so update table"
   ]
  },
  {
   "cell_type": "code",
   "execution_count": 5,
   "id": "5d25ce59",
   "metadata": {},
   "outputs": [
    {
     "data": {
      "text/plain": [
       "pyarrow.Table\n",
       "appid: int64\n",
       "name: string\n",
       "----\n",
       "appid: [[1897482,2112761,2016512,1820332,1360782,...,1351210,1252000,1817190,700580,1696910]]\n",
       "name: [[\"\",\"\",\"\",\"\",\"\",...,\"Gord\",\"GOAL! The Club Manager\",\"Marvel's Spider-Man: Miles Morales\",\"Rust - Staging Branch\",\"Sky Link - Freefire\"]]"
      ]
     },
     "execution_count": 5,
     "metadata": {},
     "output_type": "execute_result"
    }
   ],
   "source": [
    "import to_paraquet as tp\n",
    "\n",
    "tp.to_paraquet('steam_games_list',steam_df)"
   ]
  }
 ],
 "metadata": {
  "kernelspec": {
   "display_name": "Python 3.10.0 ('scraping_prices-iCStyPHz')",
   "language": "python",
   "name": "python3"
  },
  "language_info": {
   "codemirror_mode": {
    "name": "ipython",
    "version": 3
   },
   "file_extension": ".py",
   "mimetype": "text/x-python",
   "name": "python",
   "nbconvert_exporter": "python",
   "pygments_lexer": "ipython3",
   "version": "3.10.0"
  },
  "vscode": {
   "interpreter": {
    "hash": "c818b9eec72219e7d362e3bf18220f729802fb300973581bcb291bde24c2d9ac"
   }
  }
 },
 "nbformat": 4,
 "nbformat_minor": 5
}
