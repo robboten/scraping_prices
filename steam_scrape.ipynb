{
 "cells": [
  {
   "cell_type": "markdown",
   "id": "051e141c",
   "metadata": {},
   "source": [
    "-todo-\n",
    "clean the df some\n",
    "fix dtypes\n",
    "remove obsolete stuff\n"
   ]
  },
  {
   "cell_type": "code",
   "execution_count": 18,
   "id": "bdd118fc",
   "metadata": {},
   "outputs": [
    {
     "name": "stdout",
     "output_type": "stream",
     "text": [
      "<Response [200]>\n"
     ]
    }
   ],
   "source": [
    "%run currency_scrape.ipynb"
   ]
  },
  {
   "cell_type": "code",
   "execution_count": 19,
   "id": "03242827",
   "metadata": {},
   "outputs": [],
   "source": [
    "import requests\n",
    "#from bs4 import BeautifulSoup"
   ]
  },
  {
   "cell_type": "code",
   "execution_count": 20,
   "id": "183db1c2",
   "metadata": {},
   "outputs": [],
   "source": [
    "import pandas as pd\n",
    "import json\n",
    "import numpy as np"
   ]
  },
  {
   "cell_type": "code",
   "execution_count": 21,
   "id": "35482f2d",
   "metadata": {},
   "outputs": [],
   "source": [
    "gameName='Hitman 3'\n",
    "gameNameAlt='Hitman 3'"
   ]
  },
  {
   "cell_type": "markdown",
   "id": "8ec9ad27",
   "metadata": {},
   "source": [
    "-------- Start Steam ------"
   ]
  },
  {
   "cell_type": "code",
   "execution_count": 22,
   "id": "53d3929a",
   "metadata": {
    "scrolled": true
   },
   "outputs": [],
   "source": [
    "steamAppsResponse = requests.get(\n",
    "    \"https://api.steampowered.com/ISteamApps/GetAppList/v2/\")\n",
    "\n",
    "steamApps = steamAppsResponse.json()\n",
    "steamApps = steamApps['applist']['apps']  # ['app']\n",
    "#steamApps"
   ]
  },
  {
   "cell_type": "code",
   "execution_count": 23,
   "id": "84384cb0",
   "metadata": {
    "scrolled": true
   },
   "outputs": [
    {
     "data": {
      "text/html": [
       "<div>\n",
       "<style scoped>\n",
       "    .dataframe tbody tr th:only-of-type {\n",
       "        vertical-align: middle;\n",
       "    }\n",
       "\n",
       "    .dataframe tbody tr th {\n",
       "        vertical-align: top;\n",
       "    }\n",
       "\n",
       "    .dataframe thead th {\n",
       "        text-align: right;\n",
       "    }\n",
       "</style>\n",
       "<table border=\"1\" class=\"dataframe\">\n",
       "  <thead>\n",
       "    <tr style=\"text-align: right;\">\n",
       "      <th></th>\n",
       "      <th>appid</th>\n",
       "      <th>name</th>\n",
       "    </tr>\n",
       "  </thead>\n",
       "  <tbody>\n",
       "    <tr>\n",
       "      <th>154471</th>\n",
       "      <td>1351000</td>\n",
       "      <td>Gangs of Sherwood</td>\n",
       "    </tr>\n",
       "    <tr>\n",
       "      <th>154472</th>\n",
       "      <td>1839950</td>\n",
       "      <td>Terminator: Dark Fate - Defiance</td>\n",
       "    </tr>\n",
       "    <tr>\n",
       "      <th>154473</th>\n",
       "      <td>1599660</td>\n",
       "      <td>Sackboy™: A Big Adventure</td>\n",
       "    </tr>\n",
       "    <tr>\n",
       "      <th>154474</th>\n",
       "      <td>1981100</td>\n",
       "      <td>Rustforge Playtest</td>\n",
       "    </tr>\n",
       "    <tr>\n",
       "      <th>154475</th>\n",
       "      <td>1926090</td>\n",
       "      <td>Ultracore</td>\n",
       "    </tr>\n",
       "  </tbody>\n",
       "</table>\n",
       "</div>"
      ],
      "text/plain": [
       "          appid                              name\n",
       "154471  1351000                 Gangs of Sherwood\n",
       "154472  1839950  Terminator: Dark Fate - Defiance\n",
       "154473  1599660         Sackboy™: A Big Adventure\n",
       "154474  1981100                Rustforge Playtest\n",
       "154475  1926090                         Ultracore"
      ]
     },
     "execution_count": 23,
     "metadata": {},
     "output_type": "execute_result"
    }
   ],
   "source": [
    "steam_df=pd.json_normalize(steamApps)\n",
    "#steam_df.set_index('appid',inplace=True)\n",
    "\n",
    "steam_df.tail()"
   ]
  },
  {
   "cell_type": "markdown",
   "id": "5faeec2b",
   "metadata": {},
   "source": [
    "import pickle\n",
    "\n",
    "picklepath = \"pickled/pickledf.pkl\";\n",
    "\n",
    "steam_df.to_pickle(picklepath)"
   ]
  },
  {
   "cell_type": "markdown",
   "id": "e704ec46",
   "metadata": {},
   "source": [
    "other_df=pd.read_pickle(picklepath)\n",
    "other_df"
   ]
  },
  {
   "cell_type": "markdown",
   "id": "953f9373",
   "metadata": {},
   "source": [
    "------remove all empty names rows from game list-----"
   ]
  },
  {
   "cell_type": "code",
   "execution_count": 26,
   "id": "7c0a14f3",
   "metadata": {},
   "outputs": [
    {
     "data": {
      "text/html": [
       "<div>\n",
       "<style scoped>\n",
       "    .dataframe tbody tr th:only-of-type {\n",
       "        vertical-align: middle;\n",
       "    }\n",
       "\n",
       "    .dataframe tbody tr th {\n",
       "        vertical-align: top;\n",
       "    }\n",
       "\n",
       "    .dataframe thead th {\n",
       "        text-align: right;\n",
       "    }\n",
       "</style>\n",
       "<table border=\"1\" class=\"dataframe\">\n",
       "  <thead>\n",
       "    <tr style=\"text-align: right;\">\n",
       "      <th></th>\n",
       "      <th>appid</th>\n",
       "      <th>name</th>\n",
       "    </tr>\n",
       "  </thead>\n",
       "  <tbody>\n",
       "    <tr>\n",
       "      <th>6</th>\n",
       "      <td>216938</td>\n",
       "      <td>Pieterw test app76 ( 216938 )</td>\n",
       "    </tr>\n",
       "    <tr>\n",
       "      <th>7</th>\n",
       "      <td>660010</td>\n",
       "      <td>test2</td>\n",
       "    </tr>\n",
       "    <tr>\n",
       "      <th>8</th>\n",
       "      <td>660130</td>\n",
       "      <td>test3</td>\n",
       "    </tr>\n",
       "    <tr>\n",
       "      <th>26</th>\n",
       "      <td>895070</td>\n",
       "      <td>Sharknado</td>\n",
       "    </tr>\n",
       "    <tr>\n",
       "      <th>27</th>\n",
       "      <td>895110</td>\n",
       "      <td>Magical Battle Cry</td>\n",
       "    </tr>\n",
       "  </tbody>\n",
       "</table>\n",
       "</div>"
      ],
      "text/plain": [
       "     appid                           name\n",
       "6   216938  Pieterw test app76 ( 216938 )\n",
       "7   660010                          test2\n",
       "8   660130                          test3\n",
       "26  895070                      Sharknado\n",
       "27  895110             Magical Battle Cry"
      ]
     },
     "execution_count": 26,
     "metadata": {},
     "output_type": "execute_result"
    }
   ],
   "source": [
    "steam_df.replace('', np.nan, inplace=True)\n",
    "steam_df.dropna(subset=['name'], inplace=True)\n",
    "steam_df.head()"
   ]
  },
  {
   "cell_type": "markdown",
   "id": "40cb1bb2",
   "metadata": {},
   "source": [
    "-------- filter for specific game ---------"
   ]
  },
  {
   "cell_type": "code",
   "execution_count": 27,
   "id": "190dc6d4",
   "metadata": {},
   "outputs": [],
   "source": [
    "#gameName='Syberia: The World Before'"
   ]
  },
  {
   "cell_type": "code",
   "execution_count": 28,
   "id": "2735a55f",
   "metadata": {},
   "outputs": [
    {
     "data": {
      "text/html": [
       "<div>\n",
       "<style scoped>\n",
       "    .dataframe tbody tr th:only-of-type {\n",
       "        vertical-align: middle;\n",
       "    }\n",
       "\n",
       "    .dataframe tbody tr th {\n",
       "        vertical-align: top;\n",
       "    }\n",
       "\n",
       "    .dataframe thead th {\n",
       "        text-align: right;\n",
       "    }\n",
       "</style>\n",
       "<table border=\"1\" class=\"dataframe\">\n",
       "  <thead>\n",
       "    <tr style=\"text-align: right;\">\n",
       "      <th></th>\n",
       "      <th>appid</th>\n",
       "      <th>name</th>\n",
       "    </tr>\n",
       "  </thead>\n",
       "  <tbody>\n",
       "    <tr>\n",
       "      <th>69392</th>\n",
       "      <td>1659040</td>\n",
       "      <td>HITMAN 3</td>\n",
       "    </tr>\n",
       "    <tr>\n",
       "      <th>110586</th>\n",
       "      <td>1659040</td>\n",
       "      <td>HITMAN 3</td>\n",
       "    </tr>\n",
       "  </tbody>\n",
       "</table>\n",
       "</div>"
      ],
      "text/plain": [
       "          appid      name\n",
       "69392   1659040  HITMAN 3\n",
       "110586  1659040  HITMAN 3"
      ]
     },
     "execution_count": 28,
     "metadata": {},
     "output_type": "execute_result"
    }
   ],
   "source": [
    "#exact match\n",
    "steamGamedf=steam_df.loc[steam_df['name'].str.lower().eq(gameName.lower())]\n",
    "if steamGamedf.empty:\n",
    "    steamGamedf=steam_df.loc[steam_df['name'].str.lower().eq(gameNameAlt.lower())]\n",
    "if steamGamedf.empty:\n",
    "    #contains match\n",
    "    steamGamedf=steam_df.loc[steam_df['name'].str.contains(gameName, case=False)]\n",
    "if steamGamedf.empty:\n",
    "    #contains match\n",
    "    steamGamedf=steam_df.loc[steam_df['name'].str.contains(gameNameAlt, case=False)]\n",
    "steamGamedf"
   ]
  },
  {
   "cell_type": "markdown",
   "id": "e8254ace",
   "metadata": {},
   "source": [
    "---- make copy with url inserted------"
   ]
  },
  {
   "cell_type": "code",
   "execution_count": 29,
   "id": "64be1ea7",
   "metadata": {
    "scrolled": false
   },
   "outputs": [
    {
     "name": "stderr",
     "output_type": "stream",
     "text": [
      "C:\\Users\\robbo\\AppData\\Local\\Temp\\ipykernel_20496\\3546206248.py:1: SettingWithCopyWarning: \n",
      "A value is trying to be set on a copy of a slice from a DataFrame.\n",
      "Try using .loc[row_indexer,col_indexer] = value instead\n",
      "\n",
      "See the caveats in the documentation: https://pandas.pydata.org/pandas-docs/stable/user_guide/indexing.html#returning-a-view-versus-a-copy\n",
      "  steamGamedf['url'] = steamGamedf.agg('https://store.steampowered.com/api/appdetails?appids={0[appid]}'.format, axis=1)\n"
     ]
    },
    {
     "data": {
      "text/html": [
       "<div>\n",
       "<style scoped>\n",
       "    .dataframe tbody tr th:only-of-type {\n",
       "        vertical-align: middle;\n",
       "    }\n",
       "\n",
       "    .dataframe tbody tr th {\n",
       "        vertical-align: top;\n",
       "    }\n",
       "\n",
       "    .dataframe thead th {\n",
       "        text-align: right;\n",
       "    }\n",
       "</style>\n",
       "<table border=\"1\" class=\"dataframe\">\n",
       "  <thead>\n",
       "    <tr style=\"text-align: right;\">\n",
       "      <th></th>\n",
       "      <th>appid</th>\n",
       "      <th>name</th>\n",
       "      <th>url</th>\n",
       "    </tr>\n",
       "  </thead>\n",
       "  <tbody>\n",
       "    <tr>\n",
       "      <th>69392</th>\n",
       "      <td>1659040</td>\n",
       "      <td>HITMAN 3</td>\n",
       "      <td>https://store.steampowered.com/api/appdetails?...</td>\n",
       "    </tr>\n",
       "    <tr>\n",
       "      <th>110586</th>\n",
       "      <td>1659040</td>\n",
       "      <td>HITMAN 3</td>\n",
       "      <td>https://store.steampowered.com/api/appdetails?...</td>\n",
       "    </tr>\n",
       "  </tbody>\n",
       "</table>\n",
       "</div>"
      ],
      "text/plain": [
       "          appid      name                                                url\n",
       "69392   1659040  HITMAN 3  https://store.steampowered.com/api/appdetails?...\n",
       "110586  1659040  HITMAN 3  https://store.steampowered.com/api/appdetails?..."
      ]
     },
     "execution_count": 29,
     "metadata": {},
     "output_type": "execute_result"
    }
   ],
   "source": [
    "steamGamedf['url'] = steamGamedf.agg('https://store.steampowered.com/api/appdetails?appids={0[appid]}'.format, axis=1)\n",
    "steamGamedf"
   ]
  },
  {
   "cell_type": "code",
   "execution_count": 30,
   "id": "57f55681",
   "metadata": {
    "scrolled": true
   },
   "outputs": [],
   "source": [
    "#steamGamedf['url'].values[0]"
   ]
  },
  {
   "cell_type": "code",
   "execution_count": 31,
   "id": "8055cf68",
   "metadata": {
    "scrolled": false
   },
   "outputs": [
    {
     "data": {
      "text/html": [
       "<div>\n",
       "<style scoped>\n",
       "    .dataframe tbody tr th:only-of-type {\n",
       "        vertical-align: middle;\n",
       "    }\n",
       "\n",
       "    .dataframe tbody tr th {\n",
       "        vertical-align: top;\n",
       "    }\n",
       "\n",
       "    .dataframe thead th {\n",
       "        text-align: right;\n",
       "    }\n",
       "</style>\n",
       "<table border=\"1\" class=\"dataframe\">\n",
       "  <thead>\n",
       "    <tr style=\"text-align: right;\">\n",
       "      <th></th>\n",
       "      <th>type</th>\n",
       "      <th>name</th>\n",
       "      <th>steam_appid</th>\n",
       "      <th>required_age</th>\n",
       "      <th>is_free</th>\n",
       "      <th>controller_support</th>\n",
       "      <th>dlc</th>\n",
       "      <th>detailed_description</th>\n",
       "      <th>about_the_game</th>\n",
       "      <th>short_description</th>\n",
       "      <th>...</th>\n",
       "      <th>metacritic.url</th>\n",
       "      <th>recommendations.total</th>\n",
       "      <th>achievements.total</th>\n",
       "      <th>achievements.highlighted</th>\n",
       "      <th>release_date.coming_soon</th>\n",
       "      <th>release_date.date</th>\n",
       "      <th>support_info.url</th>\n",
       "      <th>support_info.email</th>\n",
       "      <th>content_descriptors.ids</th>\n",
       "      <th>content_descriptors.notes</th>\n",
       "    </tr>\n",
       "  </thead>\n",
       "  <tbody>\n",
       "    <tr>\n",
       "      <th>0</th>\n",
       "      <td>game</td>\n",
       "      <td>HITMAN 3</td>\n",
       "      <td>1659040</td>\n",
       "      <td>18</td>\n",
       "      <td>False</td>\n",
       "      <td>full</td>\n",
       "      <td>[1829591, 1829592, 1829590, 1843460, 1829595, ...</td>\n",
       "      <td>&lt;h1&gt;Standard Edition&lt;/h1&gt;&lt;p&gt;&lt;img src=\"https://...</td>\n",
       "      <td>&lt;u&gt;&lt;strong&gt;WORLD OF ASSASSINATION&lt;/strong&gt;&lt;/u&gt;...</td>\n",
       "      <td>Death Awaits. Agent 47 returns in HITMAN 3, th...</td>\n",
       "      <td>...</td>\n",
       "      <td>https://www.metacritic.com/game/pc/hitman-3?ft...</td>\n",
       "      <td>5274</td>\n",
       "      <td>83</td>\n",
       "      <td>[{'name': 'The Result of Previous Training', '...</td>\n",
       "      <td>False</td>\n",
       "      <td>20 Jan, 2022</td>\n",
       "      <td>https://www.ioi.dk/player-support/</td>\n",
       "      <td></td>\n",
       "      <td>[2, 5]</td>\n",
       "      <td>This Game may contain content not appropriate ...</td>\n",
       "    </tr>\n",
       "    <tr>\n",
       "      <th>1</th>\n",
       "      <td>game</td>\n",
       "      <td>HITMAN 3</td>\n",
       "      <td>1659040</td>\n",
       "      <td>18</td>\n",
       "      <td>False</td>\n",
       "      <td>full</td>\n",
       "      <td>[1829591, 1829592, 1829590, 1843460, 1829595, ...</td>\n",
       "      <td>&lt;h1&gt;Standard Edition&lt;/h1&gt;&lt;p&gt;&lt;img src=\"https://...</td>\n",
       "      <td>&lt;u&gt;&lt;strong&gt;WORLD OF ASSASSINATION&lt;/strong&gt;&lt;/u&gt;...</td>\n",
       "      <td>Death Awaits. Agent 47 returns in HITMAN 3, th...</td>\n",
       "      <td>...</td>\n",
       "      <td>https://www.metacritic.com/game/pc/hitman-3?ft...</td>\n",
       "      <td>5274</td>\n",
       "      <td>83</td>\n",
       "      <td>[{'name': 'The Result of Previous Training', '...</td>\n",
       "      <td>False</td>\n",
       "      <td>20 Jan, 2022</td>\n",
       "      <td>https://www.ioi.dk/player-support/</td>\n",
       "      <td></td>\n",
       "      <td>[2, 5]</td>\n",
       "      <td>This Game may contain content not appropriate ...</td>\n",
       "    </tr>\n",
       "  </tbody>\n",
       "</table>\n",
       "<p>2 rows × 51 columns</p>\n",
       "</div>"
      ],
      "text/plain": [
       "   type      name  steam_appid required_age  is_free controller_support  \\\n",
       "0  game  HITMAN 3      1659040           18    False               full   \n",
       "1  game  HITMAN 3      1659040           18    False               full   \n",
       "\n",
       "                                                 dlc  \\\n",
       "0  [1829591, 1829592, 1829590, 1843460, 1829595, ...   \n",
       "1  [1829591, 1829592, 1829590, 1843460, 1829595, ...   \n",
       "\n",
       "                                detailed_description  \\\n",
       "0  <h1>Standard Edition</h1><p><img src=\"https://...   \n",
       "1  <h1>Standard Edition</h1><p><img src=\"https://...   \n",
       "\n",
       "                                      about_the_game  \\\n",
       "0  <u><strong>WORLD OF ASSASSINATION</strong></u>...   \n",
       "1  <u><strong>WORLD OF ASSASSINATION</strong></u>...   \n",
       "\n",
       "                                   short_description  ...  \\\n",
       "0  Death Awaits. Agent 47 returns in HITMAN 3, th...  ...   \n",
       "1  Death Awaits. Agent 47 returns in HITMAN 3, th...  ...   \n",
       "\n",
       "                                      metacritic.url recommendations.total  \\\n",
       "0  https://www.metacritic.com/game/pc/hitman-3?ft...                  5274   \n",
       "1  https://www.metacritic.com/game/pc/hitman-3?ft...                  5274   \n",
       "\n",
       "  achievements.total                           achievements.highlighted  \\\n",
       "0                 83  [{'name': 'The Result of Previous Training', '...   \n",
       "1                 83  [{'name': 'The Result of Previous Training', '...   \n",
       "\n",
       "  release_date.coming_soon release_date.date  \\\n",
       "0                    False      20 Jan, 2022   \n",
       "1                    False      20 Jan, 2022   \n",
       "\n",
       "                     support_info.url support_info.email  \\\n",
       "0  https://www.ioi.dk/player-support/                      \n",
       "1  https://www.ioi.dk/player-support/                      \n",
       "\n",
       "  content_descriptors.ids                          content_descriptors.notes  \n",
       "0                  [2, 5]  This Game may contain content not appropriate ...  \n",
       "1                  [2, 5]  This Game may contain content not appropriate ...  \n",
       "\n",
       "[2 rows x 51 columns]"
      ]
     },
     "execution_count": 31,
     "metadata": {},
     "output_type": "execute_result"
    }
   ],
   "source": [
    "frames=[]\n",
    "for index, row in steamGamedf.iterrows():\n",
    "    #print(row[\"name\"], row[\"url\"])\n",
    "    steamResponse = requests.get(row['url']).json() \n",
    "    if steamResponse[str(row[\"appid\"])]['success']:\n",
    "        datac=steamResponse[str(row[\"appid\"])]['data']\n",
    "        #if \"price_overview\" in datac:\n",
    "        steamSdf=pd.json_normalize(datac)\n",
    "        steamSdf.keys()\n",
    "        frames.append(steamSdf)\n",
    "        \n",
    "single = pd.concat(frames, ignore_index=True)\n",
    "single"
   ]
  },
  {
   "cell_type": "code",
   "execution_count": 32,
   "id": "14b437c5",
   "metadata": {},
   "outputs": [
    {
     "data": {
      "text/plain": [
       "Index(['type', 'name', 'steam_appid', 'required_age', 'is_free',\n",
       "       'controller_support', 'dlc', 'detailed_description', 'about_the_game',\n",
       "       'short_description', 'supported_languages', 'header_image', 'website',\n",
       "       'legal_notice', 'developers', 'publishers', 'demos', 'packages',\n",
       "       'package_groups', 'categories', 'genres', 'screenshots', 'movies',\n",
       "       'background', 'background_raw', 'pc_requirements.minimum',\n",
       "       'pc_requirements.recommended', 'mac_requirements.minimum',\n",
       "       'mac_requirements.recommended', 'linux_requirements.minimum',\n",
       "       'linux_requirements.recommended', 'price_overview.currency',\n",
       "       'price_overview.initial', 'price_overview.final',\n",
       "       'price_overview.discount_percent', 'price_overview.initial_formatted',\n",
       "       'price_overview.final_formatted', 'platforms.windows', 'platforms.mac',\n",
       "       'platforms.linux', 'metacritic.score', 'metacritic.url',\n",
       "       'recommendations.total', 'achievements.total',\n",
       "       'achievements.highlighted', 'release_date.coming_soon',\n",
       "       'release_date.date', 'support_info.url', 'support_info.email',\n",
       "       'content_descriptors.ids', 'content_descriptors.notes'],\n",
       "      dtype='object')"
      ]
     },
     "execution_count": 32,
     "metadata": {},
     "output_type": "execute_result"
    }
   ],
   "source": [
    "single.keys()"
   ]
  },
  {
   "cell_type": "code",
   "execution_count": 33,
   "id": "759e30e3",
   "metadata": {
    "scrolled": true
   },
   "outputs": [
    {
     "data": {
      "text/html": [
       "<div>\n",
       "<style scoped>\n",
       "    .dataframe tbody tr th:only-of-type {\n",
       "        vertical-align: middle;\n",
       "    }\n",
       "\n",
       "    .dataframe tbody tr th {\n",
       "        vertical-align: top;\n",
       "    }\n",
       "\n",
       "    .dataframe thead th {\n",
       "        text-align: right;\n",
       "    }\n",
       "</style>\n",
       "<table border=\"1\" class=\"dataframe\">\n",
       "  <thead>\n",
       "    <tr style=\"text-align: right;\">\n",
       "      <th></th>\n",
       "      <th>type</th>\n",
       "      <th>name</th>\n",
       "      <th>steam_appid</th>\n",
       "      <th>required_age</th>\n",
       "      <th>is_free</th>\n",
       "      <th>controller_support</th>\n",
       "      <th>dlc</th>\n",
       "      <th>detailed_description</th>\n",
       "      <th>about_the_game</th>\n",
       "      <th>short_description</th>\n",
       "      <th>...</th>\n",
       "      <th>recommendations.total</th>\n",
       "      <th>achievements.total</th>\n",
       "      <th>achievements.highlighted</th>\n",
       "      <th>release_date.coming_soon</th>\n",
       "      <th>release_date.date</th>\n",
       "      <th>support_info.url</th>\n",
       "      <th>support_info.email</th>\n",
       "      <th>content_descriptors.ids</th>\n",
       "      <th>content_descriptors.notes</th>\n",
       "      <th>priceSEK</th>\n",
       "    </tr>\n",
       "  </thead>\n",
       "  <tbody>\n",
       "    <tr>\n",
       "      <th>0</th>\n",
       "      <td>game</td>\n",
       "      <td>HITMAN 3</td>\n",
       "      <td>1659040</td>\n",
       "      <td>18</td>\n",
       "      <td>False</td>\n",
       "      <td>full</td>\n",
       "      <td>[1829591, 1829592, 1829590, 1843460, 1829595, ...</td>\n",
       "      <td>&lt;h1&gt;Standard Edition&lt;/h1&gt;&lt;p&gt;&lt;img src=\"https://...</td>\n",
       "      <td>&lt;u&gt;&lt;strong&gt;WORLD OF ASSASSINATION&lt;/strong&gt;&lt;/u&gt;...</td>\n",
       "      <td>Death Awaits. Agent 47 returns in HITMAN 3, th...</td>\n",
       "      <td>...</td>\n",
       "      <td>5274</td>\n",
       "      <td>83</td>\n",
       "      <td>[{'name': 'The Result of Previous Training', '...</td>\n",
       "      <td>False</td>\n",
       "      <td>20 Jan, 2022</td>\n",
       "      <td>https://www.ioi.dk/player-support/</td>\n",
       "      <td></td>\n",
       "      <td>[2, 5]</td>\n",
       "      <td>This Game may contain content not appropriate ...</td>\n",
       "      <td>263.0</td>\n",
       "    </tr>\n",
       "    <tr>\n",
       "      <th>1</th>\n",
       "      <td>game</td>\n",
       "      <td>HITMAN 3</td>\n",
       "      <td>1659040</td>\n",
       "      <td>18</td>\n",
       "      <td>False</td>\n",
       "      <td>full</td>\n",
       "      <td>[1829591, 1829592, 1829590, 1843460, 1829595, ...</td>\n",
       "      <td>&lt;h1&gt;Standard Edition&lt;/h1&gt;&lt;p&gt;&lt;img src=\"https://...</td>\n",
       "      <td>&lt;u&gt;&lt;strong&gt;WORLD OF ASSASSINATION&lt;/strong&gt;&lt;/u&gt;...</td>\n",
       "      <td>Death Awaits. Agent 47 returns in HITMAN 3, th...</td>\n",
       "      <td>...</td>\n",
       "      <td>5274</td>\n",
       "      <td>83</td>\n",
       "      <td>[{'name': 'The Result of Previous Training', '...</td>\n",
       "      <td>False</td>\n",
       "      <td>20 Jan, 2022</td>\n",
       "      <td>https://www.ioi.dk/player-support/</td>\n",
       "      <td></td>\n",
       "      <td>[2, 5]</td>\n",
       "      <td>This Game may contain content not appropriate ...</td>\n",
       "      <td>263.0</td>\n",
       "    </tr>\n",
       "  </tbody>\n",
       "</table>\n",
       "<p>2 rows × 52 columns</p>\n",
       "</div>"
      ],
      "text/plain": [
       "   type      name  steam_appid required_age  is_free controller_support  \\\n",
       "0  game  HITMAN 3      1659040           18    False               full   \n",
       "1  game  HITMAN 3      1659040           18    False               full   \n",
       "\n",
       "                                                 dlc  \\\n",
       "0  [1829591, 1829592, 1829590, 1843460, 1829595, ...   \n",
       "1  [1829591, 1829592, 1829590, 1843460, 1829595, ...   \n",
       "\n",
       "                                detailed_description  \\\n",
       "0  <h1>Standard Edition</h1><p><img src=\"https://...   \n",
       "1  <h1>Standard Edition</h1><p><img src=\"https://...   \n",
       "\n",
       "                                      about_the_game  \\\n",
       "0  <u><strong>WORLD OF ASSASSINATION</strong></u>...   \n",
       "1  <u><strong>WORLD OF ASSASSINATION</strong></u>...   \n",
       "\n",
       "                                   short_description  ...  \\\n",
       "0  Death Awaits. Agent 47 returns in HITMAN 3, th...  ...   \n",
       "1  Death Awaits. Agent 47 returns in HITMAN 3, th...  ...   \n",
       "\n",
       "  recommendations.total achievements.total  \\\n",
       "0                  5274                 83   \n",
       "1                  5274                 83   \n",
       "\n",
       "                            achievements.highlighted release_date.coming_soon  \\\n",
       "0  [{'name': 'The Result of Previous Training', '...                    False   \n",
       "1  [{'name': 'The Result of Previous Training', '...                    False   \n",
       "\n",
       "  release_date.date                    support_info.url support_info.email  \\\n",
       "0      20 Jan, 2022  https://www.ioi.dk/player-support/                      \n",
       "1      20 Jan, 2022  https://www.ioi.dk/player-support/                      \n",
       "\n",
       "  content_descriptors.ids                          content_descriptors.notes  \\\n",
       "0                  [2, 5]  This Game may contain content not appropriate ...   \n",
       "1                  [2, 5]  This Game may contain content not appropriate ...   \n",
       "\n",
       "  priceSEK  \n",
       "0    263.0  \n",
       "1    263.0  \n",
       "\n",
       "[2 rows x 52 columns]"
      ]
     },
     "execution_count": 33,
     "metadata": {},
     "output_type": "execute_result"
    }
   ],
   "source": [
    "if 'price_overview.final' in single.columns:\n",
    "    steamSE = single.assign(priceSEK=single[\"price_overview.final\"]/100*rate_sek)\n",
    "    #steamSE.round({'priceSEK': 1})\n",
    "    steamSE.priceSEK=steamSE.priceSEK.round()\n",
    "else:\n",
    "    print('No price')\n",
    "steamSE"
   ]
  },
  {
   "cell_type": "code",
   "execution_count": 34,
   "id": "ceced2e4",
   "metadata": {
    "scrolled": true
   },
   "outputs": [
    {
     "data": {
      "text/html": [
       "<div>\n",
       "<style scoped>\n",
       "    .dataframe tbody tr th:only-of-type {\n",
       "        vertical-align: middle;\n",
       "    }\n",
       "\n",
       "    .dataframe tbody tr th {\n",
       "        vertical-align: top;\n",
       "    }\n",
       "\n",
       "    .dataframe thead th {\n",
       "        text-align: right;\n",
       "    }\n",
       "</style>\n",
       "<table border=\"1\" class=\"dataframe\">\n",
       "  <thead>\n",
       "    <tr style=\"text-align: right;\">\n",
       "      <th></th>\n",
       "      <th>name</th>\n",
       "      <th>type</th>\n",
       "      <th>controller_support</th>\n",
       "      <th>price_overview.final</th>\n",
       "      <th>price_overview.discount_percent</th>\n",
       "      <th>price_overview.final_formatted</th>\n",
       "      <th>priceSEK</th>\n",
       "    </tr>\n",
       "  </thead>\n",
       "  <tbody>\n",
       "    <tr>\n",
       "      <th>0</th>\n",
       "      <td>HITMAN 3</td>\n",
       "      <td>game</td>\n",
       "      <td>full</td>\n",
       "      <td>2399</td>\n",
       "      <td>60</td>\n",
       "      <td>23,99€</td>\n",
       "      <td>263.0</td>\n",
       "    </tr>\n",
       "    <tr>\n",
       "      <th>1</th>\n",
       "      <td>HITMAN 3</td>\n",
       "      <td>game</td>\n",
       "      <td>full</td>\n",
       "      <td>2399</td>\n",
       "      <td>60</td>\n",
       "      <td>23,99€</td>\n",
       "      <td>263.0</td>\n",
       "    </tr>\n",
       "  </tbody>\n",
       "</table>\n",
       "</div>"
      ],
      "text/plain": [
       "       name  type controller_support  price_overview.final  \\\n",
       "0  HITMAN 3  game               full                  2399   \n",
       "1  HITMAN 3  game               full                  2399   \n",
       "\n",
       "   price_overview.discount_percent price_overview.final_formatted  priceSEK  \n",
       "0                               60                         23,99€     263.0  \n",
       "1                               60                         23,99€     263.0  "
      ]
     },
     "execution_count": 34,
     "metadata": {},
     "output_type": "execute_result"
    }
   ],
   "source": [
    "steamSE.filter(['name','type','controller_support',\n",
    "       'price_overview.final',\n",
    "       'price_overview.discount_percent',\n",
    "       'price_overview.final_formatted','priceSEK'],axis=1)"
   ]
  },
  {
   "cell_type": "code",
   "execution_count": 35,
   "id": "853f62e5",
   "metadata": {},
   "outputs": [
    {
     "data": {
      "text/plain": [
       "263.0"
      ]
     },
     "execution_count": 35,
     "metadata": {},
     "output_type": "execute_result"
    }
   ],
   "source": [
    "steamSE['priceSEK'].values[0]"
   ]
  }
 ],
 "metadata": {
  "kernelspec": {
   "display_name": "Python 3.10.0 ('scraping_prices-iCStyPHz')",
   "language": "python",
   "name": "python3"
  },
  "language_info": {
   "codemirror_mode": {
    "name": "ipython",
    "version": 3
   },
   "file_extension": ".py",
   "mimetype": "text/x-python",
   "name": "python",
   "nbconvert_exporter": "python",
   "pygments_lexer": "ipython3",
   "version": "3.10.0"
  },
  "vscode": {
   "interpreter": {
    "hash": "c818b9eec72219e7d362e3bf18220f729802fb300973581bcb291bde24c2d9ac"
   }
  }
 },
 "nbformat": 4,
 "nbformat_minor": 5
}
