{
 "cells": [
  {
   "cell_type": "code",
   "execution_count": 23,
   "id": "2f8b9073",
   "metadata": {},
   "outputs": [],
   "source": [
    "import requests\n",
    "import pandas as pd\n",
    "from bs4 import BeautifulSoup"
   ]
  },
  {
   "cell_type": "code",
   "execution_count": 10,
   "id": "3a99556f",
   "metadata": {},
   "outputs": [
    {
     "data": {
      "text/plain": [
       "'https://www.instant-gaming.com/en/search/?platform%5B%5D=1&type%5B%5D=steam&sort_by=bestsellers_desc&min_reviewsavg=10&max_reviewsavg=100&noreviews=1&min_price=0&max_price=999&noprice=1&instock=1&gametype=games&query=syberia'"
      ]
     },
     "execution_count": 10,
     "metadata": {},
     "output_type": "execute_result"
    }
   ],
   "source": [
    "url_endpoint = \"https://www.instant-gaming.com/en/search/\"\n",
    "reqParams = {\n",
    "    'q': 'Syberia'\n",
    "}\n",
    "\n",
    "import requests\n",
    "\n",
    "url = \"https://www.instant-gaming.com/en/search/?platform[]=1&type[]=steam&sort_by=bestsellers_desc&min_reviewsavg=10&max_reviewsavg=100&noreviews=1&min_price=0&max_price=999&noprice=1&instock=1&gametype=games&query=syberia\"\n",
    "\n",
    "params = {\n",
    "  'platform[]':1,\n",
    "  'type[]':'steam',\n",
    "  'sort_by':'bestsellers_desc',\n",
    "  'min_reviewsavg':10,\n",
    "  'max_reviewsavg':100,\n",
    "  'noreviews':1,\n",
    "  'min_price':0,\n",
    "  'max_price':999,\n",
    "  'noprice':1,\n",
    "  'instock':1,\n",
    "  'gametype':'games',\n",
    "  'query':'syberia'\n",
    "}\n",
    "\n",
    "payload={}\n",
    "\n",
    "headers = {\n",
    "  'Cookie': 'ig_tz=Europe%2FStockholm; PHPSESSID=785b5e6d263fa9c6620752fe34fa220f; ig_location=en'\n",
    "}\n",
    "\n",
    "response = requests.request(\"GET\", url_endpoint, headers=headers, data=payload, params=params)\n",
    "\n",
    "response.url\n"
   ]
  },
  {
   "cell_type": "code",
   "execution_count": 25,
   "id": "ee93d204",
   "metadata": {},
   "outputs": [
    {
     "data": {
      "text/plain": [
       "'https://www.instant-gaming.com/en/search/?q=Syberia'"
      ]
     },
     "execution_count": 25,
     "metadata": {},
     "output_type": "execute_result"
    }
   ],
   "source": [
    "webpage = requests.get(url_endpoint, params=reqParams)\n",
    "webpage.url"
   ]
  },
  {
   "cell_type": "code",
   "execution_count": 26,
   "id": "cee81ffa",
   "metadata": {},
   "outputs": [],
   "source": [
    "soup = BeautifulSoup(webpage.content, \"html.parser\")"
   ]
  },
  {
   "cell_type": "code",
   "execution_count": 27,
   "id": "e235b963",
   "metadata": {
    "scrolled": false
   },
   "outputs": [
    {
     "name": "stdout",
     "output_type": "stream",
     "text": [
      "https://www.instant-gaming.com/en/1244-buy-syberia-pc-mac-game-steam/\n",
      "1244\n",
      "https://www.instant-gaming.com/en/611-buy-syberia-3-pc-mac-game-steam/\n",
      "6113\n",
      "https://www.instant-gaming.com/en/1245-buy-syberia-2-pc-mac-game-steam/\n",
      "12452\n",
      "https://www.instant-gaming.com/en/10612-buy-syberia-the-world-before-deluxe-edition-deluxe-edition-pc-game-steam/\n",
      "10612\n",
      "https://www.instant-gaming.com/en/9406-buy-syberia-the-world-before-pc-game-steam-europe/\n",
      "9406\n",
      "https://www.instant-gaming.com/en/8106-buy-syberia-2-switch-switch-game-nintendo-eshop-europe/\n",
      "81062\n",
      "https://www.instant-gaming.com/en/6575-buy-syberia-switch-switch-game-nintendo-eshop-europe/\n",
      "6575\n",
      "https://www.instant-gaming.com/en/4917-buy-syberia-3-deluxe-edition-deluxe-edition-pc-mac-game-steam/\n",
      "49173\n",
      "https://www.instant-gaming.com/en/10229-buy-serious-sam-siberian-mayhem-pc-game-steam/\n",
      "10229\n",
      "https://www.instant-gaming.com/en/5321-buy-sniper-ghost-warrior-2-siberian-strike-pc-game-steam/\n",
      "53212\n"
     ]
    }
   ],
   "source": [
    "mu=soup.select('body > div.main-content > div > div > div > a')\n",
    "for mui in mu:\n",
    "    print(mui['href'])\n",
    "    e=int(''.join(filter(str.isdigit, mui['href'])))\n",
    "    print(str(e))"
   ]
  },
  {
   "cell_type": "code",
   "execution_count": 52,
   "id": "3d537be9",
   "metadata": {
    "scrolled": true
   },
   "outputs": [
    {
     "name": "stdout",
     "output_type": "stream",
     "text": [
      "11.03kr.\n",
      "17.54kr.\n",
      "11.03kr.\n",
      "297.80kr.\n",
      "244.29kr.\n",
      "109.57kr.\n",
      "121.26kr.\n",
      "55.06kr.\n",
      "144.32kr.\n",
      "17.43kr.\n"
     ]
    }
   ],
   "source": [
    "price=soup.select(\"body > div.main-content > div > div > div > div.information > div.price\")\n",
    "price\n",
    "for p in price:\n",
    "    print(p.text)"
   ]
  },
  {
   "cell_type": "code",
   "execution_count": 55,
   "id": "e9cf45d7",
   "metadata": {},
   "outputs": [
    {
     "name": "stdout",
     "output_type": "stream",
     "text": [
      "['11.03kr.', '17.54kr.', '11.03kr.', '297.80kr.', '244.29kr.', '109.57kr.', '121.26kr.', '55.06kr.', '144.32kr.', '17.43kr.']\n"
     ]
    }
   ],
   "source": [
    "xl=([x.text for x in soup.select(\"body > div.main-content > div > div > div > div.information > div.price\")])\n",
    "print(xl)"
   ]
  },
  {
   "cell_type": "markdown",
   "id": "bf7c9849",
   "metadata": {},
   "source": [
    "strings='https://www.instant-gaming.com/en/1244-buy-syberia-pc-mac-game-steam/'\n",
    "print(str(int(''.join(filter(str.isdigit, strings.split('-buy-')[0])))))"
   ]
  }
 ],
 "metadata": {
  "kernelspec": {
   "display_name": "Python 3.10.0 64-bit",
   "language": "python",
   "name": "python3"
  },
  "language_info": {
   "codemirror_mode": {
    "name": "ipython",
    "version": 3
   },
   "file_extension": ".py",
   "mimetype": "text/x-python",
   "name": "python",
   "nbconvert_exporter": "python",
   "pygments_lexer": "ipython3",
   "version": "3.10.0"
  },
  "vscode": {
   "interpreter": {
    "hash": "0a7ccb16110ce14ed3efea9a494288ae5ce82bd2448893b7f736893aef85df94"
   }
  }
 },
 "nbformat": 4,
 "nbformat_minor": 5
}
