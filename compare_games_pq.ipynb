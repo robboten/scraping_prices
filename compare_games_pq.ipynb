{
 "cells": [
  {
   "cell_type": "markdown",
   "id": "cd4ce239",
   "metadata": {},
   "source": [
    "%run steam_scrape.ipynb\n",
    "%run allkey_scrape.ipynb"
   ]
  },
  {
   "cell_type": "code",
   "execution_count": 13,
   "id": "03242827",
   "metadata": {},
   "outputs": [],
   "source": [
    "import scr_utils as scru"
   ]
  },
  {
   "cell_type": "code",
   "execution_count": 14,
   "id": "183db1c2",
   "metadata": {},
   "outputs": [],
   "source": [
    "import pandas as pd"
   ]
  },
  {
   "cell_type": "code",
   "execution_count": 15,
   "id": "2b5507b1",
   "metadata": {},
   "outputs": [],
   "source": [
    "steamSE=scru.from_paraquet('steam_prices')\n",
    "allkeysSE=scru.from_paraquet('allkey_prices')"
   ]
  },
  {
   "cell_type": "code",
   "execution_count": 16,
   "id": "35482f2d",
   "metadata": {},
   "outputs": [],
   "source": [
    "gameName='Hitman 3'\n",
    "gameNameAlt='Hitman 3'"
   ]
  },
  {
   "cell_type": "code",
   "execution_count": 17,
   "id": "7451485b",
   "metadata": {
    "scrolled": true
   },
   "outputs": [
    {
     "name": "stdout",
     "output_type": "stream",
     "text": [
      "[218.68 'Eneba'\n",
      " 'https://www.eneba.com/steam-hitman-3-pc-steam-key-global?af_id=allkeyshop']\n"
     ]
    }
   ],
   "source": [
    "print(allkeysSE.loc[allkeysSE['platform']=='steam',['priceSEK','name','affiliateUrl']].values[0])"
   ]
  },
  {
   "cell_type": "code",
   "execution_count": 18,
   "id": "a625fad2",
   "metadata": {},
   "outputs": [
    {
     "name": "stdout",
     "output_type": "stream",
     "text": [
      "218.68\n"
     ]
    }
   ],
   "source": [
    "print(allkeysSE.loc[allkeysSE['platform']=='steam','priceSEK'].values[0])"
   ]
  },
  {
   "cell_type": "code",
   "execution_count": 19,
   "id": "853f62e5",
   "metadata": {},
   "outputs": [
    {
     "data": {
      "text/plain": [
       "263.0"
      ]
     },
     "execution_count": 19,
     "metadata": {},
     "output_type": "execute_result"
    }
   ],
   "source": [
    "steamSE['priceSEK'].values[0]"
   ]
  },
  {
   "cell_type": "code",
   "execution_count": 20,
   "id": "8c7b5722",
   "metadata": {},
   "outputs": [
    {
     "name": "stdout",
     "output_type": "stream",
     "text": [
      "Price for Hitman 3 is Steam: 263.0 AllKeyShop: 218.68\n"
     ]
    }
   ],
   "source": [
    "print(f\"Price for {gameName} is Steam: {steamSE['priceSEK'].values[0]} AllKeyShop: {allkeysSE.loc[allkeysSE['platform']=='steam','priceSEK'].values[0]}\")"
   ]
  },
  {
   "cell_type": "code",
   "execution_count": 21,
   "id": "8143e91e",
   "metadata": {
    "scrolled": true
   },
   "outputs": [
    {
     "name": "stdout",
     "output_type": "stream",
     "text": [
      "218.68\n"
     ]
    }
   ],
   "source": [
    "print(f\"{min(steamSE['priceSEK'].values[0],allkeysSE.loc[allkeysSE['platform']=='steam','priceSEK'].values[0])}\")"
   ]
  },
  {
   "cell_type": "code",
   "execution_count": 22,
   "id": "e2b4756f",
   "metadata": {},
   "outputs": [
    {
     "data": {
      "text/html": [
       "<div>\n",
       "<style scoped>\n",
       "    .dataframe tbody tr th:only-of-type {\n",
       "        vertical-align: middle;\n",
       "    }\n",
       "\n",
       "    .dataframe tbody tr th {\n",
       "        vertical-align: top;\n",
       "    }\n",
       "\n",
       "    .dataframe thead th {\n",
       "        text-align: right;\n",
       "    }\n",
       "</style>\n",
       "<table border=\"1\" class=\"dataframe\">\n",
       "  <thead>\n",
       "    <tr style=\"text-align: right;\">\n",
       "      <th></th>\n",
       "      <th>id_x</th>\n",
       "      <th>affiliateUrl</th>\n",
       "      <th>isActive</th>\n",
       "      <th>merchant</th>\n",
       "      <th>edition</th>\n",
       "      <th>region</th>\n",
       "      <th>stock</th>\n",
       "      <th>platform</th>\n",
       "      <th>price.eur.bestCoupon.code</th>\n",
       "      <th>price.eur.bestCoupon.discountValue</th>\n",
       "      <th>price.eur.bestCoupon.discountStrategy</th>\n",
       "      <th>price.eur.bestCoupon.isCashback</th>\n",
       "      <th>currency</th>\n",
       "      <th>price</th>\n",
       "      <th>price.eur.bestCoupon</th>\n",
       "      <th>name</th>\n",
       "      <th>priceSEK</th>\n",
       "    </tr>\n",
       "  </thead>\n",
       "  <tbody>\n",
       "    <tr>\n",
       "      <th>3</th>\n",
       "      <td>134652039</td>\n",
       "      <td>https://www.instant-gaming.com/en/12619-/?igr=...</td>\n",
       "      <td>True</td>\n",
       "      <td>13</td>\n",
       "      <td>1</td>\n",
       "      <td>2</td>\n",
       "      <td>InStock</td>\n",
       "      <td>steam</td>\n",
       "      <td>None</td>\n",
       "      <td>None</td>\n",
       "      <td>None</td>\n",
       "      <td>None</td>\n",
       "      <td>eur</td>\n",
       "      <td>23.77</td>\n",
       "      <td>NaN</td>\n",
       "      <td>Instant Gaming</td>\n",
       "      <td>260.16</td>\n",
       "    </tr>\n",
       "    <tr>\n",
       "      <th>5</th>\n",
       "      <td>134569366</td>\n",
       "      <td>https://www.cdkeys.com/hitman-3-pc-steam?mw_ar...</td>\n",
       "      <td>True</td>\n",
       "      <td>9</td>\n",
       "      <td>1</td>\n",
       "      <td>2</td>\n",
       "      <td>InStock</td>\n",
       "      <td>steam</td>\n",
       "      <td>None</td>\n",
       "      <td>None</td>\n",
       "      <td>None</td>\n",
       "      <td>None</td>\n",
       "      <td>eur</td>\n",
       "      <td>25.79</td>\n",
       "      <td>NaN</td>\n",
       "      <td>CDKeys.com</td>\n",
       "      <td>282.27</td>\n",
       "    </tr>\n",
       "  </tbody>\n",
       "</table>\n",
       "</div>"
      ],
      "text/plain": [
       "        id_x                                       affiliateUrl  isActive  \\\n",
       "3  134652039  https://www.instant-gaming.com/en/12619-/?igr=...      True   \n",
       "5  134569366  https://www.cdkeys.com/hitman-3-pc-steam?mw_ar...      True   \n",
       "\n",
       "  merchant edition region    stock platform price.eur.bestCoupon.code  \\\n",
       "3       13       1      2  InStock    steam                      None   \n",
       "5        9       1      2  InStock    steam                      None   \n",
       "\n",
       "  price.eur.bestCoupon.discountValue price.eur.bestCoupon.discountStrategy  \\\n",
       "3                               None                                  None   \n",
       "5                               None                                  None   \n",
       "\n",
       "  price.eur.bestCoupon.isCashback currency  price  price.eur.bestCoupon  \\\n",
       "3                            None      eur  23.77                   NaN   \n",
       "5                            None      eur  25.79                   NaN   \n",
       "\n",
       "             name  priceSEK  \n",
       "3  Instant Gaming    260.16  \n",
       "5      CDKeys.com    282.27  "
      ]
     },
     "execution_count": 22,
     "metadata": {},
     "output_type": "execute_result"
    }
   ],
   "source": [
    "wanted=['13','63','157','126','22','9']\n",
    "selectedAllkeysSE=allkeysSE[allkeysSE.merchant.isin(wanted) == True]\n",
    "selectedAllkeysSE"
   ]
  },
  {
   "cell_type": "code",
   "execution_count": 23,
   "id": "06debc1d",
   "metadata": {},
   "outputs": [
    {
     "name": "stdout",
     "output_type": "stream",
     "text": [
      "Allkeys have best price at 260.16 SEK from Instant Gaming (https://www.instant-gaming.com/en/12619-/?igr=289098) compared to Steam: 263.0 SEK\n"
     ]
    }
   ],
   "source": [
    "allkeycheapest=selectedAllkeysSE.loc[selectedAllkeysSE['platform']=='steam',['priceSEK','name','affiliateUrl']].sort_values(by='priceSEK').head(3)\n",
    "steamPrice=steamSE['priceSEK'].values[0]\n",
    "if not allkeycheapest.empty:\n",
    "    allkeysPrice=allkeycheapest['priceSEK'].values[0]\n",
    "    allkeysVendor=allkeycheapest['name'].values[0]\n",
    "    allkeysVendorUrl=allkeycheapest['affiliateUrl'].values[0].rsplit('?af_id=allkeyshop', 1)[0]\n",
    "\n",
    "    if allkeysPrice<steamPrice:\n",
    "        print(f\"Allkeys have best price at {allkeysPrice} SEK from {allkeysVendor} ({allkeysVendorUrl}) compared to Steam: {steamPrice} SEK\")\n",
    "    else:\n",
    "        print(f\"Steam is cheapest at {steamPrice} SEK\")\n",
    "else:\n",
    "    print(f\"Steam is the only option at {steamPrice} SEK\")"
   ]
  }
 ],
 "metadata": {
  "kernelspec": {
   "display_name": "Python 3.10.0 ('scraping_prices-iCStyPHz')",
   "language": "python",
   "name": "python3"
  },
  "language_info": {
   "codemirror_mode": {
    "name": "ipython",
    "version": 3
   },
   "file_extension": ".py",
   "mimetype": "text/x-python",
   "name": "python",
   "nbconvert_exporter": "python",
   "pygments_lexer": "ipython3",
   "version": "3.10.0"
  },
  "vscode": {
   "interpreter": {
    "hash": "c818b9eec72219e7d362e3bf18220f729802fb300973581bcb291bde24c2d9ac"
   }
  }
 },
 "nbformat": 4,
 "nbformat_minor": 5
}
