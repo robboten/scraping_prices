{
 "cells": [
  {
   "cell_type": "code",
   "execution_count": 1,
   "id": "cd4ce239",
   "metadata": {},
   "outputs": [
    {
     "name": "stdout",
     "output_type": "stream",
     "text": [
      "<Response [200]>\n"
     ]
    },
    {
     "name": "stderr",
     "output_type": "stream",
     "text": [
      "C:\\Users\\robbo\\AppData\\Local\\Temp\\ipykernel_22664\\3546206248.py:1: SettingWithCopyWarning: \n",
      "A value is trying to be set on a copy of a slice from a DataFrame.\n",
      "Try using .loc[row_indexer,col_indexer] = value instead\n",
      "\n",
      "See the caveats in the documentation: https://pandas.pydata.org/pandas-docs/stable/user_guide/indexing.html#returning-a-view-versus-a-copy\n",
      "  steamGamedf['url'] = steamGamedf.agg('https://store.steampowered.com/api/appdetails?appids={0[appid]}'.format, axis=1)\n"
     ]
    },
    {
     "name": "stdout",
     "output_type": "stream",
     "text": [
      "<Response [200]>\n"
     ]
    }
   ],
   "source": [
    "%run steam_scrape.ipynb\n",
    "%run allkey_scrape.ipynb"
   ]
  },
  {
   "cell_type": "code",
   "execution_count": 2,
   "id": "03242827",
   "metadata": {},
   "outputs": [],
   "source": [
    "import requests\n",
    "from bs4 import BeautifulSoup"
   ]
  },
  {
   "cell_type": "code",
   "execution_count": 3,
   "id": "183db1c2",
   "metadata": {},
   "outputs": [],
   "source": [
    "import pandas as pd\n",
    "import json\n",
    "import numpy as np"
   ]
  },
  {
   "cell_type": "code",
   "execution_count": 4,
   "id": "35482f2d",
   "metadata": {},
   "outputs": [],
   "source": [
    "gameName='Hitman 3'\n",
    "gameNameAlt='Hitman 3'"
   ]
  },
  {
   "cell_type": "code",
   "execution_count": 5,
   "id": "7451485b",
   "metadata": {
    "scrolled": true
   },
   "outputs": [
    {
     "name": "stdout",
     "output_type": "stream",
     "text": [
      "[218.78 'Eneba'\n",
      " 'https://www.eneba.com/steam-hitman-3-pc-steam-key-global?af_id=allkeyshop']\n"
     ]
    }
   ],
   "source": [
    "print(allkeysSE.loc[allkeysSE['platform']=='steam',['priceSEK','name','affiliateUrl']].values[0])"
   ]
  },
  {
   "cell_type": "code",
   "execution_count": 6,
   "id": "a625fad2",
   "metadata": {},
   "outputs": [
    {
     "name": "stdout",
     "output_type": "stream",
     "text": [
      "218.78\n"
     ]
    }
   ],
   "source": [
    "print(allkeysSE.loc[allkeysSE['platform']=='steam','priceSEK'].values[0])"
   ]
  },
  {
   "cell_type": "code",
   "execution_count": 7,
   "id": "853f62e5",
   "metadata": {},
   "outputs": [
    {
     "data": {
      "text/plain": [
       "263.0"
      ]
     },
     "execution_count": 7,
     "metadata": {},
     "output_type": "execute_result"
    }
   ],
   "source": [
    "steamSE['priceSEK'].values[0]"
   ]
  },
  {
   "cell_type": "code",
   "execution_count": 8,
   "id": "8c7b5722",
   "metadata": {},
   "outputs": [
    {
     "name": "stdout",
     "output_type": "stream",
     "text": [
      "Price for Hitman 3 is Steam: 263.0 AllKeyShop: 218.78\n"
     ]
    }
   ],
   "source": [
    "print(f\"Price for {gameName} is Steam: {steamSE['priceSEK'].values[0]} AllKeyShop: {allkeysSE.loc[allkeysSE['platform']=='steam','priceSEK'].values[0]}\")"
   ]
  },
  {
   "cell_type": "code",
   "execution_count": 9,
   "id": "8143e91e",
   "metadata": {
    "scrolled": true
   },
   "outputs": [
    {
     "name": "stdout",
     "output_type": "stream",
     "text": [
      "218.78\n"
     ]
    }
   ],
   "source": [
    "print(f\"{min(steamSE['priceSEK'].values[0],allkeysSE.loc[allkeysSE['platform']=='steam','priceSEK'].values[0])}\")"
   ]
  },
  {
   "cell_type": "code",
   "execution_count": 10,
   "id": "06debc1d",
   "metadata": {},
   "outputs": [
    {
     "name": "stdout",
     "output_type": "stream",
     "text": [
      "Steam is cheapest at 263.0 SEK\n"
     ]
    }
   ],
   "source": [
    "allkeycheapest=selectedAllkeysSE.loc[selectedAllkeysSE['platform']=='steam',['priceSEK','name','affiliateUrl']].sort_values(by='priceSEK').head(3)\n",
    "steamPrice=steamSE['priceSEK'].values[0]\n",
    "if not allkeycheapest.empty:\n",
    "    allkeysPrice=allkeycheapest['priceSEK'].values[0]\n",
    "    allkeysVendor=allkeycheapest['name'].values[0]\n",
    "    allkeysVendorUrl=allkeycheapest['affiliateUrl'].values[0].rsplit('?af_id=allkeyshop', 1)[0]\n",
    "\n",
    "    if allkeysPrice<steamPrice:\n",
    "        print(f\"Allkeys have best price at {allkeysPrice} SEK from {allkeysVendor} ({allkeysVendorUrl}) compared to Steam: {steamPrice} SEK\")\n",
    "    else:\n",
    "        print(f\"Steam is cheapest at {steamPrice} SEK\")\n",
    "else:\n",
    "    print(f\"Steam is the only option at {steamPrice} SEK\")"
   ]
  }
 ],
 "metadata": {
  "kernelspec": {
   "display_name": "Python 3.10.0 ('scraping_prices-iCStyPHz')",
   "language": "python",
   "name": "python3"
  },
  "language_info": {
   "codemirror_mode": {
    "name": "ipython",
    "version": 3
   },
   "file_extension": ".py",
   "mimetype": "text/x-python",
   "name": "python",
   "nbconvert_exporter": "python",
   "pygments_lexer": "ipython3",
   "version": "3.10.0"
  },
  "vscode": {
   "interpreter": {
    "hash": "c818b9eec72219e7d362e3bf18220f729802fb300973581bcb291bde24c2d9ac"
   }
  }
 },
 "nbformat": 4,
 "nbformat_minor": 5
}
