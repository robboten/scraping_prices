{
 "cells": [
  {
   "cell_type": "code",
   "execution_count": 18,
   "id": "183db1c2",
   "metadata": {},
   "outputs": [],
   "source": [
    "import requests\n",
    "import pandas as pd\n",
    "#import json\n",
    "#import numpy as np"
   ]
  },
  {
   "cell_type": "code",
   "execution_count": 19,
   "id": "11d6baec",
   "metadata": {},
   "outputs": [
    {
     "data": {
      "text/plain": [
       "'2022-10-19'"
      ]
     },
     "execution_count": 19,
     "metadata": {},
     "output_type": "execute_result"
    }
   ],
   "source": [
    "from datetime import date\n",
    "\n",
    "today = date.today()\n",
    "today_date = today.strftime(\"%Y-%m-%d\")\n",
    "today_date"
   ]
  },
  {
   "cell_type": "markdown",
   "id": "b12d5a6c",
   "metadata": {},
   "source": [
    "--- here starts currency collection from ecb-------"
   ]
  },
  {
   "cell_type": "code",
   "execution_count": 20,
   "id": "f61a05f9",
   "metadata": {},
   "outputs": [],
   "source": [
    "# Building blocks for the URL\n",
    "entrypoint = 'https://sdw-wsrest.ecb.europa.eu/service/' # Using protocol 'https'\n",
    "resource = 'data'           # The resource for data queries is always'data'\n",
    "flowRef ='EXR'              # Dataflow describing the data that needs to be returned, exchange rates in this case\n",
    "key = 'D.SEK.EUR.SP00.A'    # Defining the dimension values, explained below\n",
    "\n",
    "# Define the parameters\n",
    "parameters = {\n",
    "    'startPeriod': '2022-01-01',  # Start date of the time series\n",
    "    'endPeriod': today_date,     # End of the time series\n",
    "    #'format':'jsondata'\n",
    "}"
   ]
  },
  {
   "cell_type": "code",
   "execution_count": 21,
   "id": "d601effe",
   "metadata": {},
   "outputs": [],
   "source": [
    "# Construct the URL: https://sdw-wsrest.ecb.europa.eu/service/data/EXR/D.CHF.EUR.SP00.A\n",
    "request_url = entrypoint + resource + '/'+ flowRef + '/' + key\n",
    "\n",
    "# Make the HTTP request again, now requesting for CSV format\n",
    "response = requests.get(request_url, params=parameters, headers={'Accept': 'text/csv'})\n",
    "#response = requests.get(request_url, params=parameters, headers={'Accept': 'application/vnd.sdmx.data+json;version=1.0.0-wd'})\n",
    "# Response succesful? (Response code 200)\n",
    "#print(response)"
   ]
  },
  {
   "cell_type": "markdown",
   "id": "4335f022",
   "metadata": {},
   "source": [
    "# Construct the URL: https://sdw-wsrest.ecb.europa.eu/service/data/EXR/D.CHF.EUR.SP00.A\n",
    "request_url = entrypoint + resource + '/'+ flowRef + '/' + key\n",
    "\n",
    "# Make the HTTP request again, now requesting for CSV format\n",
    "response = requests.get(request_url, params=parameters, headers={'Accept': 'application/vnd.sdmx.data+json;version=1.0.0-wd'})\n",
    "# Response succesful? (Response code 200)\n",
    "response.json()\n"
   ]
  },
  {
   "cell_type": "code",
   "execution_count": 22,
   "id": "0eea7a26",
   "metadata": {},
   "outputs": [],
   "source": [
    "open('csvs/temp.csv', 'wb').write(response.content)\n",
    "currency_df = pd.read_csv('csvs/temp.csv')"
   ]
  },
  {
   "cell_type": "code",
   "execution_count": 23,
   "id": "e1ed8b00",
   "metadata": {},
   "outputs": [],
   "source": [
    "#currency_df.keys()"
   ]
  },
  {
   "cell_type": "code",
   "execution_count": 24,
   "id": "9644fbae",
   "metadata": {
    "scrolled": false
   },
   "outputs": [
    {
     "data": {
      "text/html": [
       "<div>\n",
       "<style scoped>\n",
       "    .dataframe tbody tr th:only-of-type {\n",
       "        vertical-align: middle;\n",
       "    }\n",
       "\n",
       "    .dataframe tbody tr th {\n",
       "        vertical-align: top;\n",
       "    }\n",
       "\n",
       "    .dataframe thead th {\n",
       "        text-align: right;\n",
       "    }\n",
       "</style>\n",
       "<table border=\"1\" class=\"dataframe\">\n",
       "  <thead>\n",
       "    <tr style=\"text-align: right;\">\n",
       "      <th></th>\n",
       "      <th>KEY</th>\n",
       "      <th>FREQ</th>\n",
       "      <th>CURRENCY</th>\n",
       "      <th>CURRENCY_DENOM</th>\n",
       "      <th>EXR_TYPE</th>\n",
       "      <th>EXR_SUFFIX</th>\n",
       "      <th>TIME_PERIOD</th>\n",
       "      <th>OBS_VALUE</th>\n",
       "      <th>OBS_STATUS</th>\n",
       "      <th>OBS_CONF</th>\n",
       "      <th>...</th>\n",
       "      <th>COMPILATION</th>\n",
       "      <th>COVERAGE</th>\n",
       "      <th>DECIMALS</th>\n",
       "      <th>NAT_TITLE</th>\n",
       "      <th>SOURCE_AGENCY</th>\n",
       "      <th>SOURCE_PUB</th>\n",
       "      <th>TITLE</th>\n",
       "      <th>TITLE_COMPL</th>\n",
       "      <th>UNIT</th>\n",
       "      <th>UNIT_MULT</th>\n",
       "    </tr>\n",
       "  </thead>\n",
       "  <tbody>\n",
       "    <tr>\n",
       "      <th>205</th>\n",
       "      <td>EXR.D.SEK.EUR.SP00.A</td>\n",
       "      <td>D</td>\n",
       "      <td>SEK</td>\n",
       "      <td>EUR</td>\n",
       "      <td>SP00</td>\n",
       "      <td>A</td>\n",
       "      <td>2022-10-19</td>\n",
       "      <td>10.9448</td>\n",
       "      <td>A</td>\n",
       "      <td>F</td>\n",
       "      <td>...</td>\n",
       "      <td>NaN</td>\n",
       "      <td>NaN</td>\n",
       "      <td>4</td>\n",
       "      <td>NaN</td>\n",
       "      <td>4F0</td>\n",
       "      <td>NaN</td>\n",
       "      <td>Swedish krona/Euro</td>\n",
       "      <td>ECB reference exchange rate, Swedish krona/Eur...</td>\n",
       "      <td>SEK</td>\n",
       "      <td>0</td>\n",
       "    </tr>\n",
       "  </tbody>\n",
       "</table>\n",
       "<p>1 rows × 32 columns</p>\n",
       "</div>"
      ],
      "text/plain": [
       "                      KEY FREQ CURRENCY CURRENCY_DENOM EXR_TYPE EXR_SUFFIX  \\\n",
       "205  EXR.D.SEK.EUR.SP00.A    D      SEK            EUR     SP00          A   \n",
       "\n",
       "    TIME_PERIOD  OBS_VALUE OBS_STATUS OBS_CONF  ...  COMPILATION  COVERAGE  \\\n",
       "205  2022-10-19    10.9448          A        F  ...          NaN       NaN   \n",
       "\n",
       "    DECIMALS  NAT_TITLE SOURCE_AGENCY  SOURCE_PUB               TITLE  \\\n",
       "205        4        NaN           4F0         NaN  Swedish krona/Euro   \n",
       "\n",
       "                                           TITLE_COMPL  UNIT  UNIT_MULT  \n",
       "205  ECB reference exchange rate, Swedish krona/Eur...   SEK          0  \n",
       "\n",
       "[1 rows x 32 columns]"
      ]
     },
     "execution_count": 24,
     "metadata": {},
     "output_type": "execute_result"
    }
   ],
   "source": [
    "currency_df.tail(1)\n"
   ]
  },
  {
   "cell_type": "code",
   "execution_count": 29,
   "id": "fcd9a7a4",
   "metadata": {},
   "outputs": [
    {
     "data": {
      "text/html": [
       "<div>\n",
       "<style scoped>\n",
       "    .dataframe tbody tr th:only-of-type {\n",
       "        vertical-align: middle;\n",
       "    }\n",
       "\n",
       "    .dataframe tbody tr th {\n",
       "        vertical-align: top;\n",
       "    }\n",
       "\n",
       "    .dataframe thead th {\n",
       "        text-align: right;\n",
       "    }\n",
       "</style>\n",
       "<table border=\"1\" class=\"dataframe\">\n",
       "  <thead>\n",
       "    <tr style=\"text-align: right;\">\n",
       "      <th></th>\n",
       "      <th>OBS_VALUE</th>\n",
       "      <th>KEY</th>\n",
       "      <th>CURRENCY</th>\n",
       "    </tr>\n",
       "    <tr>\n",
       "      <th>TIME_PERIOD</th>\n",
       "      <th></th>\n",
       "      <th></th>\n",
       "      <th></th>\n",
       "    </tr>\n",
       "  </thead>\n",
       "  <tbody>\n",
       "    <tr>\n",
       "      <th>2022-10-13</th>\n",
       "      <td>11.0098</td>\n",
       "      <td>EXR.D.SEK.EUR.SP00.A</td>\n",
       "      <td>SEK</td>\n",
       "    </tr>\n",
       "    <tr>\n",
       "      <th>2022-10-14</th>\n",
       "      <td>11.0035</td>\n",
       "      <td>EXR.D.SEK.EUR.SP00.A</td>\n",
       "      <td>SEK</td>\n",
       "    </tr>\n",
       "    <tr>\n",
       "      <th>2022-10-17</th>\n",
       "      <td>10.9893</td>\n",
       "      <td>EXR.D.SEK.EUR.SP00.A</td>\n",
       "      <td>SEK</td>\n",
       "    </tr>\n",
       "    <tr>\n",
       "      <th>2022-10-18</th>\n",
       "      <td>10.9060</td>\n",
       "      <td>EXR.D.SEK.EUR.SP00.A</td>\n",
       "      <td>SEK</td>\n",
       "    </tr>\n",
       "    <tr>\n",
       "      <th>2022-10-19</th>\n",
       "      <td>10.9448</td>\n",
       "      <td>EXR.D.SEK.EUR.SP00.A</td>\n",
       "      <td>SEK</td>\n",
       "    </tr>\n",
       "  </tbody>\n",
       "</table>\n",
       "</div>"
      ],
      "text/plain": [
       "             OBS_VALUE                   KEY CURRENCY\n",
       "TIME_PERIOD                                          \n",
       "2022-10-13     11.0098  EXR.D.SEK.EUR.SP00.A      SEK\n",
       "2022-10-14     11.0035  EXR.D.SEK.EUR.SP00.A      SEK\n",
       "2022-10-17     10.9893  EXR.D.SEK.EUR.SP00.A      SEK\n",
       "2022-10-18     10.9060  EXR.D.SEK.EUR.SP00.A      SEK\n",
       "2022-10-19     10.9448  EXR.D.SEK.EUR.SP00.A      SEK"
      ]
     },
     "execution_count": 29,
     "metadata": {},
     "output_type": "execute_result"
    }
   ],
   "source": [
    "ts = currency_df.filter(['TIME_PERIOD', 'OBS_VALUE', 'KEY', 'CURRENCY'], axis=1)\n",
    "# 'TIME_PERIOD' was of type 'object' (as seen in df.info). Convert it to datetime first\n",
    "ts['TIME_PERIOD'] = pd.to_datetime(ts['TIME_PERIOD'])\n",
    "# Set 'TIME_PERIOD' to be the index\n",
    "ts = ts.set_index('TIME_PERIOD')\n",
    "# Print the last 5 rows to screen\n",
    "ts.tail(5)"
   ]
  },
  {
   "cell_type": "code",
   "execution_count": 27,
   "id": "90d58da0",
   "metadata": {},
   "outputs": [
    {
     "data": {
      "text/plain": [
       "10.9448"
      ]
     },
     "execution_count": 27,
     "metadata": {},
     "output_type": "execute_result"
    }
   ],
   "source": [
    "rate_sek = currency_df.tail(1)['OBS_VALUE'].values[0]\n",
    "rate_sek"
   ]
  },
  {
   "cell_type": "markdown",
   "id": "bd19ef5d",
   "metadata": {},
   "source": [
    "--- end of currency collection -----"
   ]
  }
 ],
 "metadata": {
  "kernelspec": {
   "display_name": "Python 3.9.2 64-bit",
   "language": "python",
   "name": "python3"
  },
  "language_info": {
   "codemirror_mode": {
    "name": "ipython",
    "version": 3
   },
   "file_extension": ".py",
   "mimetype": "text/x-python",
   "name": "python",
   "nbconvert_exporter": "python",
   "pygments_lexer": "ipython3",
   "version": "3.9.2"
  },
  "vscode": {
   "interpreter": {
    "hash": "916dbcbb3f70747c44a77c7bcd40155683ae19c65e1c03b4aa3499c5328201f1"
   }
  }
 },
 "nbformat": 4,
 "nbformat_minor": 5
}
