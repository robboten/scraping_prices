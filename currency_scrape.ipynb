{
 "cells": [
  {
   "cell_type": "code",
   "execution_count": 1,
   "id": "183db1c2",
   "metadata": {},
   "outputs": [],
   "source": [
    "import requests\n",
    "import pandas as pd\n",
    "import json\n",
    "import numpy as np"
   ]
  },
  {
   "cell_type": "code",
   "execution_count": 2,
   "id": "35482f2d",
   "metadata": {},
   "outputs": [],
   "source": [
    "gameName='Hitman 3'\n",
    "gameNameAlt='Hitman 3'"
   ]
  },
  {
   "cell_type": "markdown",
   "id": "b12d5a6c",
   "metadata": {},
   "source": [
    "--- here starts currency collection from ecb-------"
   ]
  },
  {
   "cell_type": "code",
   "execution_count": 3,
   "id": "f61a05f9",
   "metadata": {},
   "outputs": [],
   "source": [
    "# Building blocks for the URL\n",
    "entrypoint = 'https://sdw-wsrest.ecb.europa.eu/service/' # Using protocol 'https'\n",
    "resource = 'data'           # The resource for data queries is always'data'\n",
    "flowRef ='EXR'              # Dataflow describing the data that needs to be returned, exchange rates in this case\n",
    "key = 'D.SEK.EUR.SP00.A'    # Defining the dimension values, explained below\n",
    "\n",
    "# Define the parameters\n",
    "parameters = {\n",
    "    'startPeriod': '2000-01-01',  # Start date of the time series\n",
    "    'endPeriod': '2022-10-10'     # End of the time series\n",
    "}"
   ]
  },
  {
   "cell_type": "code",
   "execution_count": 4,
   "id": "d601effe",
   "metadata": {},
   "outputs": [
    {
     "name": "stdout",
     "output_type": "stream",
     "text": [
      "<Response [200]>\n"
     ]
    }
   ],
   "source": [
    "# Construct the URL: https://sdw-wsrest.ecb.europa.eu/service/data/EXR/D.CHF.EUR.SP00.A\n",
    "request_url = entrypoint + resource + '/'+ flowRef + '/' + key\n",
    "\n",
    "# Make the HTTP request again, now requesting for CSV format\n",
    "response = requests.get(request_url, params=parameters, headers={'Accept': 'text/csv'})\n",
    "# Response succesful? (Response code 200)\n",
    "print(response)"
   ]
  },
  {
   "cell_type": "code",
   "execution_count": 5,
   "id": "0eea7a26",
   "metadata": {},
   "outputs": [],
   "source": [
    "open('csvs/temp.csv', 'wb').write(response.content)\n",
    "currency_df = pd.read_csv('csvs/temp.csv')"
   ]
  },
  {
   "cell_type": "code",
   "execution_count": 6,
   "id": "e1ed8b00",
   "metadata": {},
   "outputs": [
    {
     "data": {
      "text/plain": [
       "Index(['KEY', 'FREQ', 'CURRENCY', 'CURRENCY_DENOM', 'EXR_TYPE', 'EXR_SUFFIX',\n",
       "       'TIME_PERIOD', 'OBS_VALUE', 'OBS_STATUS', 'OBS_CONF', 'OBS_PRE_BREAK',\n",
       "       'OBS_COM', 'TIME_FORMAT', 'BREAKS', 'COLLECTION', 'COMPILING_ORG',\n",
       "       'DISS_ORG', 'DOM_SER_IDS', 'PUBL_ECB', 'PUBL_MU', 'PUBL_PUBLIC',\n",
       "       'UNIT_INDEX_BASE', 'COMPILATION', 'COVERAGE', 'DECIMALS', 'NAT_TITLE',\n",
       "       'SOURCE_AGENCY', 'SOURCE_PUB', 'TITLE', 'TITLE_COMPL', 'UNIT',\n",
       "       'UNIT_MULT'],\n",
       "      dtype='object')"
      ]
     },
     "execution_count": 6,
     "metadata": {},
     "output_type": "execute_result"
    }
   ],
   "source": [
    "currency_df.keys()"
   ]
  },
  {
   "cell_type": "code",
   "execution_count": 7,
   "id": "9644fbae",
   "metadata": {
    "scrolled": false
   },
   "outputs": [
    {
     "data": {
      "text/plain": [
       "5890    10.9502\n",
       "Name: OBS_VALUE, dtype: float64"
      ]
     },
     "execution_count": 7,
     "metadata": {},
     "output_type": "execute_result"
    }
   ],
   "source": [
    "currency_df.tail(1)['OBS_VALUE']"
   ]
  },
  {
   "cell_type": "code",
   "execution_count": 8,
   "id": "fef3024a",
   "metadata": {},
   "outputs": [
    {
     "data": {
      "text/plain": [
       "182.75883800000003"
      ]
     },
     "execution_count": 8,
     "metadata": {},
     "output_type": "execute_result"
    }
   ],
   "source": [
    "10.9502*16.69"
   ]
  },
  {
   "cell_type": "code",
   "execution_count": 9,
   "id": "fcd9a7a4",
   "metadata": {},
   "outputs": [
    {
     "data": {
      "text/html": [
       "<div>\n",
       "<style scoped>\n",
       "    .dataframe tbody tr th:only-of-type {\n",
       "        vertical-align: middle;\n",
       "    }\n",
       "\n",
       "    .dataframe tbody tr th {\n",
       "        vertical-align: top;\n",
       "    }\n",
       "\n",
       "    .dataframe thead th {\n",
       "        text-align: right;\n",
       "    }\n",
       "</style>\n",
       "<table border=\"1\" class=\"dataframe\">\n",
       "  <thead>\n",
       "    <tr style=\"text-align: right;\">\n",
       "      <th></th>\n",
       "      <th>OBS_VALUE</th>\n",
       "    </tr>\n",
       "    <tr>\n",
       "      <th>TIME_PERIOD</th>\n",
       "      <th></th>\n",
       "    </tr>\n",
       "  </thead>\n",
       "  <tbody>\n",
       "    <tr>\n",
       "      <th>2022-10-10</th>\n",
       "      <td>10.9502</td>\n",
       "    </tr>\n",
       "  </tbody>\n",
       "</table>\n",
       "</div>"
      ],
      "text/plain": [
       "             OBS_VALUE\n",
       "TIME_PERIOD           \n",
       "2022-10-10     10.9502"
      ]
     },
     "execution_count": 9,
     "metadata": {},
     "output_type": "execute_result"
    }
   ],
   "source": [
    "ts = currency_df.filter(['TIME_PERIOD', 'OBS_VALUE'], axis=1)\n",
    "# 'TIME_PERIOD' was of type 'object' (as seen in df.info). Convert it to datetime first\n",
    "ts['TIME_PERIOD'] = pd.to_datetime(ts['TIME_PERIOD'])\n",
    "# Set 'TIME_PERIOD' to be the index\n",
    "ts = ts.set_index('TIME_PERIOD')\n",
    "# Print the last 5 rows to screen\n",
    "ts.tail(1)"
   ]
  },
  {
   "cell_type": "code",
   "execution_count": 10,
   "id": "90d58da0",
   "metadata": {},
   "outputs": [
    {
     "data": {
      "text/plain": [
       "10.9502"
      ]
     },
     "execution_count": 10,
     "metadata": {},
     "output_type": "execute_result"
    }
   ],
   "source": [
    "rate_sek = currency_df.tail(1)['OBS_VALUE'].values[0]\n",
    "rate_sek"
   ]
  },
  {
   "cell_type": "markdown",
   "id": "bd19ef5d",
   "metadata": {},
   "source": [
    "--- end of currency collection -----"
   ]
  }
 ],
 "metadata": {
  "kernelspec": {
   "display_name": "Python 3.10.0 ('scraping_prices-iCStyPHz')",
   "language": "python",
   "name": "python3"
  },
  "language_info": {
   "codemirror_mode": {
    "name": "ipython",
    "version": 3
   },
   "file_extension": ".py",
   "mimetype": "text/x-python",
   "name": "python",
   "nbconvert_exporter": "python",
   "pygments_lexer": "ipython3",
   "version": "3.10.0"
  },
  "vscode": {
   "interpreter": {
    "hash": "c818b9eec72219e7d362e3bf18220f729802fb300973581bcb291bde24c2d9ac"
   }
  }
 },
 "nbformat": 4,
 "nbformat_minor": 5
}
