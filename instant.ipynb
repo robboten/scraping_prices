{
 "cells": [
  {
   "cell_type": "code",
   "execution_count": 429,
   "id": "2f8b9073",
   "metadata": {},
   "outputs": [],
   "source": [
    "import requests\n",
    "import pandas as pd\n",
    "#from bs4 import BeautifulSoup\n",
    "from lxml import etree\n",
    "import re\n"
   ]
  },
  {
   "cell_type": "markdown",
   "id": "8e79d385",
   "metadata": {},
   "source": [
    "htmls='<script defer src=\"/min/ig-igv2-js-product.js?v=1665506897\" type=\"text/javascript\"></script>'\n",
    "soup = BeautifulSoup(htmls, 'html.parser')\n",
    "#url='https://www.instant-gaming.com/en/10612-buy-syberia-the-world-before-deluxe-edition-deluxe-edition-pc-game-steam/'\n",
    "#soup = BeautifulSoup(url.read())\n",
    "tag=soup.script\n",
    "src=tag.attrs['src']\n",
    "src"
   ]
  },
  {
   "cell_type": "markdown",
   "id": "a074b1d6",
   "metadata": {},
   "source": [
    "apa=src.replace('/min/ig-igv2-js-product.js?v=','')\n",
    "int(apa)"
   ]
  },
  {
   "cell_type": "markdown",
   "id": "176c5776",
   "metadata": {},
   "source": [
    "e=int(''.join(filter(str.isdigit, src)))\n",
    "e\n",
    "\n",
    "\n"
   ]
  },
  {
   "cell_type": "code",
   "execution_count": 430,
   "id": "3a99556f",
   "metadata": {},
   "outputs": [],
   "source": [
    "url_endpoint = \"https://www.instant-gaming.com/en/search/\""
   ]
  },
  {
   "cell_type": "markdown",
   "id": "c6761fdd",
   "metadata": {},
   "source": [
    "reqParams = {\n",
    "    'q': 'Syberia'\n",
    "}"
   ]
  },
  {
   "cell_type": "code",
   "execution_count": 431,
   "id": "ec11a4a1",
   "metadata": {},
   "outputs": [],
   "source": [
    "reqParams = {\n",
    "    'platform[]':1,\n",
    "    'type[]':'steam',\n",
    "    'sort_by':'bestsellers_desc',\n",
    "    'min_reviewsavg':10,\n",
    "    'max_reviewsavg':100,\n",
    "    'noreviews':1,\n",
    "    'min_price':0,\n",
    "    'max_price':999,\n",
    "    'noprice':1,\n",
    "    'instock':1,\n",
    "    'gametype':'games',\n",
    "    'query':'syberia',\n",
    "}"
   ]
  },
  {
   "cell_type": "code",
   "execution_count": 432,
   "id": "ee93d204",
   "metadata": {},
   "outputs": [
    {
     "data": {
      "text/plain": [
       "'https://www.instant-gaming.com/en/search/?platform%5B%5D=1&type%5B%5D=steam&sort_by=bestsellers_desc&min_reviewsavg=10&max_reviewsavg=100&noreviews=1&min_price=0&max_price=999&noprice=1&instock=1&gametype=games&query=syberia'"
      ]
     },
     "execution_count": 432,
     "metadata": {},
     "output_type": "execute_result"
    }
   ],
   "source": [
    "webpage = requests.get(url_endpoint, params=reqParams)\n",
    "#webpage= requests.get(url2)\n",
    "webpage.url"
   ]
  },
  {
   "cell_type": "markdown",
   "id": "3ac4729b",
   "metadata": {},
   "source": [
    "soup1 = BeautifulSoup(webpage.content, \"html.parser\")\n",
    "soup1"
   ]
  },
  {
   "cell_type": "markdown",
   "id": "794efcd9",
   "metadata": {},
   "source": [
    "dom = etree.HTML(str(soup1))"
   ]
  },
  {
   "cell_type": "code",
   "execution_count": 433,
   "id": "1139f18a",
   "metadata": {},
   "outputs": [
    {
     "data": {
      "text/plain": [
       "<Element html at 0x2c1e7499080>"
      ]
     },
     "execution_count": 433,
     "metadata": {},
     "output_type": "execute_result"
    }
   ],
   "source": [
    "dom=etree.HTML(webpage.content)\n",
    "dom"
   ]
  },
  {
   "cell_type": "code",
   "execution_count": 434,
   "id": "e6fc2171",
   "metadata": {},
   "outputs": [
    {
     "data": {
      "text/plain": [
       "['Syberia',\n",
       " 'Syberia 3',\n",
       " 'Syberia 2',\n",
       " 'Syberia: The World Before Deluxe Edition',\n",
       " 'Serious Sam: Siberian Mayhem']"
      ]
     },
     "execution_count": 434,
     "metadata": {},
     "output_type": "execute_result"
    }
   ],
   "source": [
    "tes=dom.xpath('/html/body/div[5]/div/div[1]/div/div/div/div/span/text()')\n",
    "tes"
   ]
  },
  {
   "cell_type": "code",
   "execution_count": 435,
   "id": "eefa558c",
   "metadata": {
    "scrolled": true
   },
   "outputs": [
    {
     "data": {
      "text/plain": [
       "['11.00', '17.50', '11.00', '297.00', '143.94']"
      ]
     },
     "execution_count": 435,
     "metadata": {},
     "output_type": "execute_result"
    }
   ],
   "source": [
    "price=dom.xpath('/html/body/div[5]/div/div[1]/div/div/div[2]/text()')\n",
    "price"
   ]
  },
  {
   "cell_type": "code",
   "execution_count": 462,
   "id": "4ab58c74",
   "metadata": {
    "scrolled": false
   },
   "outputs": [
    {
     "data": {
      "text/plain": [
       "['https://www.instant-gaming.com/en/1244-buy-syberia-pc-mac-game-steam/',\n",
       " 'https://www.instant-gaming.com/en/611-buy-syberia-3-pc-mac-game-steam/',\n",
       " 'https://www.instant-gaming.com/en/1245-buy-syberia-2-pc-mac-game-steam/',\n",
       " 'https://www.instant-gaming.com/en/10612-buy-syberia-the-world-before-deluxe-edition-deluxe-edition-pc-game-steam/',\n",
       " 'https://www.instant-gaming.com/en/10229-buy-serious-sam-siberian-mayhem-pc-game-steam/']"
      ]
     },
     "execution_count": 462,
     "metadata": {},
     "output_type": "execute_result"
    }
   ],
   "source": [
    "href=dom.xpath('/html/body/div[5]/div/div[1]/div/a/@href')\n",
    "href"
   ]
  },
  {
   "cell_type": "code",
   "execution_count": 461,
   "id": "11b9c062",
   "metadata": {
    "scrolled": false
   },
   "outputs": [
    {
     "data": {
      "text/plain": [
       "['Syberia Steam 11.00<span>kr.</span>',\n",
       " 'Syberia 3 Steam 17.50<span>kr.</span>',\n",
       " 'Syberia 2 Steam 11.00<span>kr.</span>',\n",
       " 'Syberia: The World Before Deluxe Edition Steam 297.00<span>kr.</span>',\n",
       " 'Serious Sam: Siberian Mayhem Steam 143.94<span>kr.</span>']"
      ]
     },
     "execution_count": 461,
     "metadata": {},
     "output_type": "execute_result"
    }
   ],
   "source": [
    "tit=dom.xpath('/html/body/div[5]/div/div[1]/div/a/@title')\n",
    "tit"
   ]
  },
  {
   "cell_type": "code",
   "execution_count": 460,
   "id": "1832c85f",
   "metadata": {},
   "outputs": [
    {
     "data": {
      "text/plain": [
       "['Syberia Steam 11.00kr.',\n",
       " 'Syberia 3 Steam 17.50kr.',\n",
       " 'Syberia 2 Steam 11.00kr.',\n",
       " 'Syberia: The World Before Deluxe Edition Steam 297.00kr.',\n",
       " 'Serious Sam: Siberian Mayhem Steam 143.94kr.']"
      ]
     },
     "execution_count": 460,
     "metadata": {},
     "output_type": "execute_result"
    }
   ],
   "source": [
    "ti=[]\n",
    "for t in tit:\n",
    "    t = re.sub(r'<.*?>', '', t)\n",
    "    ti.append(t)\n",
    "ti"
   ]
  },
  {
   "cell_type": "code",
   "execution_count": 488,
   "id": "db487c41",
   "metadata": {
    "scrolled": true
   },
   "outputs": [],
   "source": [
    "df = pd.DataFrame(tes,columns=['name'])\n",
    "df['platform'] = tit\n",
    "df['urls'] = href\n",
    "df['price'] = price"
   ]
  },
  {
   "cell_type": "code",
   "execution_count": 483,
   "id": "d7b1c3dd",
   "metadata": {},
   "outputs": [],
   "source": [
    "def remove_tags(string):\n",
    "    result = re.sub('<.*?>','',string)\n",
    "    #result = re.sub('kr.','',result)\n",
    "    return result\n",
    "df['platform']=df['platform'].apply(lambda cw : remove_tags(cw))"
   ]
  },
  {
   "cell_type": "code",
   "execution_count": 489,
   "id": "107dbf38",
   "metadata": {
    "scrolled": true
   },
   "outputs": [
    {
     "data": {
      "text/html": [
       "<div>\n",
       "<style scoped>\n",
       "    .dataframe tbody tr th:only-of-type {\n",
       "        vertical-align: middle;\n",
       "    }\n",
       "\n",
       "    .dataframe tbody tr th {\n",
       "        vertical-align: top;\n",
       "    }\n",
       "\n",
       "    .dataframe thead th {\n",
       "        text-align: right;\n",
       "    }\n",
       "</style>\n",
       "<table border=\"1\" class=\"dataframe\">\n",
       "  <thead>\n",
       "    <tr style=\"text-align: right;\">\n",
       "      <th></th>\n",
       "      <th>name</th>\n",
       "      <th>platform</th>\n",
       "      <th>urls</th>\n",
       "      <th>price</th>\n",
       "    </tr>\n",
       "  </thead>\n",
       "  <tbody>\n",
       "    <tr>\n",
       "      <th>0</th>\n",
       "      <td>Syberia</td>\n",
       "      <td>Syberia Steam 11.00&lt;span&gt;kr.&lt;/span&gt;</td>\n",
       "      <td>https://www.instant-gaming.com/en/1244-buy-syb...</td>\n",
       "      <td>11.00</td>\n",
       "    </tr>\n",
       "    <tr>\n",
       "      <th>1</th>\n",
       "      <td>Syberia 3</td>\n",
       "      <td>Syberia 3 Steam 17.50&lt;span&gt;kr.&lt;/span&gt;</td>\n",
       "      <td>https://www.instant-gaming.com/en/611-buy-sybe...</td>\n",
       "      <td>17.50</td>\n",
       "    </tr>\n",
       "    <tr>\n",
       "      <th>2</th>\n",
       "      <td>Syberia 2</td>\n",
       "      <td>Syberia 2 Steam 11.00&lt;span&gt;kr.&lt;/span&gt;</td>\n",
       "      <td>https://www.instant-gaming.com/en/1245-buy-syb...</td>\n",
       "      <td>11.00</td>\n",
       "    </tr>\n",
       "    <tr>\n",
       "      <th>3</th>\n",
       "      <td>Syberia: The World Before Deluxe Edition</td>\n",
       "      <td>Syberia: The World Before Deluxe Edition Steam...</td>\n",
       "      <td>https://www.instant-gaming.com/en/10612-buy-sy...</td>\n",
       "      <td>297.00</td>\n",
       "    </tr>\n",
       "    <tr>\n",
       "      <th>4</th>\n",
       "      <td>Serious Sam: Siberian Mayhem</td>\n",
       "      <td>Serious Sam: Siberian Mayhem Steam 143.94&lt;span...</td>\n",
       "      <td>https://www.instant-gaming.com/en/10229-buy-se...</td>\n",
       "      <td>143.94</td>\n",
       "    </tr>\n",
       "  </tbody>\n",
       "</table>\n",
       "</div>"
      ],
      "text/plain": [
       "                                       name  \\\n",
       "0                                   Syberia   \n",
       "1                                 Syberia 3   \n",
       "2                                 Syberia 2   \n",
       "3  Syberia: The World Before Deluxe Edition   \n",
       "4              Serious Sam: Siberian Mayhem   \n",
       "\n",
       "                                            platform  \\\n",
       "0                Syberia Steam 11.00<span>kr.</span>   \n",
       "1              Syberia 3 Steam 17.50<span>kr.</span>   \n",
       "2              Syberia 2 Steam 11.00<span>kr.</span>   \n",
       "3  Syberia: The World Before Deluxe Edition Steam...   \n",
       "4  Serious Sam: Siberian Mayhem Steam 143.94<span...   \n",
       "\n",
       "                                                urls   price  \n",
       "0  https://www.instant-gaming.com/en/1244-buy-syb...   11.00  \n",
       "1  https://www.instant-gaming.com/en/611-buy-sybe...   17.50  \n",
       "2  https://www.instant-gaming.com/en/1245-buy-syb...   11.00  \n",
       "3  https://www.instant-gaming.com/en/10612-buy-sy...  297.00  \n",
       "4  https://www.instant-gaming.com/en/10229-buy-se...  143.94  "
      ]
     },
     "execution_count": 489,
     "metadata": {},
     "output_type": "execute_result"
    }
   ],
   "source": [
    "df"
   ]
  },
  {
   "cell_type": "code",
   "execution_count": 474,
   "id": "c56ee688",
   "metadata": {},
   "outputs": [
    {
     "data": {
      "text/plain": [
       "0                                     Syberia\n",
       "1                                   Syberia 3\n",
       "2                                   Syberia 2\n",
       "3    Syberia: The World Before Deluxe Edition\n",
       "4                Serious Sam: Siberian Mayhem\n",
       "Name: name, dtype: object"
      ]
     },
     "execution_count": 474,
     "metadata": {},
     "output_type": "execute_result"
    }
   ],
   "source": [
    "df['name']"
   ]
  },
  {
   "cell_type": "code",
   "execution_count": 504,
   "id": "6efbc347",
   "metadata": {
    "scrolled": true
   },
   "outputs": [
    {
     "data": {
      "text/html": [
       "<div>\n",
       "<style scoped>\n",
       "    .dataframe tbody tr th:only-of-type {\n",
       "        vertical-align: middle;\n",
       "    }\n",
       "\n",
       "    .dataframe tbody tr th {\n",
       "        vertical-align: top;\n",
       "    }\n",
       "\n",
       "    .dataframe thead th {\n",
       "        text-align: right;\n",
       "    }\n",
       "</style>\n",
       "<table border=\"1\" class=\"dataframe\">\n",
       "  <thead>\n",
       "    <tr style=\"text-align: right;\">\n",
       "      <th></th>\n",
       "      <th>name</th>\n",
       "      <th>platform</th>\n",
       "      <th>urls</th>\n",
       "      <th>price</th>\n",
       "    </tr>\n",
       "  </thead>\n",
       "  <tbody>\n",
       "    <tr>\n",
       "      <th>0</th>\n",
       "      <td>Syberia</td>\n",
       "      <td>Steam &lt;span&gt;kr.&lt;/span&gt;</td>\n",
       "      <td>https://www.instant-gaming.com/en/1244-buy-syb...</td>\n",
       "      <td>11.00</td>\n",
       "    </tr>\n",
       "    <tr>\n",
       "      <th>1</th>\n",
       "      <td>Syberia 3</td>\n",
       "      <td>Steam &lt;span&gt;kr.&lt;/span&gt;</td>\n",
       "      <td>https://www.instant-gaming.com/en/611-buy-sybe...</td>\n",
       "      <td>17.50</td>\n",
       "    </tr>\n",
       "    <tr>\n",
       "      <th>2</th>\n",
       "      <td>Syberia 2</td>\n",
       "      <td>Steam &lt;span&gt;kr.&lt;/span&gt;</td>\n",
       "      <td>https://www.instant-gaming.com/en/1245-buy-syb...</td>\n",
       "      <td>11.00</td>\n",
       "    </tr>\n",
       "    <tr>\n",
       "      <th>3</th>\n",
       "      <td>Syberia: The World Before Deluxe Edition</td>\n",
       "      <td>Steam &lt;span&gt;kr.&lt;/span&gt;</td>\n",
       "      <td>https://www.instant-gaming.com/en/10612-buy-sy...</td>\n",
       "      <td>297.00</td>\n",
       "    </tr>\n",
       "    <tr>\n",
       "      <th>4</th>\n",
       "      <td>Serious Sam: Siberian Mayhem</td>\n",
       "      <td>Steam &lt;span&gt;kr.&lt;/span&gt;</td>\n",
       "      <td>https://www.instant-gaming.com/en/10229-buy-se...</td>\n",
       "      <td>143.94</td>\n",
       "    </tr>\n",
       "  </tbody>\n",
       "</table>\n",
       "</div>"
      ],
      "text/plain": [
       "                                       name                 platform  \\\n",
       "0                                   Syberia   Steam <span>kr.</span>   \n",
       "1                                 Syberia 3   Steam <span>kr.</span>   \n",
       "2                                 Syberia 2   Steam <span>kr.</span>   \n",
       "3  Syberia: The World Before Deluxe Edition   Steam <span>kr.</span>   \n",
       "4              Serious Sam: Siberian Mayhem   Steam <span>kr.</span>   \n",
       "\n",
       "                                                urls   price  \n",
       "0  https://www.instant-gaming.com/en/1244-buy-syb...   11.00  \n",
       "1  https://www.instant-gaming.com/en/611-buy-sybe...   17.50  \n",
       "2  https://www.instant-gaming.com/en/1245-buy-syb...   11.00  \n",
       "3  https://www.instant-gaming.com/en/10612-buy-sy...  297.00  \n",
       "4  https://www.instant-gaming.com/en/10229-buy-se...  143.94  "
      ]
     },
     "execution_count": 504,
     "metadata": {},
     "output_type": "execute_result"
    }
   ],
   "source": [
    "df[\"platform\"]= df.apply(lambda x: x['platform'].replace(str(x['name']), ''), axis=1)\n",
    "df[\"platform\"]= df.apply(lambda x: x['platform'].replace(str(x['price']), ''), axis=1)\n",
    "df['platform']=df.platform.str.replace(' kr.', '', regex=True)\n",
    "df"
   ]
  },
  {
   "cell_type": "markdown",
   "id": "7f9cbb76",
   "metadata": {},
   "source": [
    "df2 = df.replace({'platform': '<span>kr.</span>'}, \n",
    "    {'platform': ''}, regex=True)"
   ]
  },
  {
   "cell_type": "markdown",
   "id": "c594d24a",
   "metadata": {},
   "source": [
    "df2 = df.apply(lambda x: x.replace({'Py':'Python with', 'Language':'Lang'}, regex=True))"
   ]
  },
  {
   "cell_type": "code",
   "execution_count": 501,
   "id": "de772090",
   "metadata": {},
   "outputs": [
    {
     "data": {
      "text/html": [
       "<div>\n",
       "<style scoped>\n",
       "    .dataframe tbody tr th:only-of-type {\n",
       "        vertical-align: middle;\n",
       "    }\n",
       "\n",
       "    .dataframe tbody tr th {\n",
       "        vertical-align: top;\n",
       "    }\n",
       "\n",
       "    .dataframe thead th {\n",
       "        text-align: right;\n",
       "    }\n",
       "</style>\n",
       "<table border=\"1\" class=\"dataframe\">\n",
       "  <thead>\n",
       "    <tr style=\"text-align: right;\">\n",
       "      <th></th>\n",
       "      <th>name</th>\n",
       "      <th>platform</th>\n",
       "      <th>urls</th>\n",
       "      <th>price</th>\n",
       "    </tr>\n",
       "  </thead>\n",
       "  <tbody>\n",
       "    <tr>\n",
       "      <th>0</th>\n",
       "      <td>Syberia</td>\n",
       "      <td>Syberia Steam 11.00</td>\n",
       "      <td>https://www.instant-gaming.com/en/1244-buy-syb...</td>\n",
       "      <td>11.00</td>\n",
       "    </tr>\n",
       "    <tr>\n",
       "      <th>1</th>\n",
       "      <td>Syberia 3</td>\n",
       "      <td>Syberia 3 Steam 17.50</td>\n",
       "      <td>https://www.instant-gaming.com/en/611-buy-sybe...</td>\n",
       "      <td>17.50</td>\n",
       "    </tr>\n",
       "    <tr>\n",
       "      <th>2</th>\n",
       "      <td>Syberia 2</td>\n",
       "      <td>Syberia 2 Steam 11.00</td>\n",
       "      <td>https://www.instant-gaming.com/en/1245-buy-syb...</td>\n",
       "      <td>11.00</td>\n",
       "    </tr>\n",
       "    <tr>\n",
       "      <th>3</th>\n",
       "      <td>Syberia: The World Before Deluxe Edition</td>\n",
       "      <td>Syberia: The World Before Deluxe Edition Steam...</td>\n",
       "      <td>https://www.instant-gaming.com/en/10612-buy-sy...</td>\n",
       "      <td>297.00</td>\n",
       "    </tr>\n",
       "    <tr>\n",
       "      <th>4</th>\n",
       "      <td>Serious Sam: Siberian Mayhem</td>\n",
       "      <td>Serious Sam: Siberian Mayhem Steam 143.94</td>\n",
       "      <td>https://www.instant-gaming.com/en/10229-buy-se...</td>\n",
       "      <td>143.94</td>\n",
       "    </tr>\n",
       "  </tbody>\n",
       "</table>\n",
       "</div>"
      ],
      "text/plain": [
       "                                       name  \\\n",
       "0                                   Syberia   \n",
       "1                                 Syberia 3   \n",
       "2                                 Syberia 2   \n",
       "3  Syberia: The World Before Deluxe Edition   \n",
       "4              Serious Sam: Siberian Mayhem   \n",
       "\n",
       "                                            platform  \\\n",
       "0                                Syberia Steam 11.00   \n",
       "1                              Syberia 3 Steam 17.50   \n",
       "2                              Syberia 2 Steam 11.00   \n",
       "3  Syberia: The World Before Deluxe Edition Steam...   \n",
       "4          Serious Sam: Siberian Mayhem Steam 143.94   \n",
       "\n",
       "                                                urls   price  \n",
       "0  https://www.instant-gaming.com/en/1244-buy-syb...   11.00  \n",
       "1  https://www.instant-gaming.com/en/611-buy-sybe...   17.50  \n",
       "2  https://www.instant-gaming.com/en/1245-buy-syb...   11.00  \n",
       "3  https://www.instant-gaming.com/en/10612-buy-sy...  297.00  \n",
       "4  https://www.instant-gaming.com/en/10229-buy-se...  143.94  "
      ]
     },
     "execution_count": 501,
     "metadata": {},
     "output_type": "execute_result"
    }
   ],
   "source": [
    "df2 = df.replace({'platform': 'Syberia ', 'platform': '<span>kr.</span>'}, \n",
    "    {'platform': '', 'platform': ''}, regex=True)\n",
    "df2"
   ]
  },
  {
   "cell_type": "markdown",
   "id": "54d7a66e",
   "metadata": {},
   "source": [
    "soup2 = BeautifulSoup(etree.tostring(paths[0]), 'html.parser')\n",
    "print (type(soup2))\n",
    "print (soup.prettify())"
   ]
  },
  {
   "cell_type": "markdown",
   "id": "aebecc41",
   "metadata": {},
   "source": [
    "mu=soup1.select('body > div.main-content > div > div > div > a')\n",
    "for mui in mu:\n",
    "    print(mui['href'])"
   ]
  },
  {
   "cell_type": "markdown",
   "id": "f3eca25e",
   "metadata": {},
   "source": [
    "mu"
   ]
  }
 ],
 "metadata": {
  "kernelspec": {
   "display_name": "Python 3 (ipykernel)",
   "language": "python",
   "name": "python3"
  },
  "language_info": {
   "codemirror_mode": {
    "name": "ipython",
    "version": 3
   },
   "file_extension": ".py",
   "mimetype": "text/x-python",
   "name": "python",
   "nbconvert_exporter": "python",
   "pygments_lexer": "ipython3",
   "version": "3.10.0"
  }
 },
 "nbformat": 4,
 "nbformat_minor": 5
}
