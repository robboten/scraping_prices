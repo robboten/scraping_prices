{
 "cells": [
  {
   "cell_type": "code",
   "execution_count": 20,
   "metadata": {},
   "outputs": [],
   "source": [
    "import pandas as pd\n",
    "import scr_utils as scru"
   ]
  },
  {
   "cell_type": "code",
   "execution_count": 21,
   "metadata": {},
   "outputs": [],
   "source": [
    "rate_sek=scru.get_sek()"
   ]
  },
  {
   "cell_type": "code",
   "execution_count": 22,
   "metadata": {},
   "outputs": [],
   "source": [
    "df_steam=scru.from_paraquet('steam_prices')\n",
    "df_allkey=scru.from_paraquet('allkey_prices')\n",
    "df_ig=scru.from_paraquet('ig_prices')"
   ]
  },
  {
   "cell_type": "code",
   "execution_count": 23,
   "metadata": {},
   "outputs": [
    {
     "data": {
      "text/plain": [
       "Index(['id_x', 'affiliateUrl', 'isActive', 'merchant', 'edition', 'region',\n",
       "       'stock', 'platform', 'price.eur.bestCoupon.code',\n",
       "       'price.eur.bestCoupon.discountValue',\n",
       "       'price.eur.bestCoupon.discountStrategy',\n",
       "       'price.eur.bestCoupon.isCashback', 'currency', 'price',\n",
       "       'price.eur.bestCoupon', 'name', 'priceSEK'],\n",
       "      dtype='object')"
      ]
     },
     "execution_count": 23,
     "metadata": {},
     "output_type": "execute_result"
    }
   ],
   "source": [
    "df_allkey.keys()"
   ]
  },
  {
   "cell_type": "code",
   "execution_count": 24,
   "metadata": {},
   "outputs": [
    {
     "data": {
      "text/plain": [
       "0                                 Hitman 3\n",
       "1                                 Hitman 3\n",
       "2    Hitman 3 (Xbox ONE / Xbox Series X|S)\n",
       "Name: name, dtype: object"
      ]
     },
     "execution_count": 24,
     "metadata": {},
     "output_type": "execute_result"
    }
   ],
   "source": [
    "df_ig.keys()\n",
    "df_ig['name']"
   ]
  },
  {
   "cell_type": "code",
   "execution_count": 25,
   "metadata": {},
   "outputs": [
    {
     "data": {
      "text/plain": [
       "0    HITMAN 3\n",
       "Name: name, dtype: object"
      ]
     },
     "execution_count": 25,
     "metadata": {},
     "output_type": "execute_result"
    }
   ],
   "source": [
    "df_steam.keys()\n",
    "df_steam['name']"
   ]
  },
  {
   "cell_type": "code",
   "execution_count": 26,
   "metadata": {},
   "outputs": [],
   "source": [
    "rows_new=[]"
   ]
  },
  {
   "cell_type": "code",
   "execution_count": 27,
   "metadata": {},
   "outputs": [],
   "source": [
    "curr_dtime=pd.Timestamp.now()"
   ]
  },
  {
   "cell_type": "code",
   "execution_count": 28,
   "metadata": {},
   "outputs": [],
   "source": [
    "index_ig_row=df_ig.loc[df_ig['type']=='Steam'].index[0]"
   ]
  },
  {
   "cell_type": "markdown",
   "metadata": {},
   "source": [
    "df_ig['prod_id'].to_dict()\n"
   ]
  },
  {
   "cell_type": "markdown",
   "metadata": {},
   "source": [
    "di=df_ig.loc[index_ig_row,['name','priceSEK']].to_dict()"
   ]
  },
  {
   "cell_type": "markdown",
   "metadata": {},
   "source": [
    "di.update(df_steam.loc[0,['steam_appid']].to_dict())"
   ]
  },
  {
   "cell_type": "markdown",
   "metadata": {},
   "source": [
    "di.update(df_ig.loc[index_ig_row,['prod_id']].to_dict())\n",
    "di"
   ]
  },
  {
   "cell_type": "markdown",
   "metadata": {},
   "source": [
    "di.update({'src':'ig'})\n",
    "di.update({'date_time':curr_dtime})\n",
    "rows_new.append(di)"
   ]
  },
  {
   "cell_type": "code",
   "execution_count": 29,
   "metadata": {},
   "outputs": [
    {
     "data": {
      "text/plain": [
       "12619"
      ]
     },
     "execution_count": 29,
     "metadata": {},
     "output_type": "execute_result"
    }
   ],
   "source": [
    "df_ig.loc[index_ig_row,['prod_id']].values[0]"
   ]
  },
  {
   "cell_type": "code",
   "execution_count": 30,
   "metadata": {},
   "outputs": [
    {
     "data": {
      "text/plain": [
       "[{'name': 'HITMAN 3',\n",
       "  'priceSEK': 263.0,\n",
       "  'steam_appid': 1659040,\n",
       "  'ig_prod_id': 12619,\n",
       "  'ig_priceSEK': 260.157896,\n",
       "  'date_time': Timestamp('2022-10-20 15:45:16.154069')}]"
      ]
     },
     "execution_count": 30,
     "metadata": {},
     "output_type": "execute_result"
    }
   ],
   "source": [
    "#steam\n",
    "di=df_steam.loc[0,['name','priceSEK','steam_appid']].to_dict()\n",
    "di.update({'ig_prod_id':df_ig.loc[index_ig_row,['prod_id']].values[0]})\n",
    "di.update({'ig_priceSEK':df_ig.loc[index_ig_row,['priceSEK']].values[0]})\n",
    "di.update({'date_time':curr_dtime})\n",
    "#di.update(df_steam.loc[0,['date_time']].to_dict())\n",
    "rows_new.append(di)\n",
    "rows_new"
   ]
  },
  {
   "cell_type": "markdown",
   "metadata": {},
   "source": [
    "ser_new=pd.Series({'src':'steam'})\n",
    "ser_merged=pd.concat([ser_merged,ser_new],axis=0)"
   ]
  },
  {
   "cell_type": "markdown",
   "metadata": {},
   "source": [
    "ser_merged=pd.concat([ser_merged,df_steam.loc[0,['date_time']]],axis=0)"
   ]
  },
  {
   "cell_type": "code",
   "execution_count": 31,
   "metadata": {},
   "outputs": [
    {
     "data": {
      "text/html": [
       "<div>\n",
       "<style scoped>\n",
       "    .dataframe tbody tr th:only-of-type {\n",
       "        vertical-align: middle;\n",
       "    }\n",
       "\n",
       "    .dataframe tbody tr th {\n",
       "        vertical-align: top;\n",
       "    }\n",
       "\n",
       "    .dataframe thead th {\n",
       "        text-align: right;\n",
       "    }\n",
       "</style>\n",
       "<table border=\"1\" class=\"dataframe\">\n",
       "  <thead>\n",
       "    <tr style=\"text-align: right;\">\n",
       "      <th></th>\n",
       "      <th>name</th>\n",
       "      <th>priceSEK</th>\n",
       "      <th>steam_appid</th>\n",
       "      <th>ig_prod_id</th>\n",
       "      <th>ig_priceSEK</th>\n",
       "      <th>date_time</th>\n",
       "    </tr>\n",
       "  </thead>\n",
       "  <tbody>\n",
       "    <tr>\n",
       "      <th>0</th>\n",
       "      <td>HITMAN 3</td>\n",
       "      <td>263.0</td>\n",
       "      <td>1659040</td>\n",
       "      <td>12619</td>\n",
       "      <td>260.157896</td>\n",
       "      <td>2022-10-20 15:45:16.154069</td>\n",
       "    </tr>\n",
       "  </tbody>\n",
       "</table>\n",
       "</div>"
      ],
      "text/plain": [
       "       name  priceSEK  steam_appid  ig_prod_id  ig_priceSEK  \\\n",
       "0  HITMAN 3     263.0      1659040       12619   260.157896   \n",
       "\n",
       "                   date_time  \n",
       "0 2022-10-20 15:45:16.154069  "
      ]
     },
     "execution_count": 31,
     "metadata": {},
     "output_type": "execute_result"
    }
   ],
   "source": [
    "#df_new=pd.DataFrame.from_dict(di,orient='index').T\n",
    "df_new=pd.DataFrame(rows_new)\n",
    "df_new"
   ]
  },
  {
   "cell_type": "markdown",
   "metadata": {},
   "source": [
    "pd.DataFrame(ser_merged).T"
   ]
  }
 ],
 "metadata": {
  "kernelspec": {
   "display_name": "Python 3.10.0 ('scraping_prices-iCStyPHz')",
   "language": "python",
   "name": "python3"
  },
  "language_info": {
   "codemirror_mode": {
    "name": "ipython",
    "version": 3
   },
   "file_extension": ".py",
   "mimetype": "text/x-python",
   "name": "python",
   "nbconvert_exporter": "python",
   "pygments_lexer": "ipython3",
   "version": "3.10.0"
  },
  "orig_nbformat": 4,
  "vscode": {
   "interpreter": {
    "hash": "c818b9eec72219e7d362e3bf18220f729802fb300973581bcb291bde24c2d9ac"
   }
  }
 },
 "nbformat": 4,
 "nbformat_minor": 2
}
