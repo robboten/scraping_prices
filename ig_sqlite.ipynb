{
 "cells": [
  {
   "cell_type": "code",
   "execution_count": null,
   "metadata": {},
   "outputs": [],
   "source": [
    "%run ig_json.ipynb"
   ]
  },
  {
   "cell_type": "code",
   "execution_count": 70,
   "metadata": {},
   "outputs": [],
   "source": [
    "#import sqlite3 as db\n",
    "import sqlalchemy as dba"
   ]
  },
  {
   "cell_type": "code",
   "execution_count": 71,
   "metadata": {},
   "outputs": [],
   "source": [
    "engine = dba.create_engine('sqlite:///mysqlites/gameprices.db', echo=True)\n",
    "sqlite_connection = engine.connect()"
   ]
  },
  {
   "cell_type": "markdown",
   "metadata": {},
   "source": [
    "\n",
    "conn=db.connect('gameprices.db')\n",
    "c=conn.cursor()"
   ]
  },
  {
   "cell_type": "markdown",
   "metadata": {},
   "source": [
    "new_employees = [\n",
    "    (12994, 'Jim', 'Halpert'), \n",
    "    (12988, 'Pam', 'Beesly'), \n",
    "    (12989, 'Andy', 'Bernard'), \n",
    "    (12990, 'Kevin', 'Malone'),\n",
    "    (12991, 'Toby', 'Flenderson'),\n",
    "    (12992, 'Angela', 'Martin'),\n",
    "    (12993, 'Stanley', 'Hudson')]\n",
    "\n",
    "c.executemany('INSERT INTO employees VALUES (?, ?, ?)', new_employees)"
   ]
  },
  {
   "cell_type": "markdown",
   "metadata": {},
   "source": [
    "c.execute(\"SELECT * FROM employees\")\n",
    "print(c.fetchall())"
   ]
  },
  {
   "cell_type": "markdown",
   "metadata": {},
   "source": [
    "con = db.connect('gameprices.db')\n",
    "df_employees = pd.read_sql_query('select * from employees', con)\n",
    "df_employees"
   ]
  },
  {
   "cell_type": "markdown",
   "metadata": {},
   "source": [
    "df_new = df_employees[:-1]"
   ]
  },
  {
   "cell_type": "markdown",
   "metadata": {},
   "source": [
    "df_new.to_sql(\"employees\", con, if_exists=\"replace\")"
   ]
  },
  {
   "cell_type": "code",
   "execution_count": 92,
   "metadata": {},
   "outputs": [
    {
     "data": {
      "text/html": [
       "<div>\n",
       "<style scoped>\n",
       "    .dataframe tbody tr th:only-of-type {\n",
       "        vertical-align: middle;\n",
       "    }\n",
       "\n",
       "    .dataframe tbody tr th {\n",
       "        vertical-align: top;\n",
       "    }\n",
       "\n",
       "    .dataframe thead th {\n",
       "        text-align: right;\n",
       "    }\n",
       "</style>\n",
       "<table border=\"1\" class=\"dataframe\">\n",
       "  <thead>\n",
       "    <tr style=\"text-align: right;\">\n",
       "      <th></th>\n",
       "      <th>lang</th>\n",
       "      <th>name</th>\n",
       "      <th>prod_id</th>\n",
       "      <th>seo_name</th>\n",
       "      <th>small_name</th>\n",
       "      <th>type</th>\n",
       "      <th>region</th>\n",
       "      <th>is_dlc</th>\n",
       "      <th>preorder</th>\n",
       "      <th>brand</th>\n",
       "    </tr>\n",
       "  </thead>\n",
       "  <tbody>\n",
       "    <tr>\n",
       "      <th>0</th>\n",
       "      <td>en</td>\n",
       "      <td>Hitman 3</td>\n",
       "      <td>6851</td>\n",
       "      <td>hitman-3-pc-game-epic-games-europe</td>\n",
       "      <td>Hitman 3</td>\n",
       "      <td>Epic Games</td>\n",
       "      <td>Europe</td>\n",
       "      <td>False</td>\n",
       "      <td>False</td>\n",
       "      <td>Io-Interactive A/S</td>\n",
       "    </tr>\n",
       "    <tr>\n",
       "      <th>1</th>\n",
       "      <td>en</td>\n",
       "      <td>Hitman 3</td>\n",
       "      <td>12619</td>\n",
       "      <td>hitman-3-pc-game-steam</td>\n",
       "      <td>Hitman 3</td>\n",
       "      <td>Steam</td>\n",
       "      <td>Worldwide</td>\n",
       "      <td>False</td>\n",
       "      <td>False</td>\n",
       "      <td>Io-Interactive A/S</td>\n",
       "    </tr>\n",
       "    <tr>\n",
       "      <th>2</th>\n",
       "      <td>en</td>\n",
       "      <td>Hitman 3 (Xbox ONE / Xbox Series X|S)</td>\n",
       "      <td>8010</td>\n",
       "      <td>hitman-3-xbox-one-xbox-series-x-s-xbox-one-xbo...</td>\n",
       "      <td>Hitman 3 (Xbox ONE / Xbox Series X|S)</td>\n",
       "      <td>Microsoft Store</td>\n",
       "      <td>Worldwide</td>\n",
       "      <td>False</td>\n",
       "      <td>False</td>\n",
       "      <td>Io-Interactive A/S</td>\n",
       "    </tr>\n",
       "  </tbody>\n",
       "</table>\n",
       "</div>"
      ],
      "text/plain": [
       "  lang                                   name  prod_id  \\\n",
       "0   en                               Hitman 3     6851   \n",
       "1   en                               Hitman 3    12619   \n",
       "2   en  Hitman 3 (Xbox ONE / Xbox Series X|S)     8010   \n",
       "\n",
       "                                            seo_name  \\\n",
       "0                 hitman-3-pc-game-epic-games-europe   \n",
       "1                             hitman-3-pc-game-steam   \n",
       "2  hitman-3-xbox-one-xbox-series-x-s-xbox-one-xbo...   \n",
       "\n",
       "                              small_name             type     region  is_dlc  \\\n",
       "0                               Hitman 3       Epic Games     Europe   False   \n",
       "1                               Hitman 3            Steam  Worldwide   False   \n",
       "2  Hitman 3 (Xbox ONE / Xbox Series X|S)  Microsoft Store  Worldwide   False   \n",
       "\n",
       "   preorder               brand  \n",
       "0     False  Io-Interactive A/S  \n",
       "1     False  Io-Interactive A/S  \n",
       "2     False  Io-Interactive A/S  "
      ]
     },
     "execution_count": 92,
     "metadata": {},
     "output_type": "execute_result"
    }
   ],
   "source": [
    "df_hitman.iloc[:,:10]"
   ]
  },
  {
   "cell_type": "markdown",
   "metadata": {},
   "source": [
    "df_hitman.to_csv('steam_data',index=False)\n"
   ]
  },
  {
   "cell_type": "code",
   "execution_count": 93,
   "metadata": {},
   "outputs": [
    {
     "name": "stdout",
     "output_type": "stream",
     "text": [
      "2022-10-19 17:31:18,919 INFO sqlalchemy.engine.Engine PRAGMA main.table_info(\"steam_games\")\n",
      "2022-10-19 17:31:18,920 INFO sqlalchemy.engine.Engine [raw sql] ()\n",
      "2022-10-19 17:31:18,921 INFO sqlalchemy.engine.Engine PRAGMA main.table_info(\"steam_games\")\n",
      "2022-10-19 17:31:18,922 INFO sqlalchemy.engine.Engine [raw sql] ()\n",
      "2022-10-19 17:31:18,923 INFO sqlalchemy.engine.Engine SELECT name FROM sqlite_master WHERE type='table' ORDER BY name\n",
      "2022-10-19 17:31:18,923 INFO sqlalchemy.engine.Engine [raw sql] ()\n",
      "2022-10-19 17:31:18,924 INFO sqlalchemy.engine.Engine PRAGMA main.table_xinfo(\"steam_games\")\n",
      "2022-10-19 17:31:18,925 INFO sqlalchemy.engine.Engine [raw sql] ()\n",
      "2022-10-19 17:31:18,927 INFO sqlalchemy.engine.Engine SELECT sql FROM  (SELECT * FROM sqlite_master UNION ALL   SELECT * FROM sqlite_temp_master) WHERE name = ? AND type = 'table'\n",
      "2022-10-19 17:31:18,928 INFO sqlalchemy.engine.Engine [raw sql] ('steam_games',)\n",
      "2022-10-19 17:31:18,929 INFO sqlalchemy.engine.Engine PRAGMA main.foreign_key_list(\"steam_games\")\n",
      "2022-10-19 17:31:18,929 INFO sqlalchemy.engine.Engine [raw sql] ()\n",
      "2022-10-19 17:31:18,930 INFO sqlalchemy.engine.Engine PRAGMA temp.foreign_key_list(\"steam_games\")\n",
      "2022-10-19 17:31:18,930 INFO sqlalchemy.engine.Engine [raw sql] ()\n",
      "2022-10-19 17:31:18,931 INFO sqlalchemy.engine.Engine SELECT sql FROM  (SELECT * FROM sqlite_master UNION ALL   SELECT * FROM sqlite_temp_master) WHERE name = ? AND type = 'table'\n",
      "2022-10-19 17:31:18,931 INFO sqlalchemy.engine.Engine [raw sql] ('steam_games',)\n",
      "2022-10-19 17:31:18,932 INFO sqlalchemy.engine.Engine PRAGMA main.index_list(\"steam_games\")\n",
      "2022-10-19 17:31:18,932 INFO sqlalchemy.engine.Engine [raw sql] ()\n",
      "2022-10-19 17:31:18,933 INFO sqlalchemy.engine.Engine PRAGMA temp.index_list(\"steam_games\")\n",
      "2022-10-19 17:31:18,933 INFO sqlalchemy.engine.Engine [raw sql] ()\n",
      "2022-10-19 17:31:18,934 INFO sqlalchemy.engine.Engine PRAGMA main.index_list(\"steam_games\")\n",
      "2022-10-19 17:31:18,934 INFO sqlalchemy.engine.Engine [raw sql] ()\n",
      "2022-10-19 17:31:18,935 INFO sqlalchemy.engine.Engine PRAGMA temp.index_list(\"steam_games\")\n",
      "2022-10-19 17:31:18,936 INFO sqlalchemy.engine.Engine [raw sql] ()\n",
      "2022-10-19 17:31:18,936 INFO sqlalchemy.engine.Engine SELECT sql FROM  (SELECT * FROM sqlite_master UNION ALL   SELECT * FROM sqlite_temp_master) WHERE name = ? AND type = 'table'\n",
      "2022-10-19 17:31:18,937 INFO sqlalchemy.engine.Engine [raw sql] ('steam_games',)\n",
      "2022-10-19 17:31:18,938 INFO sqlalchemy.engine.Engine \n",
      "DROP TABLE steam_games\n",
      "2022-10-19 17:31:18,938 INFO sqlalchemy.engine.Engine [no key 0.00038s] ()\n",
      "2022-10-19 17:31:18,953 INFO sqlalchemy.engine.Engine COMMIT\n",
      "2022-10-19 17:31:18,957 INFO sqlalchemy.engine.Engine \n",
      "CREATE TABLE steam_games (\n",
      "\tlang TEXT, \n",
      "\tname TEXT, \n",
      "\tprod_id INTEGER, \n",
      "\tseo_name TEXT, \n",
      "\tsmall_name TEXT, \n",
      "\ttype TEXT, \n",
      "\tregion TEXT, \n",
      "\tis_dlc BOOLEAN, \n",
      "\tpreorder BOOLEAN, \n",
      "\tbrand TEXT, \n",
      "\tis_draft BOOLEAN, \n",
      "\tis_delivered BOOLEAN, \n",
      "\tretail_currency TEXT, \n",
      "\tother_platforms_prod_id TEXT, \n",
      "\tsimilar_prod_id TEXT, \n",
      "\tpromo BOOLEAN, \n",
      "\tdiscount FLOAT, \n",
      "\tsites TEXT, \n",
      "\tplatforms TEXT, \n",
      "\tprice FLOAT, \n",
      "\tretail FLOAT, \n",
      "\tcategory TEXT, \n",
      "\tsearch_tags TEXT, \n",
      "\tavail_date BIGINT, \n",
      "\tvpn_countries TEXT, \n",
      "\texclude_from_search BOOLEAN, \n",
      "\tlangs TEXT, \n",
      "\tmanual_search_tags TEXT, \n",
      "\tdeveloper_id INTEGER, \n",
      "\tpublisher_id INTEGER, \n",
      "\tis_free_to_play BOOLEAN, \n",
      "\tupdated_at BIGINT, \n",
      "\thas_video_preview BOOLEAN, \n",
      "\tvideo_preview_updated_at TEXT, \n",
      "\tis_prepaid BOOLEAN, \n",
      "\tdeveloper_name TEXT, \n",
      "\tpublisher_name TEXT, \n",
      "\tcan_display_video_preview BOOLEAN, \n",
      "\tplatform TEXT, \n",
      "\treviews_avg BIGINT, \n",
      "\tcat_ids TEXT, \n",
      "\tlcat TEXT, \n",
      "\t\"objectID\" INTEGER\n",
      ")\n",
      "\n",
      "\n",
      "2022-10-19 17:31:18,958 INFO sqlalchemy.engine.Engine [no key 0.00071s] ()\n",
      "2022-10-19 17:31:18,978 INFO sqlalchemy.engine.Engine COMMIT\n",
      "2022-10-19 17:31:18,981 INFO sqlalchemy.engine.Engine INSERT INTO steam_games (lang, name, prod_id, seo_name, small_name, type, region, is_dlc, preorder, brand, is_draft, is_delivered, retail_currency, other_platforms_prod_id, similar_prod_id, promo, discount, sites, platforms, price, retail, category, search_tags, avail_date, vpn_countries, exclude_from_search, langs, manual_search_tags, developer_id, publisher_id, is_free_to_play, updated_at, has_video_preview, video_preview_updated_at, is_prepaid, developer_name, publisher_name, can_display_video_preview, platform, reviews_avg, cat_ids, lcat, \"objectID\") VALUES (?, ?, ?, ?, ?, ?, ?, ?, ?, ?, ?, ?, ?, ?, ?, ?, ?, ?, ?, ?, ?, ?, ?, ?, ?, ?, ?, ?, ?, ?, ?, ?, ?, ?, ?, ?, ?, ?, ?, ?, ?, ?, ?)\n",
      "2022-10-19 17:31:18,982 INFO sqlalchemy.engine.Engine [generated in 0.00091s] (('en', 'Hitman 3', 6851, 'hitman-3-pc-game-epic-games-europe', 'Hitman 3', 'Epic Games', 'Europe', 0, 0, 'Io-Interactive A/S', 0, 1, 'EUR', '8010,12619', '', 0, 0.72, ['ig'], ['1'], 16.69, 59.99, ['Single-player', 'Action', 'Adventure'], ['Action', 'Stealth', 'VR', 'Assassin', 'Adventure', 'Sandbox', 'Shooter', 'Third-Person Shooter', 'Violent', 'Third Person', 'Cinematic', 'Realistic', 'Funny', 'Gore', 'Puzzle', 'Capitalism', 'Immersive Sim', 'Open World', 'Single-player', 'Action', 'Adventure'], 1642636800, None, 0, ['cn', 'de', 'en', 'es', 'fr', 'it', 'jp', 'ru'], None, 941, 941, 0, 1657198147, 1, '1659126963', 0, 'Io-Interactive A/S', 'Io-Interactive A/S', 1, 'Epic Games', 90, ['47', '1', '4'], 'H', 6851), ('en', 'Hitman 3', 12619, 'hitman-3-pc-game-steam', 'Hitman 3', 'Steam', 'Worldwide', 0, 0, 'Io-Interactive A/S', 0, 1, 'EUR', '6851,8010', '', 0, 0.57, ['ig'], ['1'], 25.75, 59.99, ['Single-player', 'Action', 'Adventure'], ['Action', 'Stealth', 'VR', 'Assassin', 'Adventure', 'Sandbox', 'Shooter', 'Third-Person Shooter', 'Violent', 'Third Person', 'Cinematic', 'Realistic', 'Funny', 'Gore', 'Puzzle', 'Capitalism', 'Immersive Sim', 'Open World', 'Single-player', 'Action', 'Adventure'], 1642636800, None, 0, ['cn', 'de', 'en', 'es', 'fr', 'it', 'jp', 'ru'], None, 941, 941, 0, 1659079811, 1, '1659126963', 0, 'Io-Interactive A/S', 'Io-Interactive A/S', 1, 'Steam', 90, ['47', '1', '4'], 'H', 12619), ('en', 'Hitman 3 (Xbox ONE / Xbox Series X|S)', 8010, 'hitman-3-xbox-one-xbox-series-x-s-xbox-one-xbox-series-x-s-game-microsoft-store', 'Hitman 3 (Xbox ONE / Xbox Series X|S)', 'Microsoft Store', 'Worldwide', 0, 0, 'Io-Interactive A/S', 0, 1, 'EUR', '6851,12619', '', 0, 0.08, ['ig'], ['11', '12'], 55.26, 59.99, ['Single-player', 'Action', 'Adventure'], ['Action', 'Stealth', 'VR', 'Assassin', 'Adventure', 'Sandbox', 'Shooter', 'Third-Person Shooter', 'Violent', 'Third Person', 'Cinematic', 'Realistic', 'Funny', 'Gore', 'Puzzle', 'Capitalism', 'Immersive Sim', 'Open World', 'Single-player', 'Action', 'Adventure'], 1642636800, None, 0, ['cn', 'de', 'en', 'es', 'fr', 'it', 'jp', 'ru'], None, 941, 941, 0, 1657198095, 1, '1659126963', 0, 'Io-Interactive A/S', 'Io-Interactive A/S', 1, 'Xbox Series X|S', 90, ['47', '1', '4'], 'H', 8010))\n",
      "2022-10-19 17:31:18,983 INFO sqlalchemy.engine.Engine ROLLBACK\n"
     ]
    },
    {
     "ename": "InterfaceError",
     "evalue": "(sqlite3.InterfaceError) Error binding parameter 17 - probably unsupported type.\n[SQL: INSERT INTO steam_games (lang, name, prod_id, seo_name, small_name, type, region, is_dlc, preorder, brand, is_draft, is_delivered, retail_currency, other_platforms_prod_id, similar_prod_id, promo, discount, sites, platforms, price, retail, category, search_tags, avail_date, vpn_countries, exclude_from_search, langs, manual_search_tags, developer_id, publisher_id, is_free_to_play, updated_at, has_video_preview, video_preview_updated_at, is_prepaid, developer_name, publisher_name, can_display_video_preview, platform, reviews_avg, cat_ids, lcat, \"objectID\") VALUES (?, ?, ?, ?, ?, ?, ?, ?, ?, ?, ?, ?, ?, ?, ?, ?, ?, ?, ?, ?, ?, ?, ?, ?, ?, ?, ?, ?, ?, ?, ?, ?, ?, ?, ?, ?, ?, ?, ?, ?, ?, ?, ?)]\n[parameters: (('en', 'Hitman 3', 6851, 'hitman-3-pc-game-epic-games-europe', 'Hitman 3', 'Epic Games', 'Europe', 0, 0, 'Io-Interactive A/S', 0, 1, 'EUR', '8010,12619', '', 0, 0.72, ['ig'], ['1'], 16.69, 59.99, ['Single-player', 'Action', 'Adventure'], ['Action', 'Stealth', 'VR', 'Assassin', 'Adventure', 'Sandbox', 'Shooter', 'Third-Person Shooter', 'Violent', 'Third Person', 'Cinematic', 'Realistic', 'Funny', 'Gore', 'Puzzle', 'Capitalism', 'Immersive Sim', 'Open World', 'Single-player', 'Action', 'Adventure'], 1642636800, None, 0, ['cn', 'de', 'en', 'es', 'fr', 'it', 'jp', 'ru'], None, 941, 941, 0, 1657198147, 1, '1659126963', 0, 'Io-Interactive A/S', 'Io-Interactive A/S', 1, 'Epic Games', 90, ['47', '1', '4'], 'H', 6851), ('en', 'Hitman 3', 12619, 'hitman-3-pc-game-steam', 'Hitman 3', 'Steam', 'Worldwide', 0, 0, 'Io-Interactive A/S', 0, 1, 'EUR', '6851,8010', '', 0, 0.57, ['ig'], ['1'], 25.75, 59.99, ['Single-player', 'Action', 'Adventure'], ['Action', 'Stealth', 'VR', 'Assassin', 'Adventure', 'Sandbox', 'Shooter', 'Third-Person Shooter', 'Violent', 'Third Person', 'Cinematic', 'Realistic', 'Funny', 'Gore', 'Puzzle', 'Capitalism', 'Immersive Sim', 'Open World', 'Single-player', 'Action', 'Adventure'], 1642636800, None, 0, ['cn', 'de', 'en', 'es', 'fr', 'it', 'jp', 'ru'], None, 941, 941, 0, 1659079811, 1, '1659126963', 0, 'Io-Interactive A/S', 'Io-Interactive A/S', 1, 'Steam', 90, ['47', '1', '4'], 'H', 12619), ('en', 'Hitman 3 (Xbox ONE / Xbox Series X|S)', 8010, 'hitman-3-xbox-one-xbox-series-x-s-xbox-one-xbox-series-x-s-game-microsoft-store', 'Hitman 3 (Xbox ONE / Xbox Series X|S)', 'Microsoft Store', 'Worldwide', 0, 0, 'Io-Interactive A/S', 0, 1, 'EUR', '6851,12619', '', 0, 0.08, ['ig'], ['11', '12'], 55.26, 59.99, ['Single-player', 'Action', 'Adventure'], ['Action', 'Stealth', 'VR', 'Assassin', 'Adventure', 'Sandbox', 'Shooter', 'Third-Person Shooter', 'Violent', 'Third Person', 'Cinematic', 'Realistic', 'Funny', 'Gore', 'Puzzle', 'Capitalism', 'Immersive Sim', 'Open World', 'Single-player', 'Action', 'Adventure'], 1642636800, None, 0, ['cn', 'de', 'en', 'es', 'fr', 'it', 'jp', 'ru'], None, 941, 941, 0, 1657198095, 1, '1659126963', 0, 'Io-Interactive A/S', 'Io-Interactive A/S', 1, 'Xbox Series X|S', 90, ['47', '1', '4'], 'H', 8010))]\n(Background on this error at: https://sqlalche.me/e/14/rvf5)",
     "output_type": "error",
     "traceback": [
      "\u001b[1;31m---------------------------------------------------------------------------\u001b[0m",
      "\u001b[1;31mInterfaceError\u001b[0m                            Traceback (most recent call last)",
      "File \u001b[1;32mc:\\Users\\robbo\\.virtualenvs\\scraping_prices-iCStyPHz\\lib\\site-packages\\sqlalchemy\\engine\\base.py:1880\u001b[0m, in \u001b[0;36mConnection._execute_context\u001b[1;34m(self, dialect, constructor, statement, parameters, execution_options, *args, **kw)\u001b[0m\n\u001b[0;32m   1879\u001b[0m     \u001b[39mif\u001b[39;00m \u001b[39mnot\u001b[39;00m evt_handled:\n\u001b[1;32m-> 1880\u001b[0m         \u001b[39mself\u001b[39;49m\u001b[39m.\u001b[39;49mdialect\u001b[39m.\u001b[39;49mdo_executemany(\n\u001b[0;32m   1881\u001b[0m             cursor, statement, parameters, context\n\u001b[0;32m   1882\u001b[0m         )\n\u001b[0;32m   1883\u001b[0m \u001b[39melif\u001b[39;00m \u001b[39mnot\u001b[39;00m parameters \u001b[39mand\u001b[39;00m context\u001b[39m.\u001b[39mno_parameters:\n",
      "File \u001b[1;32mc:\\Users\\robbo\\.virtualenvs\\scraping_prices-iCStyPHz\\lib\\site-packages\\sqlalchemy\\engine\\default.py:733\u001b[0m, in \u001b[0;36mDefaultDialect.do_executemany\u001b[1;34m(self, cursor, statement, parameters, context)\u001b[0m\n\u001b[0;32m    732\u001b[0m \u001b[39mdef\u001b[39;00m \u001b[39mdo_executemany\u001b[39m(\u001b[39mself\u001b[39m, cursor, statement, parameters, context\u001b[39m=\u001b[39m\u001b[39mNone\u001b[39;00m):\n\u001b[1;32m--> 733\u001b[0m     cursor\u001b[39m.\u001b[39;49mexecutemany(statement, parameters)\n",
      "\u001b[1;31mInterfaceError\u001b[0m: Error binding parameter 17 - probably unsupported type.",
      "\nThe above exception was the direct cause of the following exception:\n",
      "\u001b[1;31mInterfaceError\u001b[0m                            Traceback (most recent call last)",
      "Cell \u001b[1;32mIn [93], line 4\u001b[0m\n\u001b[0;32m      1\u001b[0m \u001b[39m#con = db.connect('gameprices.db')\u001b[39;00m\n\u001b[0;32m      2\u001b[0m \u001b[39m#dfh.to_sql('steam_games', sqlite_connection, if_exists=\"replace\", index=False,dtype={\"currency_prices\": dba.types.JSON,\"sites_prices\":dba.types.ARRAY(dba.types.INT())})\u001b[39;00m\n\u001b[1;32m----> 4\u001b[0m df_test\u001b[39m.\u001b[39;49mto_sql(\u001b[39m'\u001b[39;49m\u001b[39msteam_games\u001b[39;49m\u001b[39m'\u001b[39;49m, sqlite_connection, if_exists\u001b[39m=\u001b[39;49m\u001b[39m\"\u001b[39;49m\u001b[39mreplace\u001b[39;49m\u001b[39m\"\u001b[39;49m, index\u001b[39m=\u001b[39;49m\u001b[39mFalse\u001b[39;49;00m)\n",
      "File \u001b[1;32mc:\\Users\\robbo\\.virtualenvs\\scraping_prices-iCStyPHz\\lib\\site-packages\\pandas\\core\\generic.py:2986\u001b[0m, in \u001b[0;36mNDFrame.to_sql\u001b[1;34m(self, name, con, schema, if_exists, index, index_label, chunksize, dtype, method)\u001b[0m\n\u001b[0;32m   2829\u001b[0m \u001b[39m\"\"\"\u001b[39;00m\n\u001b[0;32m   2830\u001b[0m \u001b[39mWrite records stored in a DataFrame to a SQL database.\u001b[39;00m\n\u001b[0;32m   2831\u001b[0m \n\u001b[1;32m   (...)\u001b[0m\n\u001b[0;32m   2982\u001b[0m \u001b[39m[(1,), (None,), (2,)]\u001b[39;00m\n\u001b[0;32m   2983\u001b[0m \u001b[39m\"\"\"\u001b[39;00m  \u001b[39m# noqa:E501\u001b[39;00m\n\u001b[0;32m   2984\u001b[0m \u001b[39mfrom\u001b[39;00m \u001b[39mpandas\u001b[39;00m\u001b[39m.\u001b[39;00m\u001b[39mio\u001b[39;00m \u001b[39mimport\u001b[39;00m sql\n\u001b[1;32m-> 2986\u001b[0m \u001b[39mreturn\u001b[39;00m sql\u001b[39m.\u001b[39;49mto_sql(\n\u001b[0;32m   2987\u001b[0m     \u001b[39mself\u001b[39;49m,\n\u001b[0;32m   2988\u001b[0m     name,\n\u001b[0;32m   2989\u001b[0m     con,\n\u001b[0;32m   2990\u001b[0m     schema\u001b[39m=\u001b[39;49mschema,\n\u001b[0;32m   2991\u001b[0m     if_exists\u001b[39m=\u001b[39;49mif_exists,\n\u001b[0;32m   2992\u001b[0m     index\u001b[39m=\u001b[39;49mindex,\n\u001b[0;32m   2993\u001b[0m     index_label\u001b[39m=\u001b[39;49mindex_label,\n\u001b[0;32m   2994\u001b[0m     chunksize\u001b[39m=\u001b[39;49mchunksize,\n\u001b[0;32m   2995\u001b[0m     dtype\u001b[39m=\u001b[39;49mdtype,\n\u001b[0;32m   2996\u001b[0m     method\u001b[39m=\u001b[39;49mmethod,\n\u001b[0;32m   2997\u001b[0m )\n",
      "File \u001b[1;32mc:\\Users\\robbo\\.virtualenvs\\scraping_prices-iCStyPHz\\lib\\site-packages\\pandas\\io\\sql.py:696\u001b[0m, in \u001b[0;36mto_sql\u001b[1;34m(frame, name, con, schema, if_exists, index, index_label, chunksize, dtype, method, engine, **engine_kwargs)\u001b[0m\n\u001b[0;32m    691\u001b[0m \u001b[39melif\u001b[39;00m \u001b[39mnot\u001b[39;00m \u001b[39misinstance\u001b[39m(frame, DataFrame):\n\u001b[0;32m    692\u001b[0m     \u001b[39mraise\u001b[39;00m \u001b[39mNotImplementedError\u001b[39;00m(\n\u001b[0;32m    693\u001b[0m         \u001b[39m\"\u001b[39m\u001b[39m'\u001b[39m\u001b[39mframe\u001b[39m\u001b[39m'\u001b[39m\u001b[39m argument should be either a Series or a DataFrame\u001b[39m\u001b[39m\"\u001b[39m\n\u001b[0;32m    694\u001b[0m     )\n\u001b[1;32m--> 696\u001b[0m \u001b[39mreturn\u001b[39;00m pandas_sql\u001b[39m.\u001b[39mto_sql(\n\u001b[0;32m    697\u001b[0m     frame,\n\u001b[0;32m    698\u001b[0m     name,\n\u001b[0;32m    699\u001b[0m     if_exists\u001b[39m=\u001b[39mif_exists,\n\u001b[0;32m    700\u001b[0m     index\u001b[39m=\u001b[39mindex,\n\u001b[0;32m    701\u001b[0m     index_label\u001b[39m=\u001b[39mindex_label,\n\u001b[0;32m    702\u001b[0m     schema\u001b[39m=\u001b[39mschema,\n\u001b[0;32m    703\u001b[0m     chunksize\u001b[39m=\u001b[39mchunksize,\n\u001b[0;32m    704\u001b[0m     dtype\u001b[39m=\u001b[39mdtype,\n\u001b[0;32m    705\u001b[0m     method\u001b[39m=\u001b[39mmethod,\n\u001b[0;32m    706\u001b[0m     engine\u001b[39m=\u001b[39mengine,\n\u001b[0;32m    707\u001b[0m     \u001b[39m*\u001b[39m\u001b[39m*\u001b[39mengine_kwargs,\n\u001b[0;32m    708\u001b[0m )\n",
      "File \u001b[1;32mc:\\Users\\robbo\\.virtualenvs\\scraping_prices-iCStyPHz\\lib\\site-packages\\pandas\\io\\sql.py:1739\u001b[0m, in \u001b[0;36mSQLDatabase.to_sql\u001b[1;34m(self, frame, name, if_exists, index, index_label, schema, chunksize, dtype, method, engine, **engine_kwargs)\u001b[0m\n\u001b[0;32m   1727\u001b[0m sql_engine \u001b[39m=\u001b[39m get_engine(engine)\n\u001b[0;32m   1729\u001b[0m table \u001b[39m=\u001b[39m \u001b[39mself\u001b[39m\u001b[39m.\u001b[39mprep_table(\n\u001b[0;32m   1730\u001b[0m     frame\u001b[39m=\u001b[39mframe,\n\u001b[0;32m   1731\u001b[0m     name\u001b[39m=\u001b[39mname,\n\u001b[1;32m   (...)\u001b[0m\n\u001b[0;32m   1736\u001b[0m     dtype\u001b[39m=\u001b[39mdtype,\n\u001b[0;32m   1737\u001b[0m )\n\u001b[1;32m-> 1739\u001b[0m total_inserted \u001b[39m=\u001b[39m sql_engine\u001b[39m.\u001b[39minsert_records(\n\u001b[0;32m   1740\u001b[0m     table\u001b[39m=\u001b[39mtable,\n\u001b[0;32m   1741\u001b[0m     con\u001b[39m=\u001b[39m\u001b[39mself\u001b[39m\u001b[39m.\u001b[39mconnectable,\n\u001b[0;32m   1742\u001b[0m     frame\u001b[39m=\u001b[39mframe,\n\u001b[0;32m   1743\u001b[0m     name\u001b[39m=\u001b[39mname,\n\u001b[0;32m   1744\u001b[0m     index\u001b[39m=\u001b[39mindex,\n\u001b[0;32m   1745\u001b[0m     schema\u001b[39m=\u001b[39mschema,\n\u001b[0;32m   1746\u001b[0m     chunksize\u001b[39m=\u001b[39mchunksize,\n\u001b[0;32m   1747\u001b[0m     method\u001b[39m=\u001b[39mmethod,\n\u001b[0;32m   1748\u001b[0m     \u001b[39m*\u001b[39m\u001b[39m*\u001b[39mengine_kwargs,\n\u001b[0;32m   1749\u001b[0m )\n\u001b[0;32m   1751\u001b[0m \u001b[39mself\u001b[39m\u001b[39m.\u001b[39mcheck_case_sensitive(name\u001b[39m=\u001b[39mname, schema\u001b[39m=\u001b[39mschema)\n\u001b[0;32m   1752\u001b[0m \u001b[39mreturn\u001b[39;00m total_inserted\n",
      "File \u001b[1;32mc:\\Users\\robbo\\.virtualenvs\\scraping_prices-iCStyPHz\\lib\\site-packages\\pandas\\io\\sql.py:1336\u001b[0m, in \u001b[0;36mSQLAlchemyEngine.insert_records\u001b[1;34m(self, table, con, frame, name, index, schema, chunksize, method, **engine_kwargs)\u001b[0m\n\u001b[0;32m   1334\u001b[0m     \u001b[39mraise\u001b[39;00m \u001b[39mValueError\u001b[39;00m(\u001b[39m\"\u001b[39m\u001b[39minf cannot be used with MySQL\u001b[39m\u001b[39m\"\u001b[39m) \u001b[39mfrom\u001b[39;00m \u001b[39merr\u001b[39;00m\n\u001b[0;32m   1335\u001b[0m \u001b[39melse\u001b[39;00m:\n\u001b[1;32m-> 1336\u001b[0m     \u001b[39mraise\u001b[39;00m err\n",
      "File \u001b[1;32mc:\\Users\\robbo\\.virtualenvs\\scraping_prices-iCStyPHz\\lib\\site-packages\\pandas\\io\\sql.py:1326\u001b[0m, in \u001b[0;36mSQLAlchemyEngine.insert_records\u001b[1;34m(self, table, con, frame, name, index, schema, chunksize, method, **engine_kwargs)\u001b[0m\n\u001b[0;32m   1323\u001b[0m \u001b[39mfrom\u001b[39;00m \u001b[39msqlalchemy\u001b[39;00m \u001b[39mimport\u001b[39;00m exc\n\u001b[0;32m   1325\u001b[0m \u001b[39mtry\u001b[39;00m:\n\u001b[1;32m-> 1326\u001b[0m     \u001b[39mreturn\u001b[39;00m table\u001b[39m.\u001b[39;49minsert(chunksize\u001b[39m=\u001b[39;49mchunksize, method\u001b[39m=\u001b[39;49mmethod)\n\u001b[0;32m   1327\u001b[0m \u001b[39mexcept\u001b[39;00m exc\u001b[39m.\u001b[39mSQLAlchemyError \u001b[39mas\u001b[39;00m err:\n\u001b[0;32m   1328\u001b[0m     \u001b[39m# GH34431\u001b[39;00m\n\u001b[0;32m   1329\u001b[0m     \u001b[39m# https://stackoverflow.com/a/67358288/6067848\u001b[39;00m\n\u001b[0;32m   1330\u001b[0m     msg \u001b[39m=\u001b[39m \u001b[39mr\u001b[39m\u001b[39m\"\"\"\u001b[39m\u001b[39m(\u001b[39m\u001b[39m\\\u001b[39m\u001b[39m(1054, \u001b[39m\u001b[39m\"\u001b[39m\u001b[39mUnknown column \u001b[39m\u001b[39m'\u001b[39m\u001b[39minf(e0)?\u001b[39m\u001b[39m'\u001b[39m\u001b[39m in \u001b[39m\u001b[39m'\u001b[39m\u001b[39mfield list\u001b[39m\u001b[39m'\u001b[39m\u001b[39m\"\u001b[39m\u001b[39m\\\u001b[39m\u001b[39m))(?#\u001b[39m\n\u001b[0;32m   1331\u001b[0m \u001b[39m    )|inf can not be used with MySQL\u001b[39m\u001b[39m\"\"\"\u001b[39m\n",
      "File \u001b[1;32mc:\\Users\\robbo\\.virtualenvs\\scraping_prices-iCStyPHz\\lib\\site-packages\\pandas\\io\\sql.py:947\u001b[0m, in \u001b[0;36mSQLTable.insert\u001b[1;34m(self, chunksize, method)\u001b[0m\n\u001b[0;32m    944\u001b[0m     \u001b[39mbreak\u001b[39;00m\n\u001b[0;32m    946\u001b[0m chunk_iter \u001b[39m=\u001b[39m \u001b[39mzip\u001b[39m(\u001b[39m*\u001b[39m(arr[start_i:end_i] \u001b[39mfor\u001b[39;00m arr \u001b[39min\u001b[39;00m data_list))\n\u001b[1;32m--> 947\u001b[0m num_inserted \u001b[39m=\u001b[39m exec_insert(conn, keys, chunk_iter)\n\u001b[0;32m    948\u001b[0m \u001b[39m# GH 46891\u001b[39;00m\n\u001b[0;32m    949\u001b[0m \u001b[39mif\u001b[39;00m is_integer(num_inserted):\n",
      "File \u001b[1;32mc:\\Users\\robbo\\.virtualenvs\\scraping_prices-iCStyPHz\\lib\\site-packages\\pandas\\io\\sql.py:854\u001b[0m, in \u001b[0;36mSQLTable._execute_insert\u001b[1;34m(self, conn, keys, data_iter)\u001b[0m\n\u001b[0;32m    842\u001b[0m \u001b[39m\"\"\"\u001b[39;00m\n\u001b[0;32m    843\u001b[0m \u001b[39mExecute SQL statement inserting data\u001b[39;00m\n\u001b[0;32m    844\u001b[0m \n\u001b[1;32m   (...)\u001b[0m\n\u001b[0;32m    851\u001b[0m \u001b[39m   Each item contains a list of values to be inserted\u001b[39;00m\n\u001b[0;32m    852\u001b[0m \u001b[39m\"\"\"\u001b[39;00m\n\u001b[0;32m    853\u001b[0m data \u001b[39m=\u001b[39m [\u001b[39mdict\u001b[39m(\u001b[39mzip\u001b[39m(keys, row)) \u001b[39mfor\u001b[39;00m row \u001b[39min\u001b[39;00m data_iter]\n\u001b[1;32m--> 854\u001b[0m result \u001b[39m=\u001b[39m conn\u001b[39m.\u001b[39;49mexecute(\u001b[39mself\u001b[39;49m\u001b[39m.\u001b[39;49mtable\u001b[39m.\u001b[39;49minsert(), data)\n\u001b[0;32m    855\u001b[0m \u001b[39mreturn\u001b[39;00m result\u001b[39m.\u001b[39mrowcount\n",
      "File \u001b[1;32mc:\\Users\\robbo\\.virtualenvs\\scraping_prices-iCStyPHz\\lib\\site-packages\\sqlalchemy\\engine\\base.py:1380\u001b[0m, in \u001b[0;36mConnection.execute\u001b[1;34m(self, statement, *multiparams, **params)\u001b[0m\n\u001b[0;32m   1376\u001b[0m     util\u001b[39m.\u001b[39mraise_(\n\u001b[0;32m   1377\u001b[0m         exc\u001b[39m.\u001b[39mObjectNotExecutableError(statement), replace_context\u001b[39m=\u001b[39merr\n\u001b[0;32m   1378\u001b[0m     )\n\u001b[0;32m   1379\u001b[0m \u001b[39melse\u001b[39;00m:\n\u001b[1;32m-> 1380\u001b[0m     \u001b[39mreturn\u001b[39;00m meth(\u001b[39mself\u001b[39;49m, multiparams, params, _EMPTY_EXECUTION_OPTS)\n",
      "File \u001b[1;32mc:\\Users\\robbo\\.virtualenvs\\scraping_prices-iCStyPHz\\lib\\site-packages\\sqlalchemy\\sql\\elements.py:333\u001b[0m, in \u001b[0;36mClauseElement._execute_on_connection\u001b[1;34m(self, connection, multiparams, params, execution_options, _force)\u001b[0m\n\u001b[0;32m    329\u001b[0m \u001b[39mdef\u001b[39;00m \u001b[39m_execute_on_connection\u001b[39m(\n\u001b[0;32m    330\u001b[0m     \u001b[39mself\u001b[39m, connection, multiparams, params, execution_options, _force\u001b[39m=\u001b[39m\u001b[39mFalse\u001b[39;00m\n\u001b[0;32m    331\u001b[0m ):\n\u001b[0;32m    332\u001b[0m     \u001b[39mif\u001b[39;00m _force \u001b[39mor\u001b[39;00m \u001b[39mself\u001b[39m\u001b[39m.\u001b[39msupports_execution:\n\u001b[1;32m--> 333\u001b[0m         \u001b[39mreturn\u001b[39;00m connection\u001b[39m.\u001b[39;49m_execute_clauseelement(\n\u001b[0;32m    334\u001b[0m             \u001b[39mself\u001b[39;49m, multiparams, params, execution_options\n\u001b[0;32m    335\u001b[0m         )\n\u001b[0;32m    336\u001b[0m     \u001b[39melse\u001b[39;00m:\n\u001b[0;32m    337\u001b[0m         \u001b[39mraise\u001b[39;00m exc\u001b[39m.\u001b[39mObjectNotExecutableError(\u001b[39mself\u001b[39m)\n",
      "File \u001b[1;32mc:\\Users\\robbo\\.virtualenvs\\scraping_prices-iCStyPHz\\lib\\site-packages\\sqlalchemy\\engine\\base.py:1572\u001b[0m, in \u001b[0;36mConnection._execute_clauseelement\u001b[1;34m(self, elem, multiparams, params, execution_options)\u001b[0m\n\u001b[0;32m   1560\u001b[0m compiled_cache \u001b[39m=\u001b[39m execution_options\u001b[39m.\u001b[39mget(\n\u001b[0;32m   1561\u001b[0m     \u001b[39m\"\u001b[39m\u001b[39mcompiled_cache\u001b[39m\u001b[39m\"\u001b[39m, \u001b[39mself\u001b[39m\u001b[39m.\u001b[39mengine\u001b[39m.\u001b[39m_compiled_cache\n\u001b[0;32m   1562\u001b[0m )\n\u001b[0;32m   1564\u001b[0m compiled_sql, extracted_params, cache_hit \u001b[39m=\u001b[39m elem\u001b[39m.\u001b[39m_compile_w_cache(\n\u001b[0;32m   1565\u001b[0m     dialect\u001b[39m=\u001b[39mdialect,\n\u001b[0;32m   1566\u001b[0m     compiled_cache\u001b[39m=\u001b[39mcompiled_cache,\n\u001b[1;32m   (...)\u001b[0m\n\u001b[0;32m   1570\u001b[0m     linting\u001b[39m=\u001b[39m\u001b[39mself\u001b[39m\u001b[39m.\u001b[39mdialect\u001b[39m.\u001b[39mcompiler_linting \u001b[39m|\u001b[39m compiler\u001b[39m.\u001b[39mWARN_LINTING,\n\u001b[0;32m   1571\u001b[0m )\n\u001b[1;32m-> 1572\u001b[0m ret \u001b[39m=\u001b[39m \u001b[39mself\u001b[39;49m\u001b[39m.\u001b[39;49m_execute_context(\n\u001b[0;32m   1573\u001b[0m     dialect,\n\u001b[0;32m   1574\u001b[0m     dialect\u001b[39m.\u001b[39;49mexecution_ctx_cls\u001b[39m.\u001b[39;49m_init_compiled,\n\u001b[0;32m   1575\u001b[0m     compiled_sql,\n\u001b[0;32m   1576\u001b[0m     distilled_params,\n\u001b[0;32m   1577\u001b[0m     execution_options,\n\u001b[0;32m   1578\u001b[0m     compiled_sql,\n\u001b[0;32m   1579\u001b[0m     distilled_params,\n\u001b[0;32m   1580\u001b[0m     elem,\n\u001b[0;32m   1581\u001b[0m     extracted_params,\n\u001b[0;32m   1582\u001b[0m     cache_hit\u001b[39m=\u001b[39;49mcache_hit,\n\u001b[0;32m   1583\u001b[0m )\n\u001b[0;32m   1584\u001b[0m \u001b[39mif\u001b[39;00m has_events:\n\u001b[0;32m   1585\u001b[0m     \u001b[39mself\u001b[39m\u001b[39m.\u001b[39mdispatch\u001b[39m.\u001b[39mafter_execute(\n\u001b[0;32m   1586\u001b[0m         \u001b[39mself\u001b[39m,\n\u001b[0;32m   1587\u001b[0m         elem,\n\u001b[1;32m   (...)\u001b[0m\n\u001b[0;32m   1591\u001b[0m         ret,\n\u001b[0;32m   1592\u001b[0m     )\n",
      "File \u001b[1;32mc:\\Users\\robbo\\.virtualenvs\\scraping_prices-iCStyPHz\\lib\\site-packages\\sqlalchemy\\engine\\base.py:1943\u001b[0m, in \u001b[0;36mConnection._execute_context\u001b[1;34m(self, dialect, constructor, statement, parameters, execution_options, *args, **kw)\u001b[0m\n\u001b[0;32m   1940\u001b[0m             branched\u001b[39m.\u001b[39mclose()\n\u001b[0;32m   1942\u001b[0m \u001b[39mexcept\u001b[39;00m \u001b[39mBaseException\u001b[39;00m \u001b[39mas\u001b[39;00m e:\n\u001b[1;32m-> 1943\u001b[0m     \u001b[39mself\u001b[39;49m\u001b[39m.\u001b[39;49m_handle_dbapi_exception(\n\u001b[0;32m   1944\u001b[0m         e, statement, parameters, cursor, context\n\u001b[0;32m   1945\u001b[0m     )\n\u001b[0;32m   1947\u001b[0m \u001b[39mreturn\u001b[39;00m result\n",
      "File \u001b[1;32mc:\\Users\\robbo\\.virtualenvs\\scraping_prices-iCStyPHz\\lib\\site-packages\\sqlalchemy\\engine\\base.py:2124\u001b[0m, in \u001b[0;36mConnection._handle_dbapi_exception\u001b[1;34m(self, e, statement, parameters, cursor, context)\u001b[0m\n\u001b[0;32m   2122\u001b[0m     util\u001b[39m.\u001b[39mraise_(newraise, with_traceback\u001b[39m=\u001b[39mexc_info[\u001b[39m2\u001b[39m], from_\u001b[39m=\u001b[39me)\n\u001b[0;32m   2123\u001b[0m \u001b[39melif\u001b[39;00m should_wrap:\n\u001b[1;32m-> 2124\u001b[0m     util\u001b[39m.\u001b[39;49mraise_(\n\u001b[0;32m   2125\u001b[0m         sqlalchemy_exception, with_traceback\u001b[39m=\u001b[39;49mexc_info[\u001b[39m2\u001b[39;49m], from_\u001b[39m=\u001b[39;49me\n\u001b[0;32m   2126\u001b[0m     )\n\u001b[0;32m   2127\u001b[0m \u001b[39melse\u001b[39;00m:\n\u001b[0;32m   2128\u001b[0m     util\u001b[39m.\u001b[39mraise_(exc_info[\u001b[39m1\u001b[39m], with_traceback\u001b[39m=\u001b[39mexc_info[\u001b[39m2\u001b[39m])\n",
      "File \u001b[1;32mc:\\Users\\robbo\\.virtualenvs\\scraping_prices-iCStyPHz\\lib\\site-packages\\sqlalchemy\\util\\compat.py:208\u001b[0m, in \u001b[0;36mraise_\u001b[1;34m(***failed resolving arguments***)\u001b[0m\n\u001b[0;32m    205\u001b[0m     exception\u001b[39m.\u001b[39m__cause__ \u001b[39m=\u001b[39m replace_context\n\u001b[0;32m    207\u001b[0m \u001b[39mtry\u001b[39;00m:\n\u001b[1;32m--> 208\u001b[0m     \u001b[39mraise\u001b[39;00m exception\n\u001b[0;32m    209\u001b[0m \u001b[39mfinally\u001b[39;00m:\n\u001b[0;32m    210\u001b[0m     \u001b[39m# credit to\u001b[39;00m\n\u001b[0;32m    211\u001b[0m     \u001b[39m# https://cosmicpercolator.com/2016/01/13/exception-leaks-in-python-2-and-3/\u001b[39;00m\n\u001b[0;32m    212\u001b[0m     \u001b[39m# as the __traceback__ object creates a cycle\u001b[39;00m\n\u001b[0;32m    213\u001b[0m     \u001b[39mdel\u001b[39;00m exception, replace_context, from_, with_traceback\n",
      "File \u001b[1;32mc:\\Users\\robbo\\.virtualenvs\\scraping_prices-iCStyPHz\\lib\\site-packages\\sqlalchemy\\engine\\base.py:1880\u001b[0m, in \u001b[0;36mConnection._execute_context\u001b[1;34m(self, dialect, constructor, statement, parameters, execution_options, *args, **kw)\u001b[0m\n\u001b[0;32m   1878\u001b[0m                 \u001b[39mbreak\u001b[39;00m\n\u001b[0;32m   1879\u001b[0m     \u001b[39mif\u001b[39;00m \u001b[39mnot\u001b[39;00m evt_handled:\n\u001b[1;32m-> 1880\u001b[0m         \u001b[39mself\u001b[39;49m\u001b[39m.\u001b[39;49mdialect\u001b[39m.\u001b[39;49mdo_executemany(\n\u001b[0;32m   1881\u001b[0m             cursor, statement, parameters, context\n\u001b[0;32m   1882\u001b[0m         )\n\u001b[0;32m   1883\u001b[0m \u001b[39melif\u001b[39;00m \u001b[39mnot\u001b[39;00m parameters \u001b[39mand\u001b[39;00m context\u001b[39m.\u001b[39mno_parameters:\n\u001b[0;32m   1884\u001b[0m     \u001b[39mif\u001b[39;00m \u001b[39mself\u001b[39m\u001b[39m.\u001b[39mdialect\u001b[39m.\u001b[39m_has_events:\n",
      "File \u001b[1;32mc:\\Users\\robbo\\.virtualenvs\\scraping_prices-iCStyPHz\\lib\\site-packages\\sqlalchemy\\engine\\default.py:733\u001b[0m, in \u001b[0;36mDefaultDialect.do_executemany\u001b[1;34m(self, cursor, statement, parameters, context)\u001b[0m\n\u001b[0;32m    732\u001b[0m \u001b[39mdef\u001b[39;00m \u001b[39mdo_executemany\u001b[39m(\u001b[39mself\u001b[39m, cursor, statement, parameters, context\u001b[39m=\u001b[39m\u001b[39mNone\u001b[39;00m):\n\u001b[1;32m--> 733\u001b[0m     cursor\u001b[39m.\u001b[39;49mexecutemany(statement, parameters)\n",
      "\u001b[1;31mInterfaceError\u001b[0m: (sqlite3.InterfaceError) Error binding parameter 17 - probably unsupported type.\n[SQL: INSERT INTO steam_games (lang, name, prod_id, seo_name, small_name, type, region, is_dlc, preorder, brand, is_draft, is_delivered, retail_currency, other_platforms_prod_id, similar_prod_id, promo, discount, sites, platforms, price, retail, category, search_tags, avail_date, vpn_countries, exclude_from_search, langs, manual_search_tags, developer_id, publisher_id, is_free_to_play, updated_at, has_video_preview, video_preview_updated_at, is_prepaid, developer_name, publisher_name, can_display_video_preview, platform, reviews_avg, cat_ids, lcat, \"objectID\") VALUES (?, ?, ?, ?, ?, ?, ?, ?, ?, ?, ?, ?, ?, ?, ?, ?, ?, ?, ?, ?, ?, ?, ?, ?, ?, ?, ?, ?, ?, ?, ?, ?, ?, ?, ?, ?, ?, ?, ?, ?, ?, ?, ?)]\n[parameters: (('en', 'Hitman 3', 6851, 'hitman-3-pc-game-epic-games-europe', 'Hitman 3', 'Epic Games', 'Europe', 0, 0, 'Io-Interactive A/S', 0, 1, 'EUR', '8010,12619', '', 0, 0.72, ['ig'], ['1'], 16.69, 59.99, ['Single-player', 'Action', 'Adventure'], ['Action', 'Stealth', 'VR', 'Assassin', 'Adventure', 'Sandbox', 'Shooter', 'Third-Person Shooter', 'Violent', 'Third Person', 'Cinematic', 'Realistic', 'Funny', 'Gore', 'Puzzle', 'Capitalism', 'Immersive Sim', 'Open World', 'Single-player', 'Action', 'Adventure'], 1642636800, None, 0, ['cn', 'de', 'en', 'es', 'fr', 'it', 'jp', 'ru'], None, 941, 941, 0, 1657198147, 1, '1659126963', 0, 'Io-Interactive A/S', 'Io-Interactive A/S', 1, 'Epic Games', 90, ['47', '1', '4'], 'H', 6851), ('en', 'Hitman 3', 12619, 'hitman-3-pc-game-steam', 'Hitman 3', 'Steam', 'Worldwide', 0, 0, 'Io-Interactive A/S', 0, 1, 'EUR', '6851,8010', '', 0, 0.57, ['ig'], ['1'], 25.75, 59.99, ['Single-player', 'Action', 'Adventure'], ['Action', 'Stealth', 'VR', 'Assassin', 'Adventure', 'Sandbox', 'Shooter', 'Third-Person Shooter', 'Violent', 'Third Person', 'Cinematic', 'Realistic', 'Funny', 'Gore', 'Puzzle', 'Capitalism', 'Immersive Sim', 'Open World', 'Single-player', 'Action', 'Adventure'], 1642636800, None, 0, ['cn', 'de', 'en', 'es', 'fr', 'it', 'jp', 'ru'], None, 941, 941, 0, 1659079811, 1, '1659126963', 0, 'Io-Interactive A/S', 'Io-Interactive A/S', 1, 'Steam', 90, ['47', '1', '4'], 'H', 12619), ('en', 'Hitman 3 (Xbox ONE / Xbox Series X|S)', 8010, 'hitman-3-xbox-one-xbox-series-x-s-xbox-one-xbox-series-x-s-game-microsoft-store', 'Hitman 3 (Xbox ONE / Xbox Series X|S)', 'Microsoft Store', 'Worldwide', 0, 0, 'Io-Interactive A/S', 0, 1, 'EUR', '6851,12619', '', 0, 0.08, ['ig'], ['11', '12'], 55.26, 59.99, ['Single-player', 'Action', 'Adventure'], ['Action', 'Stealth', 'VR', 'Assassin', 'Adventure', 'Sandbox', 'Shooter', 'Third-Person Shooter', 'Violent', 'Third Person', 'Cinematic', 'Realistic', 'Funny', 'Gore', 'Puzzle', 'Capitalism', 'Immersive Sim', 'Open World', 'Single-player', 'Action', 'Adventure'], 1642636800, None, 0, ['cn', 'de', 'en', 'es', 'fr', 'it', 'jp', 'ru'], None, 941, 941, 0, 1657198095, 1, '1659126963', 0, 'Io-Interactive A/S', 'Io-Interactive A/S', 1, 'Xbox Series X|S', 90, ['47', '1', '4'], 'H', 8010))]\n(Background on this error at: https://sqlalche.me/e/14/rvf5)"
     ]
    }
   ],
   "source": [
    "#con = db.connect('gameprices.db')\n",
    "#dfh.to_sql('steam_games', sqlite_connection, if_exists=\"replace\", index=False,dtype={\"currency_prices\": dba.types.JSON,\"sites_prices\":dba.types.ARRAY(dba.types.INT())})\n",
    "\n",
    "df_test.to_sql('steam_games', sqlite_connection, if_exists=\"replace\", index=False)"
   ]
  },
  {
   "cell_type": "markdown",
   "metadata": {},
   "source": [
    "conn.commit()"
   ]
  },
  {
   "cell_type": "code",
   "execution_count": null,
   "metadata": {},
   "outputs": [],
   "source": [
    "sqlite_connection.close()"
   ]
  },
  {
   "cell_type": "markdown",
   "metadata": {},
   "source": [
    "c.close\n",
    "conn.close()"
   ]
  }
 ],
 "metadata": {
  "kernelspec": {
   "display_name": "Python 3.10.0 ('scraping_prices-iCStyPHz')",
   "language": "python",
   "name": "python3"
  },
  "language_info": {
   "codemirror_mode": {
    "name": "ipython",
    "version": 3
   },
   "file_extension": ".py",
   "mimetype": "text/x-python",
   "name": "python",
   "nbconvert_exporter": "python",
   "pygments_lexer": "ipython3",
   "version": "3.10.0"
  },
  "orig_nbformat": 4,
  "vscode": {
   "interpreter": {
    "hash": "c818b9eec72219e7d362e3bf18220f729802fb300973581bcb291bde24c2d9ac"
   }
  }
 },
 "nbformat": 4,
 "nbformat_minor": 2
}
