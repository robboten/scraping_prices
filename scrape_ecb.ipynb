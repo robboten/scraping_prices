{
 "cells": [
  {
   "cell_type": "code",
   "execution_count": 1,
   "id": "183db1c2",
   "metadata": {},
   "outputs": [],
   "source": [
    "import requests\n",
    "import pandas as pd\n",
    "#import json\n",
    "#import numpy as np"
   ]
  },
  {
   "cell_type": "code",
   "execution_count": 2,
   "id": "11d6baec",
   "metadata": {},
   "outputs": [
    {
     "data": {
      "text/plain": [
       "'2022-10-20'"
      ]
     },
     "execution_count": 2,
     "metadata": {},
     "output_type": "execute_result"
    }
   ],
   "source": [
    "from datetime import date\n",
    "\n",
    "today = date.today()\n",
    "today_date = today.strftime(\"%Y-%m-%d\")\n",
    "today_date"
   ]
  },
  {
   "cell_type": "markdown",
   "id": "b12d5a6c",
   "metadata": {},
   "source": [
    "--- here starts currency collection from ecb-------"
   ]
  },
  {
   "cell_type": "code",
   "execution_count": 3,
   "id": "f61a05f9",
   "metadata": {},
   "outputs": [],
   "source": [
    "# Building blocks for the URL\n",
    "entrypoint = 'https://sdw-wsrest.ecb.europa.eu/service/' # Using protocol 'https'\n",
    "resource = 'data'           # The resource for data queries is always'data'\n",
    "flowRef ='EXR'              # Dataflow describing the data that needs to be returned, exchange rates in this case\n",
    "key = 'D.SEK.EUR.SP00.A'    # Defining the dimension values, explained below\n",
    "\n",
    "# Define the parameters\n",
    "parameters = {\n",
    "    'startPeriod': '2022-01-01',  # Start date of the time series\n",
    "    'endPeriod': today_date,     # End of the time series\n",
    "    #'format':'jsondata'\n",
    "}"
   ]
  },
  {
   "cell_type": "code",
   "execution_count": 4,
   "id": "d601effe",
   "metadata": {},
   "outputs": [],
   "source": [
    "# Construct the URL: https://sdw-wsrest.ecb.europa.eu/service/data/EXR/D.CHF.EUR.SP00.A\n",
    "request_url = entrypoint + resource + '/'+ flowRef + '/' + key\n",
    "\n",
    "# Make the HTTP request again, now requesting for CSV format\n",
    "response = requests.get(request_url, params=parameters, headers={'Accept': 'text/csv'})\n",
    "#response = requests.get(request_url, params=parameters, headers={'Accept': 'application/vnd.sdmx.data+json;version=1.0.0-wd'})\n",
    "# Response succesful? (Response code 200)\n",
    "#print(response)"
   ]
  },
  {
   "cell_type": "markdown",
   "id": "4335f022",
   "metadata": {},
   "source": [
    "# Construct the URL: https://sdw-wsrest.ecb.europa.eu/service/data/EXR/D.CHF.EUR.SP00.A\n",
    "request_url = entrypoint + resource + '/'+ flowRef + '/' + key\n",
    "\n",
    "# Make the HTTP request again, now requesting for CSV format\n",
    "response = requests.get(request_url, params=parameters, headers={'Accept': 'application/vnd.sdmx.data+json;version=1.0.0-wd'})\n",
    "# Response succesful? (Response code 200)\n",
    "response.json()\n"
   ]
  },
  {
   "cell_type": "code",
   "execution_count": 5,
   "id": "0eea7a26",
   "metadata": {},
   "outputs": [],
   "source": [
    "open('csvs/temp.csv', 'wb').write(response.content)\n",
    "currency_df = pd.read_csv('csvs/temp.csv')"
   ]
  },
  {
   "cell_type": "code",
   "execution_count": 6,
   "id": "e1ed8b00",
   "metadata": {},
   "outputs": [],
   "source": [
    "#currency_df.keys()"
   ]
  },
  {
   "cell_type": "code",
   "execution_count": 7,
   "id": "9644fbae",
   "metadata": {
    "scrolled": false
   },
   "outputs": [],
   "source": [
    "#currency_df.tail(1)"
   ]
  },
  {
   "cell_type": "code",
   "execution_count": 8,
   "id": "fcd9a7a4",
   "metadata": {},
   "outputs": [
    {
     "data": {
      "text/html": [
       "<div>\n",
       "<style scoped>\n",
       "    .dataframe tbody tr th:only-of-type {\n",
       "        vertical-align: middle;\n",
       "    }\n",
       "\n",
       "    .dataframe tbody tr th {\n",
       "        vertical-align: top;\n",
       "    }\n",
       "\n",
       "    .dataframe thead th {\n",
       "        text-align: right;\n",
       "    }\n",
       "</style>\n",
       "<table border=\"1\" class=\"dataframe\">\n",
       "  <thead>\n",
       "    <tr style=\"text-align: right;\">\n",
       "      <th></th>\n",
       "      <th>OBS_VALUE</th>\n",
       "      <th>KEY</th>\n",
       "      <th>CURRENCY</th>\n",
       "    </tr>\n",
       "    <tr>\n",
       "      <th>TIME_PERIOD</th>\n",
       "      <th></th>\n",
       "      <th></th>\n",
       "      <th></th>\n",
       "    </tr>\n",
       "  </thead>\n",
       "  <tbody>\n",
       "    <tr>\n",
       "      <th>2022-10-19</th>\n",
       "      <td>10.9448</td>\n",
       "      <td>EXR.D.SEK.EUR.SP00.A</td>\n",
       "      <td>SEK</td>\n",
       "    </tr>\n",
       "  </tbody>\n",
       "</table>\n",
       "</div>"
      ],
      "text/plain": [
       "             OBS_VALUE                   KEY CURRENCY\n",
       "TIME_PERIOD                                          \n",
       "2022-10-19     10.9448  EXR.D.SEK.EUR.SP00.A      SEK"
      ]
     },
     "execution_count": 8,
     "metadata": {},
     "output_type": "execute_result"
    }
   ],
   "source": [
    "currency_df_filter = currency_df.filter(['TIME_PERIOD', 'OBS_VALUE', 'KEY', 'CURRENCY'], axis=1)\n",
    "currency_df_filter['TIME_PERIOD'] = pd.to_datetime(currency_df_filter['TIME_PERIOD'])\n",
    "currency_df_filter = currency_df_filter.set_index('TIME_PERIOD')\n",
    "\n",
    "currency_df_filter.tail(1)"
   ]
  },
  {
   "cell_type": "markdown",
   "id": "90d58da0",
   "metadata": {},
   "source": [
    "rate_sek = currency_df_filter.tail(1)['OBS_VALUE'].values[0]\n",
    "rate_sek"
   ]
  },
  {
   "cell_type": "code",
   "execution_count": 9,
   "id": "758c49ea",
   "metadata": {},
   "outputs": [
    {
     "data": {
      "text/plain": [
       "pyarrow.Table\n",
       "OBS_VALUE: double\n",
       "KEY: string\n",
       "CURRENCY: string\n",
       "TIME_PERIOD: timestamp[ns]\n",
       "----\n",
       "OBS_VALUE: [[10.2958,10.2808,10.2545,10.3265,10.2839,...,11.0098,11.0035,10.9893,10.906,10.9448]]\n",
       "KEY: [[\"EXR.D.SEK.EUR.SP00.A\",\"EXR.D.SEK.EUR.SP00.A\",\"EXR.D.SEK.EUR.SP00.A\",\"EXR.D.SEK.EUR.SP00.A\",\"EXR.D.SEK.EUR.SP00.A\",...,\"EXR.D.SEK.EUR.SP00.A\",\"EXR.D.SEK.EUR.SP00.A\",\"EXR.D.SEK.EUR.SP00.A\",\"EXR.D.SEK.EUR.SP00.A\",\"EXR.D.SEK.EUR.SP00.A\"]]\n",
       "CURRENCY: [[\"SEK\",\"SEK\",\"SEK\",\"SEK\",\"SEK\",...,\"SEK\",\"SEK\",\"SEK\",\"SEK\",\"SEK\"]]\n",
       "TIME_PERIOD: [[2022-01-03 00:00:00.000000000,2022-01-04 00:00:00.000000000,2022-01-05 00:00:00.000000000,2022-01-06 00:00:00.000000000,2022-01-07 00:00:00.000000000,...,2022-10-13 00:00:00.000000000,2022-10-14 00:00:00.000000000,2022-10-17 00:00:00.000000000,2022-10-18 00:00:00.000000000,2022-10-19 00:00:00.000000000]]"
      ]
     },
     "execution_count": 9,
     "metadata": {},
     "output_type": "execute_result"
    }
   ],
   "source": [
    "import scr_utils as scru\n",
    "\n",
    "scru.to_paraquet('currency_prices',currency_df_filter)"
   ]
  },
  {
   "cell_type": "code",
   "execution_count": 10,
   "id": "72b73eda",
   "metadata": {},
   "outputs": [],
   "source": [
    "ts=currency_df_filter"
   ]
  },
  {
   "cell_type": "markdown",
   "id": "bd19ef5d",
   "metadata": {},
   "source": [
    "--- end of currency collection -----"
   ]
  }
 ],
 "metadata": {
  "kernelspec": {
   "display_name": "Python 3.10.0 ('scraping_prices-iCStyPHz')",
   "language": "python",
   "name": "python3"
  },
  "language_info": {
   "codemirror_mode": {
    "name": "ipython",
    "version": 3
   },
   "file_extension": ".py",
   "mimetype": "text/x-python",
   "name": "python",
   "nbconvert_exporter": "python",
   "pygments_lexer": "ipython3",
   "version": "3.10.0"
  },
  "vscode": {
   "interpreter": {
    "hash": "c818b9eec72219e7d362e3bf18220f729802fb300973581bcb291bde24c2d9ac"
   }
  }
 },
 "nbformat": 4,
 "nbformat_minor": 5
}
