{
 "cells": [
  {
   "cell_type": "markdown",
   "id": "051e141c",
   "metadata": {},
   "source": [
    "-todo-\n",
    "clean the df some\n",
    "fix dtypes\n",
    "rename vars to more thought out scheme\n"
   ]
  },
  {
   "cell_type": "code",
   "execution_count": 1,
   "id": "183db1c2",
   "metadata": {},
   "outputs": [],
   "source": [
    "import pandas as pd\n",
    "import json\n",
    "import numpy as np\n",
    "import requests\n",
    "import scrape_steam_games as sgl"
   ]
  },
  {
   "cell_type": "code",
   "execution_count": 2,
   "id": "9facb45f",
   "metadata": {},
   "outputs": [],
   "source": [
    "import scr_utils as scru\n",
    "rate_sek=scru.get_sek()"
   ]
  },
  {
   "cell_type": "code",
   "execution_count": 3,
   "id": "5d25ce59",
   "metadata": {},
   "outputs": [],
   "source": [
    "#get the full game list\n",
    "steam_df=sgl.get_steam_games_list()"
   ]
  },
  {
   "cell_type": "markdown",
   "id": "40cb1bb2",
   "metadata": {},
   "source": [
    "-------- filter for specific game ---------"
   ]
  },
  {
   "cell_type": "code",
   "execution_count": 4,
   "id": "35482f2d",
   "metadata": {},
   "outputs": [],
   "source": [
    "gameName='Hitman 3'\n",
    "gameNameAlt='Hitman 3'"
   ]
  },
  {
   "cell_type": "code",
   "execution_count": 5,
   "id": "2735a55f",
   "metadata": {},
   "outputs": [
    {
     "data": {
      "text/html": [
       "<div>\n",
       "<style scoped>\n",
       "    .dataframe tbody tr th:only-of-type {\n",
       "        vertical-align: middle;\n",
       "    }\n",
       "\n",
       "    .dataframe tbody tr th {\n",
       "        vertical-align: top;\n",
       "    }\n",
       "\n",
       "    .dataframe thead th {\n",
       "        text-align: right;\n",
       "    }\n",
       "</style>\n",
       "<table border=\"1\" class=\"dataframe\">\n",
       "  <thead>\n",
       "    <tr style=\"text-align: right;\">\n",
       "      <th></th>\n",
       "      <th>appid</th>\n",
       "      <th>name</th>\n",
       "    </tr>\n",
       "  </thead>\n",
       "  <tbody>\n",
       "    <tr>\n",
       "      <th>153490</th>\n",
       "      <td>1659040</td>\n",
       "      <td>HITMAN 3</td>\n",
       "    </tr>\n",
       "  </tbody>\n",
       "</table>\n",
       "</div>"
      ],
      "text/plain": [
       "          appid      name\n",
       "153490  1659040  HITMAN 3"
      ]
     },
     "execution_count": 5,
     "metadata": {},
     "output_type": "execute_result"
    }
   ],
   "source": [
    "#exact match\n",
    "steamGamedf=steam_df.loc[steam_df['name'].str.lower().eq(gameName.lower())]\n",
    "if steamGamedf.empty:\n",
    "    steamGamedf=steam_df.loc[steam_df['name'].str.lower().eq(gameNameAlt.lower())]\n",
    "if steamGamedf.empty:\n",
    "    #contains match\n",
    "    steamGamedf=steam_df.loc[steam_df['name'].str.contains(gameName, case=False)]\n",
    "if steamGamedf.empty:\n",
    "    #contains match\n",
    "    steamGamedf=steam_df.loc[steam_df['name'].str.contains(gameNameAlt, case=False)]\n",
    "steamGamedf"
   ]
  },
  {
   "cell_type": "markdown",
   "id": "e8254ace",
   "metadata": {},
   "source": [
    "---- get single game info ------"
   ]
  },
  {
   "cell_type": "code",
   "execution_count": 6,
   "id": "64be1ea7",
   "metadata": {
    "scrolled": false
   },
   "outputs": [
    {
     "data": {
      "text/plain": [
       "'https://store.steampowered.com/api/appdetails?appids=1659040'"
      ]
     },
     "execution_count": 6,
     "metadata": {},
     "output_type": "execute_result"
    }
   ],
   "source": [
    "appid_single_game=steamGamedf['appid'].values[0]\n",
    "\n",
    "url_steam_game = 'https://store.steampowered.com/api/appdetails?appids='+str(appid_single_game)\n",
    "url_steam_game"
   ]
  },
  {
   "cell_type": "code",
   "execution_count": 7,
   "id": "57f55681",
   "metadata": {
    "scrolled": true
   },
   "outputs": [],
   "source": [
    "#steamGamedf['url'].values[0]"
   ]
  },
  {
   "cell_type": "code",
   "execution_count": 8,
   "id": "dbe83b1a",
   "metadata": {},
   "outputs": [],
   "source": [
    "steamResponse = requests.get(url_steam_game).json() \n",
    "if steamResponse[str(appid_single_game)]['success']:\n",
    "    datac=steamResponse[str(appid_single_game)]['data']"
   ]
  },
  {
   "cell_type": "code",
   "execution_count": 9,
   "id": "ba9fd712",
   "metadata": {},
   "outputs": [],
   "source": [
    "#datac"
   ]
  },
  {
   "cell_type": "markdown",
   "id": "8055cf68",
   "metadata": {
    "scrolled": false
   },
   "source": [
    "frames=[]\n",
    "for index, row in steamGamedf.iterrows():\n",
    "    #print(row[\"name\"], row[\"url\"])\n",
    "    steamResponse = requests.get(row['url']).json() \n",
    "    if steamResponse[str(row[\"appid\"])]['success']:\n",
    "        datac=steamResponse[str(row[\"appid\"])]['data']\n",
    "        #if \"price_overview\" in datac:\n",
    "        steamSdf=pd.json_normalize(datac)\n",
    "        steamSdf.keys()\n",
    "        frames.append(steamSdf)\n",
    "        \n",
    "single = pd.concat(frames, ignore_index=True)\n",
    "single"
   ]
  },
  {
   "cell_type": "code",
   "execution_count": 10,
   "id": "14b437c5",
   "metadata": {},
   "outputs": [
    {
     "data": {
      "text/html": [
       "<div>\n",
       "<style scoped>\n",
       "    .dataframe tbody tr th:only-of-type {\n",
       "        vertical-align: middle;\n",
       "    }\n",
       "\n",
       "    .dataframe tbody tr th {\n",
       "        vertical-align: top;\n",
       "    }\n",
       "\n",
       "    .dataframe thead th {\n",
       "        text-align: right;\n",
       "    }\n",
       "</style>\n",
       "<table border=\"1\" class=\"dataframe\">\n",
       "  <thead>\n",
       "    <tr style=\"text-align: right;\">\n",
       "      <th></th>\n",
       "      <th>type</th>\n",
       "      <th>name</th>\n",
       "      <th>steam_appid</th>\n",
       "      <th>required_age</th>\n",
       "      <th>is_free</th>\n",
       "      <th>controller_support</th>\n",
       "      <th>dlc</th>\n",
       "      <th>detailed_description</th>\n",
       "      <th>about_the_game</th>\n",
       "      <th>short_description</th>\n",
       "      <th>...</th>\n",
       "      <th>metacritic.url</th>\n",
       "      <th>recommendations.total</th>\n",
       "      <th>achievements.total</th>\n",
       "      <th>achievements.highlighted</th>\n",
       "      <th>release_date.coming_soon</th>\n",
       "      <th>release_date.date</th>\n",
       "      <th>support_info.url</th>\n",
       "      <th>support_info.email</th>\n",
       "      <th>content_descriptors.ids</th>\n",
       "      <th>content_descriptors.notes</th>\n",
       "    </tr>\n",
       "  </thead>\n",
       "  <tbody>\n",
       "    <tr>\n",
       "      <th>0</th>\n",
       "      <td>game</td>\n",
       "      <td>HITMAN 3</td>\n",
       "      <td>1659040</td>\n",
       "      <td>18</td>\n",
       "      <td>False</td>\n",
       "      <td>full</td>\n",
       "      <td>[1829591, 1829592, 1829590, 1843460, 1829595, ...</td>\n",
       "      <td>&lt;h1&gt;Standard Edition&lt;/h1&gt;&lt;p&gt;&lt;img src=\"https://...</td>\n",
       "      <td>&lt;u&gt;&lt;strong&gt;WORLD OF ASSASSINATION&lt;/strong&gt;&lt;/u&gt;...</td>\n",
       "      <td>Death Awaits. Agent 47 returns in HITMAN 3, th...</td>\n",
       "      <td>...</td>\n",
       "      <td>https://www.metacritic.com/game/pc/hitman-3?ft...</td>\n",
       "      <td>5287</td>\n",
       "      <td>83</td>\n",
       "      <td>[{'name': 'The Result of Previous Training', '...</td>\n",
       "      <td>False</td>\n",
       "      <td>20 Jan, 2022</td>\n",
       "      <td>https://www.ioi.dk/player-support/</td>\n",
       "      <td></td>\n",
       "      <td>[2, 5]</td>\n",
       "      <td>This Game may contain content not appropriate ...</td>\n",
       "    </tr>\n",
       "  </tbody>\n",
       "</table>\n",
       "<p>1 rows × 51 columns</p>\n",
       "</div>"
      ],
      "text/plain": [
       "   type      name  steam_appid required_age  is_free controller_support  \\\n",
       "0  game  HITMAN 3      1659040           18    False               full   \n",
       "\n",
       "                                                 dlc  \\\n",
       "0  [1829591, 1829592, 1829590, 1843460, 1829595, ...   \n",
       "\n",
       "                                detailed_description  \\\n",
       "0  <h1>Standard Edition</h1><p><img src=\"https://...   \n",
       "\n",
       "                                      about_the_game  \\\n",
       "0  <u><strong>WORLD OF ASSASSINATION</strong></u>...   \n",
       "\n",
       "                                   short_description  ...  \\\n",
       "0  Death Awaits. Agent 47 returns in HITMAN 3, th...  ...   \n",
       "\n",
       "                                      metacritic.url recommendations.total  \\\n",
       "0  https://www.metacritic.com/game/pc/hitman-3?ft...                  5287   \n",
       "\n",
       "  achievements.total                           achievements.highlighted  \\\n",
       "0                 83  [{'name': 'The Result of Previous Training', '...   \n",
       "\n",
       "  release_date.coming_soon release_date.date  \\\n",
       "0                    False      20 Jan, 2022   \n",
       "\n",
       "                     support_info.url support_info.email  \\\n",
       "0  https://www.ioi.dk/player-support/                      \n",
       "\n",
       "  content_descriptors.ids                          content_descriptors.notes  \n",
       "0                  [2, 5]  This Game may contain content not appropriate ...  \n",
       "\n",
       "[1 rows x 51 columns]"
      ]
     },
     "execution_count": 10,
     "metadata": {},
     "output_type": "execute_result"
    }
   ],
   "source": [
    "df_single_game=pd.json_normalize(datac)\n",
    "df_single_game"
   ]
  },
  {
   "cell_type": "markdown",
   "id": "672b6625",
   "metadata": {},
   "source": [
    "add read timestamp and add only if later?"
   ]
  },
  {
   "cell_type": "code",
   "execution_count": 11,
   "id": "c391ba86",
   "metadata": {},
   "outputs": [],
   "source": [
    "df_single_game['date_time'] = pd.Timestamp.now()"
   ]
  },
  {
   "cell_type": "code",
   "execution_count": 12,
   "id": "759e30e3",
   "metadata": {
    "scrolled": true
   },
   "outputs": [
    {
     "data": {
      "text/html": [
       "<div>\n",
       "<style scoped>\n",
       "    .dataframe tbody tr th:only-of-type {\n",
       "        vertical-align: middle;\n",
       "    }\n",
       "\n",
       "    .dataframe tbody tr th {\n",
       "        vertical-align: top;\n",
       "    }\n",
       "\n",
       "    .dataframe thead th {\n",
       "        text-align: right;\n",
       "    }\n",
       "</style>\n",
       "<table border=\"1\" class=\"dataframe\">\n",
       "  <thead>\n",
       "    <tr style=\"text-align: right;\">\n",
       "      <th></th>\n",
       "      <th>type</th>\n",
       "      <th>name</th>\n",
       "      <th>steam_appid</th>\n",
       "      <th>required_age</th>\n",
       "      <th>is_free</th>\n",
       "      <th>controller_support</th>\n",
       "      <th>dlc</th>\n",
       "      <th>detailed_description</th>\n",
       "      <th>about_the_game</th>\n",
       "      <th>short_description</th>\n",
       "      <th>...</th>\n",
       "      <th>achievements.total</th>\n",
       "      <th>achievements.highlighted</th>\n",
       "      <th>release_date.coming_soon</th>\n",
       "      <th>release_date.date</th>\n",
       "      <th>support_info.url</th>\n",
       "      <th>support_info.email</th>\n",
       "      <th>content_descriptors.ids</th>\n",
       "      <th>content_descriptors.notes</th>\n",
       "      <th>date_time</th>\n",
       "      <th>priceSEK</th>\n",
       "    </tr>\n",
       "  </thead>\n",
       "  <tbody>\n",
       "    <tr>\n",
       "      <th>0</th>\n",
       "      <td>game</td>\n",
       "      <td>HITMAN 3</td>\n",
       "      <td>1659040</td>\n",
       "      <td>18</td>\n",
       "      <td>False</td>\n",
       "      <td>full</td>\n",
       "      <td>[1829591, 1829592, 1829590, 1843460, 1829595, ...</td>\n",
       "      <td>&lt;h1&gt;Standard Edition&lt;/h1&gt;&lt;p&gt;&lt;img src=\"https://...</td>\n",
       "      <td>&lt;u&gt;&lt;strong&gt;WORLD OF ASSASSINATION&lt;/strong&gt;&lt;/u&gt;...</td>\n",
       "      <td>Death Awaits. Agent 47 returns in HITMAN 3, th...</td>\n",
       "      <td>...</td>\n",
       "      <td>83</td>\n",
       "      <td>[{'name': 'The Result of Previous Training', '...</td>\n",
       "      <td>False</td>\n",
       "      <td>20 Jan, 2022</td>\n",
       "      <td>https://www.ioi.dk/player-support/</td>\n",
       "      <td></td>\n",
       "      <td>[2, 5]</td>\n",
       "      <td>This Game may contain content not appropriate ...</td>\n",
       "      <td>2022-10-20 12:41:55.029158</td>\n",
       "      <td>263.0</td>\n",
       "    </tr>\n",
       "  </tbody>\n",
       "</table>\n",
       "<p>1 rows × 53 columns</p>\n",
       "</div>"
      ],
      "text/plain": [
       "   type      name  steam_appid required_age  is_free controller_support  \\\n",
       "0  game  HITMAN 3      1659040           18    False               full   \n",
       "\n",
       "                                                 dlc  \\\n",
       "0  [1829591, 1829592, 1829590, 1843460, 1829595, ...   \n",
       "\n",
       "                                detailed_description  \\\n",
       "0  <h1>Standard Edition</h1><p><img src=\"https://...   \n",
       "\n",
       "                                      about_the_game  \\\n",
       "0  <u><strong>WORLD OF ASSASSINATION</strong></u>...   \n",
       "\n",
       "                                   short_description  ... achievements.total  \\\n",
       "0  Death Awaits. Agent 47 returns in HITMAN 3, th...  ...                 83   \n",
       "\n",
       "                            achievements.highlighted release_date.coming_soon  \\\n",
       "0  [{'name': 'The Result of Previous Training', '...                    False   \n",
       "\n",
       "  release_date.date                    support_info.url support_info.email  \\\n",
       "0      20 Jan, 2022  https://www.ioi.dk/player-support/                      \n",
       "\n",
       "  content_descriptors.ids                          content_descriptors.notes  \\\n",
       "0                  [2, 5]  This Game may contain content not appropriate ...   \n",
       "\n",
       "                   date_time priceSEK  \n",
       "0 2022-10-20 12:41:55.029158    263.0  \n",
       "\n",
       "[1 rows x 53 columns]"
      ]
     },
     "execution_count": 12,
     "metadata": {},
     "output_type": "execute_result"
    }
   ],
   "source": [
    "if 'price_overview.final' in df_single_game.columns:\n",
    "    df_single_game = df_single_game.assign(priceSEK=df_single_game[\"price_overview.final\"]/100*rate_sek)\n",
    "    #df_single_game.round({'priceSEK': 1})\n",
    "    df_single_game.priceSEK=df_single_game.priceSEK.round()\n",
    "else:\n",
    "    print('No price')\n",
    "df_single_game"
   ]
  },
  {
   "cell_type": "code",
   "execution_count": 13,
   "id": "ceced2e4",
   "metadata": {
    "scrolled": true
   },
   "outputs": [
    {
     "data": {
      "text/html": [
       "<div>\n",
       "<style scoped>\n",
       "    .dataframe tbody tr th:only-of-type {\n",
       "        vertical-align: middle;\n",
       "    }\n",
       "\n",
       "    .dataframe tbody tr th {\n",
       "        vertical-align: top;\n",
       "    }\n",
       "\n",
       "    .dataframe thead th {\n",
       "        text-align: right;\n",
       "    }\n",
       "</style>\n",
       "<table border=\"1\" class=\"dataframe\">\n",
       "  <thead>\n",
       "    <tr style=\"text-align: right;\">\n",
       "      <th></th>\n",
       "      <th>name</th>\n",
       "      <th>type</th>\n",
       "      <th>controller_support</th>\n",
       "      <th>price_overview.final</th>\n",
       "      <th>price_overview.discount_percent</th>\n",
       "      <th>price_overview.final_formatted</th>\n",
       "      <th>priceSEK</th>\n",
       "      <th>date_time</th>\n",
       "    </tr>\n",
       "  </thead>\n",
       "  <tbody>\n",
       "    <tr>\n",
       "      <th>0</th>\n",
       "      <td>HITMAN 3</td>\n",
       "      <td>game</td>\n",
       "      <td>full</td>\n",
       "      <td>2399</td>\n",
       "      <td>60</td>\n",
       "      <td>23,99€</td>\n",
       "      <td>263.0</td>\n",
       "      <td>2022-10-20 12:41:55.029158</td>\n",
       "    </tr>\n",
       "  </tbody>\n",
       "</table>\n",
       "</div>"
      ],
      "text/plain": [
       "       name  type controller_support  price_overview.final  \\\n",
       "0  HITMAN 3  game               full                  2399   \n",
       "\n",
       "   price_overview.discount_percent price_overview.final_formatted  priceSEK  \\\n",
       "0                               60                         23,99€     263.0   \n",
       "\n",
       "                   date_time  \n",
       "0 2022-10-20 12:41:55.029158  "
      ]
     },
     "execution_count": 13,
     "metadata": {},
     "output_type": "execute_result"
    }
   ],
   "source": [
    "df_single_game.filter(['name','type','controller_support',\n",
    "       'price_overview.final',\n",
    "       'price_overview.discount_percent',\n",
    "       'price_overview.final_formatted','priceSEK', 'date_time'],axis=1)"
   ]
  },
  {
   "cell_type": "code",
   "execution_count": 14,
   "id": "853f62e5",
   "metadata": {},
   "outputs": [
    {
     "data": {
      "text/plain": [
       "263.0"
      ]
     },
     "execution_count": 14,
     "metadata": {},
     "output_type": "execute_result"
    }
   ],
   "source": [
    "df_single_game['priceSEK'].values[0]"
   ]
  },
  {
   "cell_type": "markdown",
   "id": "986e9c8d",
   "metadata": {},
   "source": [
    "save only if newer and/or not same game"
   ]
  },
  {
   "cell_type": "code",
   "execution_count": 15,
   "id": "efe04ca8",
   "metadata": {},
   "outputs": [
    {
     "data": {
      "text/plain": [
       "pyarrow.Table\n",
       "type: string\n",
       "name: string\n",
       "steam_appid: int64\n",
       "required_age: string\n",
       "is_free: bool\n",
       "controller_support: string\n",
       "dlc: list<item: int64>\n",
       "  child 0, item: int64\n",
       "detailed_description: string\n",
       "about_the_game: string\n",
       "short_description: string\n",
       "supported_languages: string\n",
       "header_image: string\n",
       "website: string\n",
       "legal_notice: string\n",
       "developers: list<item: string>\n",
       "  child 0, item: string\n",
       "publishers: list<item: string>\n",
       "  child 0, item: string\n",
       "demos: list<item: struct<appid: int64, description: string>>\n",
       "  child 0, item: struct<appid: int64, description: string>\n",
       "      child 0, appid: int64\n",
       "      child 1, description: string\n",
       "packages: list<item: int64>\n",
       "  child 0, item: int64\n",
       "package_groups: list<item: struct<description: string, display_type: int64, is_recurring_subscription: string, name: string, save_text: string, selection_text: string, subs: list<item: struct<can_get_free_license: string, is_free_license: bool, option_description: string, option_text: string, packageid: int64, percent_savings: int64, percent_savings_text: string, price_in_cents_with_discount: int64>>, title: string>>\n",
       "  child 0, item: struct<description: string, display_type: int64, is_recurring_subscription: string, name: string, save_text: string, selection_text: string, subs: list<item: struct<can_get_free_license: string, is_free_license: bool, option_description: string, option_text: string, packageid: int64, percent_savings: int64, percent_savings_text: string, price_in_cents_with_discount: int64>>, title: string>\n",
       "      child 0, description: string\n",
       "      child 1, display_type: int64\n",
       "      child 2, is_recurring_subscription: string\n",
       "      child 3, name: string\n",
       "      child 4, save_text: string\n",
       "      child 5, selection_text: string\n",
       "      child 6, subs: list<item: struct<can_get_free_license: string, is_free_license: bool, option_description: string, option_text: string, packageid: int64, percent_savings: int64, percent_savings_text: string, price_in_cents_with_discount: int64>>\n",
       "          child 0, item: struct<can_get_free_license: string, is_free_license: bool, option_description: string, option_text: string, packageid: int64, percent_savings: int64, percent_savings_text: string, price_in_cents_with_discount: int64>\n",
       "              child 0, can_get_free_license: string\n",
       "              child 1, is_free_license: bool\n",
       "              child 2, option_description: string\n",
       "              child 3, option_text: string\n",
       "              child 4, packageid: int64\n",
       "              child 5, percent_savings: int64\n",
       "              child 6, percent_savings_text: string\n",
       "              child 7, price_in_cents_with_discount: int64\n",
       "      child 7, title: string\n",
       "categories: list<item: struct<description: string, id: int64>>\n",
       "  child 0, item: struct<description: string, id: int64>\n",
       "      child 0, description: string\n",
       "      child 1, id: int64\n",
       "genres: list<item: struct<description: string, id: string>>\n",
       "  child 0, item: struct<description: string, id: string>\n",
       "      child 0, description: string\n",
       "      child 1, id: string\n",
       "screenshots: list<item: struct<id: int64, path_full: string, path_thumbnail: string>>\n",
       "  child 0, item: struct<id: int64, path_full: string, path_thumbnail: string>\n",
       "      child 0, id: int64\n",
       "      child 1, path_full: string\n",
       "      child 2, path_thumbnail: string\n",
       "movies: list<item: struct<highlight: bool, id: int64, mp4: struct<480: string, max: string>, name: string, thumbnail: string, webm: struct<480: string, max: string>>>\n",
       "  child 0, item: struct<highlight: bool, id: int64, mp4: struct<480: string, max: string>, name: string, thumbnail: string, webm: struct<480: string, max: string>>\n",
       "      child 0, highlight: bool\n",
       "      child 1, id: int64\n",
       "      child 2, mp4: struct<480: string, max: string>\n",
       "          child 0, 480: string\n",
       "          child 1, max: string\n",
       "      child 3, name: string\n",
       "      child 4, thumbnail: string\n",
       "      child 5, webm: struct<480: string, max: string>\n",
       "          child 0, 480: string\n",
       "          child 1, max: string\n",
       "background: string\n",
       "background_raw: string\n",
       "pc_requirements.minimum: string\n",
       "pc_requirements.recommended: string\n",
       "mac_requirements.minimum: string\n",
       "mac_requirements.recommended: string\n",
       "linux_requirements.minimum: string\n",
       "linux_requirements.recommended: string\n",
       "price_overview.currency: string\n",
       "price_overview.initial: int64\n",
       "price_overview.final: int64\n",
       "price_overview.discount_percent: int64\n",
       "price_overview.initial_formatted: string\n",
       "price_overview.final_formatted: string\n",
       "platforms.windows: bool\n",
       "platforms.mac: bool\n",
       "platforms.linux: bool\n",
       "metacritic.score: int64\n",
       "metacritic.url: string\n",
       "recommendations.total: int64\n",
       "achievements.total: int64\n",
       "achievements.highlighted: list<item: struct<name: string, path: string>>\n",
       "  child 0, item: struct<name: string, path: string>\n",
       "      child 0, name: string\n",
       "      child 1, path: string\n",
       "release_date.coming_soon: bool\n",
       "release_date.date: string\n",
       "support_info.url: string\n",
       "support_info.email: string\n",
       "content_descriptors.ids: list<item: int64>\n",
       "  child 0, item: int64\n",
       "content_descriptors.notes: string\n",
       "date_time: timestamp[ns]\n",
       "priceSEK: double\n",
       "----\n",
       "type: [[\"game\"]]\n",
       "name: [[\"HITMAN 3\"]]\n",
       "steam_appid: [[1659040]]\n",
       "required_age: [[\"18\"]]\n",
       "is_free: [[false]]\n",
       "controller_support: [[\"full\"]]\n",
       "dlc: [[[1829591,1829592,1829590,1843460,1829595,...,1829582,1829583,1829584,1829585,1829586]]]\n",
       "detailed_description: [[\"<h1>Standard Edition</h1><p><img src=\"https://cdn.akamai.steamstatic.com/steam/apps/1659040/extras/Standard_Header.jpg?t=1661511609\" /><br>Death Awaits. Agent 47 returns in HITMAN 3, the dramatic conclusion to the World of Assassination trilogy.<br><br>The HITMAN 3 - Standard Edition includes access to the following locations:<br>- Dubai<br>- Dartmoor<br>- Berlin<br>- Chongqing<br>- Mendoza<br>- Carpathian Mountains</p><br><h1>Deluxe Edition</h1><p><img src=\"https://cdn.akamai.steamstatic.com/steam/apps/1659040/extras/Deluxe_Header.jpg?t=1661511609\" /><br>Death Awaits. Agent 47 returns in HITMAN 3, the dramatic conclusion to the World of Assassination trilogy.<br> <br>The Deluxe Edition includes exciting new content via the Deluxe Pack<br>- Deluxe Escalation Contracts<br>- Deluxe Suits and Items<br>- Digital Soundtrack<br>- Digital “World of HITMAN” Book<br>- Director Commentary (Mission Introduction)<br> <br>Internet access and a free IOI Account required to redeem the digital soundtrack and the digital &quot;World of Hitman&quot; book. For more information, please visit <a href=\"https://steamcommunity.com/linkfilter/?url=http://ioi.dk/ioi-account\" target=\"_blank\" rel=\" noopener\"  >ioi.dk/ioi-account</a></p><br><h1>About the Game</h1><u><strong>WORLD OF ASSASSINATION</strong></u><br><br>HITMAN 3 is the best place to play every game in the World of Assassination trilogy. If you’ve already played HITMAN 2 on Steam, the locations that you can access in that game will be converted into an ‘Access Pass’ for HITMAN 3 when you buy the latest game. The Access Pass DLCs will be applied to your account and the locations will be available and ready to play from the first time you launch the game.<br><br><strong>BECOME A PROFESSIONAL ASSASSIN</strong><br><br><img src=\"https://cdn.akamai.steamstatic.com/steam/apps/1659040/extras/Become_Pro_H3.gif?t=1661511609\" /><br><br>HITMAN 3 is the dramatic conclusion to the World of Assassination trilogy. Become Agent 47, a legendary assassin and use creativity and improvisation to execute the most ingenious and spectacular eliminations, in sprawling sandbox locations all around the globe.<br><br><br><strong>ELIMINATE THE PARTNERS OF PROVIDENCE</strong><br><br><img src=\"https://cdn.akamai.steamstatic.com/steam/apps/1659040/extras/Eliminate_Providence_H3.gif?t=1661511609\" /><br><br>Agent 47 must join forces with his long-lost friend Lucas Grey to eliminate the partners of Providence - but they are forced to adapt as their hunt intensifies. When the dust settles, 47 and the world he inhabits will never be the same again.<br><br><strong>TRAVEL THE WORLD</strong><br><br><img src=\"https://cdn.akamai.steamstatic.com/steam/apps/1659040/extras/Travel_The_World_H3.gif?t=1661511609\" /><br><br>Travel to exotic locations in a globetrotting adventure and experience rich and detailed environments that are packed full of opportunities. From a skyscraper in Dubai to the colourful streets of Chongqing and the vineyards of Mendoza, each HITMAN 3 location has been meticulously crafted with an extremely high level of fidelity. IO Interactive’s award-winning Glacier technology powers HITMAN 3’s tactile and immersive game world to offer unparalleled player choice and replayability.\"]]\n",
       "about_the_game: [[\"<u><strong>WORLD OF ASSASSINATION</strong></u><br><br>HITMAN 3 is the best place to play every game in the World of Assassination trilogy. If you’ve already played HITMAN 2 on Steam, the locations that you can access in that game will be converted into an ‘Access Pass’ for HITMAN 3 when you buy the latest game. The Access Pass DLCs will be applied to your account and the locations will be available and ready to play from the first time you launch the game.<br><br><strong>BECOME A PROFESSIONAL ASSASSIN</strong><br><br><img src=\"https://cdn.akamai.steamstatic.com/steam/apps/1659040/extras/Become_Pro_H3.gif?t=1661511609\" /><br><br>HITMAN 3 is the dramatic conclusion to the World of Assassination trilogy. Become Agent 47, a legendary assassin and use creativity and improvisation to execute the most ingenious and spectacular eliminations, in sprawling sandbox locations all around the globe.<br><br><br><strong>ELIMINATE THE PARTNERS OF PROVIDENCE</strong><br><br><img src=\"https://cdn.akamai.steamstatic.com/steam/apps/1659040/extras/Eliminate_Providence_H3.gif?t=1661511609\" /><br><br>Agent 47 must join forces with his long-lost friend Lucas Grey to eliminate the partners of Providence - but they are forced to adapt as their hunt intensifies. When the dust settles, 47 and the world he inhabits will never be the same again.<br><br><strong>TRAVEL THE WORLD</strong><br><br><img src=\"https://cdn.akamai.steamstatic.com/steam/apps/1659040/extras/Travel_The_World_H3.gif?t=1661511609\" /><br><br>Travel to exotic locations in a globetrotting adventure and experience rich and detailed environments that are packed full of opportunities. From a skyscraper in Dubai to the colourful streets of Chongqing and the vineyards of Mendoza, each HITMAN 3 location has been meticulously crafted with an extremely high level of fidelity. IO Interactive’s award-winning Glacier technology powers HITMAN 3’s tactile and immersive game world to offer unparalleled player choice and replayability.\"]]\n",
       "short_description: [[\"Death Awaits. Agent 47 returns in HITMAN 3, the dramatic conclusion to the World of Assassination trilogy.\"]]\n",
       "..."
      ]
     },
     "execution_count": 15,
     "metadata": {},
     "output_type": "execute_result"
    }
   ],
   "source": [
    "scru.to_paraquet('steam_prices',df_single_game)"
   ]
  }
 ],
 "metadata": {
  "kernelspec": {
   "display_name": "Python 3.10.0 64-bit",
   "language": "python",
   "name": "python3"
  },
  "language_info": {
   "codemirror_mode": {
    "name": "ipython",
    "version": 3
   },
   "file_extension": ".py",
   "mimetype": "text/x-python",
   "name": "python",
   "nbconvert_exporter": "python",
   "pygments_lexer": "ipython3",
   "version": "3.10.0"
  },
  "vscode": {
   "interpreter": {
    "hash": "0a7ccb16110ce14ed3efea9a494288ae5ce82bd2448893b7f736893aef85df94"
   }
  }
 },
 "nbformat": 4,
 "nbformat_minor": 5
}
