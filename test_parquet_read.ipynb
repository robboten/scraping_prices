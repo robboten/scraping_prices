{
 "cells": [
  {
   "cell_type": "code",
   "execution_count": 33,
   "metadata": {},
   "outputs": [],
   "source": [
    "´%run scrape_ig.ipynb"
   ]
  },
  {
   "cell_type": "code",
   "execution_count": 35,
   "metadata": {},
   "outputs": [],
   "source": [
    "table=pa.Table.from_pandas(df_test)"
   ]
  },
  {
   "cell_type": "code",
   "execution_count": 36,
   "metadata": {},
   "outputs": [],
   "source": [
    "pq.write_table(table,'parquets/gameprices.parquet')"
   ]
  },
  {
   "cell_type": "code",
   "execution_count": 37,
   "metadata": {},
   "outputs": [
    {
     "data": {
      "text/html": [
       "<div>\n",
       "<style scoped>\n",
       "    .dataframe tbody tr th:only-of-type {\n",
       "        vertical-align: middle;\n",
       "    }\n",
       "\n",
       "    .dataframe tbody tr th {\n",
       "        vertical-align: top;\n",
       "    }\n",
       "\n",
       "    .dataframe thead th {\n",
       "        text-align: right;\n",
       "    }\n",
       "</style>\n",
       "<table border=\"1\" class=\"dataframe\">\n",
       "  <thead>\n",
       "    <tr style=\"text-align: right;\">\n",
       "      <th></th>\n",
       "      <th>name</th>\n",
       "      <th>prod_id</th>\n",
       "      <th>brand</th>\n",
       "      <th>search_tags</th>\n",
       "    </tr>\n",
       "  </thead>\n",
       "  <tbody>\n",
       "    <tr>\n",
       "      <th>0</th>\n",
       "      <td>Hitman 3</td>\n",
       "      <td>6851</td>\n",
       "      <td>Io-Interactive A/S</td>\n",
       "      <td>[Action, Stealth, VR, Assassin, Adventure, San...</td>\n",
       "    </tr>\n",
       "    <tr>\n",
       "      <th>1</th>\n",
       "      <td>Hitman 3</td>\n",
       "      <td>12619</td>\n",
       "      <td>Io-Interactive A/S</td>\n",
       "      <td>[Action, Stealth, VR, Assassin, Adventure, San...</td>\n",
       "    </tr>\n",
       "    <tr>\n",
       "      <th>2</th>\n",
       "      <td>Hitman 3 (Xbox ONE / Xbox Series X|S)</td>\n",
       "      <td>8010</td>\n",
       "      <td>Io-Interactive A/S</td>\n",
       "      <td>[Action, Stealth, VR, Assassin, Adventure, San...</td>\n",
       "    </tr>\n",
       "  </tbody>\n",
       "</table>\n",
       "</div>"
      ],
      "text/plain": [
       "                                    name  prod_id               brand  \\\n",
       "0                               Hitman 3     6851  Io-Interactive A/S   \n",
       "1                               Hitman 3    12619  Io-Interactive A/S   \n",
       "2  Hitman 3 (Xbox ONE / Xbox Series X|S)     8010  Io-Interactive A/S   \n",
       "\n",
       "                                         search_tags  \n",
       "0  [Action, Stealth, VR, Assassin, Adventure, San...  \n",
       "1  [Action, Stealth, VR, Assassin, Adventure, San...  \n",
       "2  [Action, Stealth, VR, Assassin, Adventure, San...  "
      ]
     },
     "execution_count": 37,
     "metadata": {},
     "output_type": "execute_result"
    }
   ],
   "source": [
    "table2=pq.read_pandas('parquets/gameprices.parquet',columns=['name','prod_id','brand','search_tags']).to_pandas()\n",
    "table2"
   ]
  },
  {
   "cell_type": "code",
   "execution_count": 38,
   "metadata": {},
   "outputs": [
    {
     "data": {
      "text/plain": [
       "name           object\n",
       "prod_id         int32\n",
       "brand          object\n",
       "search_tags    object\n",
       "dtype: object"
      ]
     },
     "execution_count": 38,
     "metadata": {},
     "output_type": "execute_result"
    }
   ],
   "source": [
    "table2.dtypes"
   ]
  }
 ],
 "metadata": {
  "kernelspec": {
   "display_name": "Python 3.10.0 ('scraping_prices-iCStyPHz')",
   "language": "python",
   "name": "python3"
  },
  "language_info": {
   "codemirror_mode": {
    "name": "ipython",
    "version": 3
   },
   "file_extension": ".py",
   "mimetype": "text/x-python",
   "name": "python",
   "nbconvert_exporter": "python",
   "pygments_lexer": "ipython3",
   "version": "3.10.0"
  },
  "orig_nbformat": 4,
  "vscode": {
   "interpreter": {
    "hash": "c818b9eec72219e7d362e3bf18220f729802fb300973581bcb291bde24c2d9ac"
   }
  }
 },
 "nbformat": 4,
 "nbformat_minor": 2
}
