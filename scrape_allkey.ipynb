{
 "cells": [
  {
   "cell_type": "markdown",
   "id": "280cdf28",
   "metadata": {},
   "source": [
    "Todo: Clean up and rename stuff"
   ]
  },
  {
   "cell_type": "code",
   "execution_count": 1,
   "id": "c6013d45",
   "metadata": {},
   "outputs": [],
   "source": [
    "import scr_utils as scru\n",
    "rate_sek=scru.get_sek()"
   ]
  },
  {
   "cell_type": "code",
   "execution_count": 2,
   "id": "03242827",
   "metadata": {},
   "outputs": [],
   "source": [
    "import requests\n",
    "from bs4 import BeautifulSoup"
   ]
  },
  {
   "cell_type": "code",
   "execution_count": 3,
   "id": "183db1c2",
   "metadata": {},
   "outputs": [],
   "source": [
    "import pandas as pd\n",
    "import json\n",
    "import numpy as np"
   ]
  },
  {
   "cell_type": "code",
   "execution_count": 4,
   "id": "35482f2d",
   "metadata": {},
   "outputs": [],
   "source": [
    "gameName='Red Dead Redemption 2'\n",
    "gameNameAlt='Hitman 3'"
   ]
  },
  {
   "cell_type": "markdown",
   "id": "94367f99",
   "metadata": {},
   "source": [
    "---- allkeyshop search----- "
   ]
  },
  {
   "cell_type": "code",
   "execution_count": 5,
   "id": "668e647d",
   "metadata": {},
   "outputs": [],
   "source": [
    "url_endpoint = \"https://www.allkeyshop.com/blog/wp-admin/admin-ajax.php\"\n",
    "reqParams = {\n",
    "    'action': 'catalogue_query',\n",
    "    'query[search]': gameName,\n",
    "    'query[productsPerPage]': 16,\n",
    "    'query[currency]': 'eur',\n",
    "    'query[category]': 'pc-games-all'\n",
    "}\n",
    "\n",
    "resp = requests.get(url_endpoint, params=reqParams).json()['results']"
   ]
  },
  {
   "cell_type": "code",
   "execution_count": 6,
   "id": "945ff274",
   "metadata": {},
   "outputs": [
    {
     "data": {
      "text/plain": [
       "'18688'"
      ]
     },
     "execution_count": 6,
     "metadata": {},
     "output_type": "execute_result"
    }
   ],
   "source": [
    "soup = BeautifulSoup(resp, 'html.parser')\n",
    "productId = soup.find(class_=\"metacritic-button\")['data-product-id']\n",
    "productId"
   ]
  },
  {
   "cell_type": "code",
   "execution_count": 7,
   "id": "46d9c38b",
   "metadata": {},
   "outputs": [],
   "source": [
    "reqParams = {\n",
    "    'action': 'get_offers',\n",
    "    'product': productId,\n",
    "    'currency': 'eur',\n",
    "    'use_beta_offers_display': 1,\n",
    "    'region':2\n",
    "}\n",
    "\n",
    "payload = {}\n",
    "\n",
    "response = requests.request(\n",
    "    \"GET\", url_endpoint, params=reqParams, data=payload)\n",
    "#response.json()"
   ]
  },
  {
   "cell_type": "code",
   "execution_count": 8,
   "id": "0bf6f90f",
   "metadata": {},
   "outputs": [],
   "source": [
    "file=response.json()"
   ]
  },
  {
   "cell_type": "code",
   "execution_count": 9,
   "id": "a62d85d6",
   "metadata": {},
   "outputs": [
    {
     "data": {
      "text/plain": [
       "dict_keys(['success', 'offers', 'merchants', 'editions', 'regions'])"
      ]
     },
     "execution_count": 9,
     "metadata": {},
     "output_type": "execute_result"
    }
   ],
   "source": [
    "file.keys()"
   ]
  },
  {
   "cell_type": "code",
   "execution_count": 33,
   "id": "44439c6f",
   "metadata": {},
   "outputs": [
    {
     "data": {
      "text/plain": [
       "{'1': {'id': '1', 'name': 'Standard'}, '21': {'id': '21', 'name': 'Ultimate'}}"
      ]
     },
     "execution_count": 33,
     "metadata": {},
     "output_type": "execute_result"
    }
   ],
   "source": [
    "file['editions']"
   ]
  },
  {
   "cell_type": "code",
   "execution_count": 10,
   "id": "68b0c5dd",
   "metadata": {},
   "outputs": [
    {
     "data": {
      "text/plain": [
       "dict_keys(['bestCoupon', 'currency', 'price', 'priceWithoutCoupon'])"
      ]
     },
     "execution_count": 10,
     "metadata": {},
     "output_type": "execute_result"
    }
   ],
   "source": [
    "file['offers'][0]['price']['eur'].keys()"
   ]
  },
  {
   "cell_type": "code",
   "execution_count": 11,
   "id": "9960e8a5",
   "metadata": {},
   "outputs": [
    {
     "data": {
      "text/plain": [
       "29.99"
      ]
     },
     "execution_count": 11,
     "metadata": {},
     "output_type": "execute_result"
    }
   ],
   "source": [
    "file['offers'][0]['price']['eur']['priceWithoutCoupon']"
   ]
  },
  {
   "cell_type": "code",
   "execution_count": 12,
   "id": "fa3dd35a",
   "metadata": {
    "scrolled": true
   },
   "outputs": [
    {
     "data": {
      "text/html": [
       "<div>\n",
       "<style scoped>\n",
       "    .dataframe tbody tr th:only-of-type {\n",
       "        vertical-align: middle;\n",
       "    }\n",
       "\n",
       "    .dataframe tbody tr th {\n",
       "        vertical-align: top;\n",
       "    }\n",
       "\n",
       "    .dataframe thead th {\n",
       "        text-align: right;\n",
       "    }\n",
       "</style>\n",
       "<table border=\"1\" class=\"dataframe\">\n",
       "  <thead>\n",
       "    <tr style=\"text-align: right;\">\n",
       "      <th></th>\n",
       "      <th>id</th>\n",
       "      <th>affiliateUrl</th>\n",
       "      <th>isActive</th>\n",
       "      <th>merchant</th>\n",
       "      <th>edition</th>\n",
       "      <th>region</th>\n",
       "      <th>stock</th>\n",
       "      <th>platform</th>\n",
       "      <th>price.eur.bestCoupon</th>\n",
       "      <th>price.eur.currency</th>\n",
       "      <th>price.eur.price</th>\n",
       "      <th>price.eur.priceWithoutCoupon</th>\n",
       "      <th>price.eur.bestCoupon.code</th>\n",
       "      <th>price.eur.bestCoupon.discountValue</th>\n",
       "      <th>price.eur.bestCoupon.discountStrategy</th>\n",
       "      <th>price.eur.bestCoupon.isCashback</th>\n",
       "    </tr>\n",
       "  </thead>\n",
       "  <tbody>\n",
       "    <tr>\n",
       "      <th>0</th>\n",
       "      <td>132861340</td>\n",
       "      <td>https://store.steampowered.com/app/1174180/Red...</td>\n",
       "      <td>True</td>\n",
       "      <td>1</td>\n",
       "      <td>1</td>\n",
       "      <td>2</td>\n",
       "      <td>InStock</td>\n",
       "      <td>steam</td>\n",
       "      <td>NaN</td>\n",
       "      <td>eur</td>\n",
       "      <td>29.99</td>\n",
       "      <td>29.99</td>\n",
       "      <td>NaN</td>\n",
       "      <td>NaN</td>\n",
       "      <td>NaN</td>\n",
       "      <td>NaN</td>\n",
       "    </tr>\n",
       "    <tr>\n",
       "      <th>1</th>\n",
       "      <td>134728294</td>\n",
       "      <td>https://www.hrkgame.com/en/games/product/red-d...</td>\n",
       "      <td>True</td>\n",
       "      <td>94</td>\n",
       "      <td>21</td>\n",
       "      <td>2</td>\n",
       "      <td>InStock</td>\n",
       "      <td>steam</td>\n",
       "      <td>NaN</td>\n",
       "      <td>eur</td>\n",
       "      <td>33.64</td>\n",
       "      <td>37.38</td>\n",
       "      <td>-10%: ALLKEYSHOP10</td>\n",
       "      <td>10.00</td>\n",
       "      <td>%</td>\n",
       "      <td>False</td>\n",
       "    </tr>\n",
       "    <tr>\n",
       "      <th>2</th>\n",
       "      <td>132868941</td>\n",
       "      <td>https://www.cjs-cdkeys.com/products/Red-Dead-R...</td>\n",
       "      <td>True</td>\n",
       "      <td>67</td>\n",
       "      <td>1</td>\n",
       "      <td>2</td>\n",
       "      <td>InStock</td>\n",
       "      <td>steam</td>\n",
       "      <td>NaN</td>\n",
       "      <td>eur</td>\n",
       "      <td>33.87</td>\n",
       "      <td>33.87</td>\n",
       "      <td>NaN</td>\n",
       "      <td>NaN</td>\n",
       "      <td>NaN</td>\n",
       "      <td>NaN</td>\n",
       "    </tr>\n",
       "    <tr>\n",
       "      <th>3</th>\n",
       "      <td>134548291</td>\n",
       "      <td>https://store.steampowered.com/sub/412454/</td>\n",
       "      <td>True</td>\n",
       "      <td>1</td>\n",
       "      <td>21</td>\n",
       "      <td>2</td>\n",
       "      <td>InStock</td>\n",
       "      <td>steam</td>\n",
       "      <td>NaN</td>\n",
       "      <td>eur</td>\n",
       "      <td>35.99</td>\n",
       "      <td>35.99</td>\n",
       "      <td>NaN</td>\n",
       "      <td>NaN</td>\n",
       "      <td>NaN</td>\n",
       "      <td>NaN</td>\n",
       "    </tr>\n",
       "  </tbody>\n",
       "</table>\n",
       "</div>"
      ],
      "text/plain": [
       "          id                                       affiliateUrl  isActive  \\\n",
       "0  132861340  https://store.steampowered.com/app/1174180/Red...      True   \n",
       "1  134728294  https://www.hrkgame.com/en/games/product/red-d...      True   \n",
       "2  132868941  https://www.cjs-cdkeys.com/products/Red-Dead-R...      True   \n",
       "3  134548291         https://store.steampowered.com/sub/412454/      True   \n",
       "\n",
       "  merchant edition region    stock platform  price.eur.bestCoupon  \\\n",
       "0        1       1      2  InStock    steam                   NaN   \n",
       "1       94      21      2  InStock    steam                   NaN   \n",
       "2       67       1      2  InStock    steam                   NaN   \n",
       "3        1      21      2  InStock    steam                   NaN   \n",
       "\n",
       "  price.eur.currency  price.eur.price  price.eur.priceWithoutCoupon  \\\n",
       "0                eur            29.99                         29.99   \n",
       "1                eur            33.64                         37.38   \n",
       "2                eur            33.87                         33.87   \n",
       "3                eur            35.99                         35.99   \n",
       "\n",
       "  price.eur.bestCoupon.code price.eur.bestCoupon.discountValue  \\\n",
       "0                       NaN                                NaN   \n",
       "1        -10%: ALLKEYSHOP10                              10.00   \n",
       "2                       NaN                                NaN   \n",
       "3                       NaN                                NaN   \n",
       "\n",
       "  price.eur.bestCoupon.discountStrategy price.eur.bestCoupon.isCashback  \n",
       "0                                   NaN                             NaN  \n",
       "1                                     %                           False  \n",
       "2                                   NaN                             NaN  \n",
       "3                                   NaN                             NaN  "
      ]
     },
     "execution_count": 12,
     "metadata": {},
     "output_type": "execute_result"
    }
   ],
   "source": [
    "data=pd.json_normalize(file,record_path='offers')\n",
    "data"
   ]
  },
  {
   "cell_type": "markdown",
   "id": "ea58a6c5",
   "metadata": {},
   "source": [
    "mapp=data.drop(['price.eur.bestCoupon.discountValue','price.eur.bestCoupon.discountStrategy','price.eur.bestCoupon.isCashback','price.eur.bestCoupon.code', 'price.eur.bestCoupon'], axis=1,inplace=True)"
   ]
  },
  {
   "cell_type": "code",
   "execution_count": 13,
   "id": "f53fd4ce",
   "metadata": {},
   "outputs": [],
   "source": [
    "data.rename(columns = {'price.eur.currency':'currency', 'price.eur.price':'price','price.eur.priceWithoutCoupon':'priceWithoutCoupon'}, inplace = True)"
   ]
  },
  {
   "cell_type": "code",
   "execution_count": 14,
   "id": "f7b00fc9",
   "metadata": {
    "scrolled": true
   },
   "outputs": [
    {
     "data": {
      "text/html": [
       "<div>\n",
       "<style scoped>\n",
       "    .dataframe tbody tr th:only-of-type {\n",
       "        vertical-align: middle;\n",
       "    }\n",
       "\n",
       "    .dataframe tbody tr th {\n",
       "        vertical-align: top;\n",
       "    }\n",
       "\n",
       "    .dataframe thead th {\n",
       "        text-align: right;\n",
       "    }\n",
       "</style>\n",
       "<table border=\"1\" class=\"dataframe\">\n",
       "  <thead>\n",
       "    <tr style=\"text-align: right;\">\n",
       "      <th></th>\n",
       "      <th>id</th>\n",
       "      <th>affiliateUrl</th>\n",
       "      <th>isActive</th>\n",
       "      <th>merchant</th>\n",
       "      <th>edition</th>\n",
       "      <th>region</th>\n",
       "      <th>stock</th>\n",
       "      <th>platform</th>\n",
       "      <th>price.eur.bestCoupon</th>\n",
       "      <th>currency</th>\n",
       "      <th>price</th>\n",
       "      <th>priceWithoutCoupon</th>\n",
       "      <th>price.eur.bestCoupon.code</th>\n",
       "      <th>price.eur.bestCoupon.discountValue</th>\n",
       "      <th>price.eur.bestCoupon.discountStrategy</th>\n",
       "      <th>price.eur.bestCoupon.isCashback</th>\n",
       "    </tr>\n",
       "  </thead>\n",
       "  <tbody>\n",
       "    <tr>\n",
       "      <th>0</th>\n",
       "      <td>132861340</td>\n",
       "      <td>https://store.steampowered.com/app/1174180/Red...</td>\n",
       "      <td>True</td>\n",
       "      <td>1</td>\n",
       "      <td>1</td>\n",
       "      <td>2</td>\n",
       "      <td>InStock</td>\n",
       "      <td>steam</td>\n",
       "      <td>NaN</td>\n",
       "      <td>eur</td>\n",
       "      <td>29.99</td>\n",
       "      <td>29.99</td>\n",
       "      <td>NaN</td>\n",
       "      <td>NaN</td>\n",
       "      <td>NaN</td>\n",
       "      <td>NaN</td>\n",
       "    </tr>\n",
       "  </tbody>\n",
       "</table>\n",
       "</div>"
      ],
      "text/plain": [
       "          id                                       affiliateUrl  isActive  \\\n",
       "0  132861340  https://store.steampowered.com/app/1174180/Red...      True   \n",
       "\n",
       "  merchant edition region    stock platform  price.eur.bestCoupon currency  \\\n",
       "0        1       1      2  InStock    steam                   NaN      eur   \n",
       "\n",
       "   price  priceWithoutCoupon price.eur.bestCoupon.code  \\\n",
       "0  29.99               29.99                       NaN   \n",
       "\n",
       "  price.eur.bestCoupon.discountValue price.eur.bestCoupon.discountStrategy  \\\n",
       "0                                NaN                                   NaN   \n",
       "\n",
       "  price.eur.bestCoupon.isCashback  \n",
       "0                             NaN  "
      ]
     },
     "execution_count": 14,
     "metadata": {},
     "output_type": "execute_result"
    }
   ],
   "source": [
    "data[data.priceWithoutCoupon==data.priceWithoutCoupon.min()]"
   ]
  },
  {
   "cell_type": "markdown",
   "id": "ed06ec37",
   "metadata": {},
   "source": [
    "---------- dataframe for merchants ------------"
   ]
  },
  {
   "cell_type": "code",
   "execution_count": 15,
   "id": "6bf9102b",
   "metadata": {
    "scrolled": true
   },
   "outputs": [
    {
     "data": {
      "text/html": [
       "<div>\n",
       "<style scoped>\n",
       "    .dataframe tbody tr th:only-of-type {\n",
       "        vertical-align: middle;\n",
       "    }\n",
       "\n",
       "    .dataframe tbody tr th {\n",
       "        vertical-align: top;\n",
       "    }\n",
       "\n",
       "    .dataframe thead th {\n",
       "        text-align: right;\n",
       "    }\n",
       "</style>\n",
       "<table border=\"1\" class=\"dataframe\">\n",
       "  <thead>\n",
       "    <tr style=\"text-align: right;\">\n",
       "      <th></th>\n",
       "      <th>id</th>\n",
       "      <th>name</th>\n",
       "      <th>aggregateRating</th>\n",
       "      <th>types</th>\n",
       "      <th>searchable</th>\n",
       "      <th>paymentMethods</th>\n",
       "      <th>logoSlug</th>\n",
       "      <th>reviewUrl</th>\n",
       "    </tr>\n",
       "  </thead>\n",
       "  <tbody>\n",
       "    <tr>\n",
       "      <th>1</th>\n",
       "      <td>1</td>\n",
       "      <td>Steam</td>\n",
       "      <td>{'value': 4.8, 'count': 46}</td>\n",
       "      <td>Official Store</td>\n",
       "      <td>1</td>\n",
       "      <td>{'paymentMethode': ['card', 'paypal']}</td>\n",
       "      <td>steam</td>\n",
       "      <td>https://www.allkeyshop.com/blog/review/steam/</td>\n",
       "    </tr>\n",
       "    <tr>\n",
       "      <th>94</th>\n",
       "      <td>94</td>\n",
       "      <td>HRK</td>\n",
       "      <td>{'value': 2.71, 'count': 324}</td>\n",
       "      <td>CD Key Store</td>\n",
       "      <td>1</td>\n",
       "      <td>{'paymentMethode': ['card', 'paypal', 'crypto']}</td>\n",
       "      <td>hrk</td>\n",
       "      <td>https://www.allkeyshop.com/blog/review/hrkgame/</td>\n",
       "    </tr>\n",
       "    <tr>\n",
       "      <th>67</th>\n",
       "      <td>67</td>\n",
       "      <td>CJS-CDKeys</td>\n",
       "      <td>{'value': 3.81, 'count': 824}</td>\n",
       "      <td>CD Key Store</td>\n",
       "      <td>1</td>\n",
       "      <td>{'paymentMethode': ['card', 'paypal']}</td>\n",
       "      <td>cjs-cdkeys</td>\n",
       "      <td>https://www.allkeyshop.com/blog/review/cjs-cdk...</td>\n",
       "    </tr>\n",
       "  </tbody>\n",
       "</table>\n",
       "</div>"
      ],
      "text/plain": [
       "    id        name                aggregateRating           types searchable  \\\n",
       "1    1       Steam    {'value': 4.8, 'count': 46}  Official Store          1   \n",
       "94  94         HRK  {'value': 2.71, 'count': 324}    CD Key Store          1   \n",
       "67  67  CJS-CDKeys  {'value': 3.81, 'count': 824}    CD Key Store          1   \n",
       "\n",
       "                                      paymentMethods    logoSlug  \\\n",
       "1             {'paymentMethode': ['card', 'paypal']}       steam   \n",
       "94  {'paymentMethode': ['card', 'paypal', 'crypto']}         hrk   \n",
       "67            {'paymentMethode': ['card', 'paypal']}  cjs-cdkeys   \n",
       "\n",
       "                                            reviewUrl  \n",
       "1       https://www.allkeyshop.com/blog/review/steam/  \n",
       "94    https://www.allkeyshop.com/blog/review/hrkgame/  \n",
       "67  https://www.allkeyshop.com/blog/review/cjs-cdk...  "
      ]
     },
     "execution_count": 15,
     "metadata": {},
     "output_type": "execute_result"
    }
   ],
   "source": [
    "merchants_list=pd.DataFrame(data=file['merchants']).T\n",
    "merchants_list"
   ]
  },
  {
   "cell_type": "markdown",
   "id": "36e0b19d",
   "metadata": {},
   "source": [
    "---- merge merchant names with games hits to make it a bit clearer -----"
   ]
  },
  {
   "cell_type": "code",
   "execution_count": 16,
   "id": "a804af19",
   "metadata": {},
   "outputs": [],
   "source": [
    "merged_list = pd.merge(data,merchants_list[['id','name']],left_on='merchant',right_on='id',how='left')\n",
    "merged_list.drop(['id_y','price'], axis=1,inplace=True)\n",
    "\n",
    "merged_list.rename(columns = {'priceWithoutCoupon':'price'}, inplace = True)\n",
    "#merged_list.set_index('id_x',inplace=True)"
   ]
  },
  {
   "cell_type": "code",
   "execution_count": 17,
   "id": "12262c37",
   "metadata": {
    "scrolled": false
   },
   "outputs": [
    {
     "data": {
      "text/html": [
       "<div>\n",
       "<style scoped>\n",
       "    .dataframe tbody tr th:only-of-type {\n",
       "        vertical-align: middle;\n",
       "    }\n",
       "\n",
       "    .dataframe tbody tr th {\n",
       "        vertical-align: top;\n",
       "    }\n",
       "\n",
       "    .dataframe thead th {\n",
       "        text-align: right;\n",
       "    }\n",
       "</style>\n",
       "<table border=\"1\" class=\"dataframe\">\n",
       "  <thead>\n",
       "    <tr style=\"text-align: right;\">\n",
       "      <th></th>\n",
       "      <th>id_x</th>\n",
       "      <th>affiliateUrl</th>\n",
       "      <th>isActive</th>\n",
       "      <th>merchant</th>\n",
       "      <th>edition</th>\n",
       "      <th>region</th>\n",
       "      <th>stock</th>\n",
       "      <th>platform</th>\n",
       "      <th>price.eur.bestCoupon</th>\n",
       "      <th>currency</th>\n",
       "      <th>price</th>\n",
       "      <th>price.eur.bestCoupon.code</th>\n",
       "      <th>price.eur.bestCoupon.discountValue</th>\n",
       "      <th>price.eur.bestCoupon.discountStrategy</th>\n",
       "      <th>price.eur.bestCoupon.isCashback</th>\n",
       "      <th>name</th>\n",
       "    </tr>\n",
       "  </thead>\n",
       "  <tbody>\n",
       "  </tbody>\n",
       "</table>\n",
       "</div>"
      ],
      "text/plain": [
       "Empty DataFrame\n",
       "Columns: [id_x, affiliateUrl, isActive, merchant, edition, region, stock, platform, price.eur.bestCoupon, currency, price, price.eur.bestCoupon.code, price.eur.bestCoupon.discountValue, price.eur.bestCoupon.discountStrategy, price.eur.bestCoupon.isCashback, name]\n",
       "Index: []"
      ]
     },
     "execution_count": 17,
     "metadata": {},
     "output_type": "execute_result"
    }
   ],
   "source": [
    "merged_list.head(-12)"
   ]
  },
  {
   "cell_type": "code",
   "execution_count": 18,
   "id": "6571aa05",
   "metadata": {},
   "outputs": [],
   "source": [
    "instock_list=merged_list.loc[(merged_list['platform'] == 'steam') & (merged_list['stock'] == 'InStock')]"
   ]
  },
  {
   "cell_type": "code",
   "execution_count": 19,
   "id": "124ac3ab",
   "metadata": {},
   "outputs": [
    {
     "data": {
      "text/plain": [
       "count     4.0000\n",
       "mean     34.3075\n",
       "std       3.2199\n",
       "min      29.9900\n",
       "25%      32.9000\n",
       "50%      34.9300\n",
       "75%      36.3375\n",
       "max      37.3800\n",
       "Name: price, dtype: float64"
      ]
     },
     "execution_count": 19,
     "metadata": {},
     "output_type": "execute_result"
    }
   ],
   "source": [
    "instock_list['price'].describe()"
   ]
  },
  {
   "cell_type": "code",
   "execution_count": 20,
   "id": "f3cc9a6d",
   "metadata": {
    "scrolled": true
   },
   "outputs": [],
   "source": [
    "table=instock_list[[\"name\", \"price\"]].groupby(\"name\").min()\n",
    "table.sort_values('price', ascending=True,inplace=True)"
   ]
  },
  {
   "cell_type": "code",
   "execution_count": 21,
   "id": "23d36cb0",
   "metadata": {},
   "outputs": [
    {
     "data": {
      "text/html": [
       "<div>\n",
       "<style scoped>\n",
       "    .dataframe tbody tr th:only-of-type {\n",
       "        vertical-align: middle;\n",
       "    }\n",
       "\n",
       "    .dataframe tbody tr th {\n",
       "        vertical-align: top;\n",
       "    }\n",
       "\n",
       "    .dataframe thead th {\n",
       "        text-align: right;\n",
       "    }\n",
       "</style>\n",
       "<table border=\"1\" class=\"dataframe\">\n",
       "  <thead>\n",
       "    <tr style=\"text-align: right;\">\n",
       "      <th></th>\n",
       "      <th>price</th>\n",
       "    </tr>\n",
       "    <tr>\n",
       "      <th>name</th>\n",
       "      <th></th>\n",
       "    </tr>\n",
       "  </thead>\n",
       "  <tbody>\n",
       "    <tr>\n",
       "      <th>Steam</th>\n",
       "      <td>29.99</td>\n",
       "    </tr>\n",
       "    <tr>\n",
       "      <th>CJS-CDKeys</th>\n",
       "      <td>33.87</td>\n",
       "    </tr>\n",
       "    <tr>\n",
       "      <th>HRK</th>\n",
       "      <td>37.38</td>\n",
       "    </tr>\n",
       "  </tbody>\n",
       "</table>\n",
       "</div>"
      ],
      "text/plain": [
       "            price\n",
       "name             \n",
       "Steam       29.99\n",
       "CJS-CDKeys  33.87\n",
       "HRK         37.38"
      ]
     },
     "execution_count": 21,
     "metadata": {},
     "output_type": "execute_result"
    }
   ],
   "source": [
    "table.head(5)"
   ]
  },
  {
   "cell_type": "code",
   "execution_count": 22,
   "id": "117cb37e",
   "metadata": {
    "scrolled": true
   },
   "outputs": [
    {
     "data": {
      "text/plain": [
       "29.99"
      ]
     },
     "execution_count": 22,
     "metadata": {},
     "output_type": "execute_result"
    }
   ],
   "source": [
    "instock_list['price'].min()"
   ]
  },
  {
   "cell_type": "code",
   "execution_count": 23,
   "id": "56b7ce0a",
   "metadata": {
    "scrolled": false
   },
   "outputs": [
    {
     "data": {
      "text/html": [
       "<div>\n",
       "<style scoped>\n",
       "    .dataframe tbody tr th:only-of-type {\n",
       "        vertical-align: middle;\n",
       "    }\n",
       "\n",
       "    .dataframe tbody tr th {\n",
       "        vertical-align: top;\n",
       "    }\n",
       "\n",
       "    .dataframe thead th {\n",
       "        text-align: right;\n",
       "    }\n",
       "</style>\n",
       "<table border=\"1\" class=\"dataframe\">\n",
       "  <thead>\n",
       "    <tr style=\"text-align: right;\">\n",
       "      <th></th>\n",
       "      <th>id_x</th>\n",
       "      <th>affiliateUrl</th>\n",
       "      <th>isActive</th>\n",
       "      <th>merchant</th>\n",
       "      <th>edition</th>\n",
       "      <th>region</th>\n",
       "      <th>stock</th>\n",
       "      <th>platform</th>\n",
       "      <th>price.eur.bestCoupon</th>\n",
       "      <th>currency</th>\n",
       "      <th>price</th>\n",
       "      <th>price.eur.bestCoupon.code</th>\n",
       "      <th>price.eur.bestCoupon.discountValue</th>\n",
       "      <th>price.eur.bestCoupon.discountStrategy</th>\n",
       "      <th>price.eur.bestCoupon.isCashback</th>\n",
       "      <th>name</th>\n",
       "    </tr>\n",
       "  </thead>\n",
       "  <tbody>\n",
       "    <tr>\n",
       "      <th>0</th>\n",
       "      <td>132861340</td>\n",
       "      <td>https://store.steampowered.com/app/1174180/Red...</td>\n",
       "      <td>True</td>\n",
       "      <td>1</td>\n",
       "      <td>1</td>\n",
       "      <td>2</td>\n",
       "      <td>InStock</td>\n",
       "      <td>steam</td>\n",
       "      <td>NaN</td>\n",
       "      <td>eur</td>\n",
       "      <td>29.99</td>\n",
       "      <td>NaN</td>\n",
       "      <td>NaN</td>\n",
       "      <td>NaN</td>\n",
       "      <td>NaN</td>\n",
       "      <td>Steam</td>\n",
       "    </tr>\n",
       "  </tbody>\n",
       "</table>\n",
       "</div>"
      ],
      "text/plain": [
       "        id_x                                       affiliateUrl  isActive  \\\n",
       "0  132861340  https://store.steampowered.com/app/1174180/Red...      True   \n",
       "\n",
       "  merchant edition region    stock platform  price.eur.bestCoupon currency  \\\n",
       "0        1       1      2  InStock    steam                   NaN      eur   \n",
       "\n",
       "   price price.eur.bestCoupon.code price.eur.bestCoupon.discountValue  \\\n",
       "0  29.99                       NaN                                NaN   \n",
       "\n",
       "  price.eur.bestCoupon.discountStrategy price.eur.bestCoupon.isCashback   name  \n",
       "0                                   NaN                             NaN  Steam  "
      ]
     },
     "execution_count": 23,
     "metadata": {},
     "output_type": "execute_result"
    }
   ],
   "source": [
    "instock_list[instock_list.price==instock_list.price.min()]"
   ]
  },
  {
   "cell_type": "code",
   "execution_count": 24,
   "id": "e3eab248",
   "metadata": {
    "scrolled": true
   },
   "outputs": [
    {
     "data": {
      "text/html": [
       "<div>\n",
       "<style scoped>\n",
       "    .dataframe tbody tr th:only-of-type {\n",
       "        vertical-align: middle;\n",
       "    }\n",
       "\n",
       "    .dataframe tbody tr th {\n",
       "        vertical-align: top;\n",
       "    }\n",
       "\n",
       "    .dataframe thead th {\n",
       "        text-align: right;\n",
       "    }\n",
       "</style>\n",
       "<table border=\"1\" class=\"dataframe\">\n",
       "  <thead>\n",
       "    <tr style=\"text-align: right;\">\n",
       "      <th></th>\n",
       "      <th>id_x</th>\n",
       "      <th>affiliateUrl</th>\n",
       "      <th>isActive</th>\n",
       "      <th>merchant</th>\n",
       "      <th>edition</th>\n",
       "      <th>region</th>\n",
       "      <th>stock</th>\n",
       "      <th>platform</th>\n",
       "      <th>price.eur.bestCoupon</th>\n",
       "      <th>currency</th>\n",
       "      <th>price</th>\n",
       "      <th>price.eur.bestCoupon.code</th>\n",
       "      <th>price.eur.bestCoupon.discountValue</th>\n",
       "      <th>price.eur.bestCoupon.discountStrategy</th>\n",
       "      <th>price.eur.bestCoupon.isCashback</th>\n",
       "      <th>name</th>\n",
       "    </tr>\n",
       "  </thead>\n",
       "  <tbody>\n",
       "    <tr>\n",
       "      <th>0</th>\n",
       "      <td>132861340</td>\n",
       "      <td>https://store.steampowered.com/app/1174180/Red...</td>\n",
       "      <td>True</td>\n",
       "      <td>1</td>\n",
       "      <td>1</td>\n",
       "      <td>2</td>\n",
       "      <td>InStock</td>\n",
       "      <td>steam</td>\n",
       "      <td>NaN</td>\n",
       "      <td>eur</td>\n",
       "      <td>29.99</td>\n",
       "      <td>NaN</td>\n",
       "      <td>NaN</td>\n",
       "      <td>NaN</td>\n",
       "      <td>NaN</td>\n",
       "      <td>Steam</td>\n",
       "    </tr>\n",
       "  </tbody>\n",
       "</table>\n",
       "</div>"
      ],
      "text/plain": [
       "        id_x                                       affiliateUrl  isActive  \\\n",
       "0  132861340  https://store.steampowered.com/app/1174180/Red...      True   \n",
       "\n",
       "  merchant edition region    stock platform  price.eur.bestCoupon currency  \\\n",
       "0        1       1      2  InStock    steam                   NaN      eur   \n",
       "\n",
       "   price price.eur.bestCoupon.code price.eur.bestCoupon.discountValue  \\\n",
       "0  29.99                       NaN                                NaN   \n",
       "\n",
       "  price.eur.bestCoupon.discountStrategy price.eur.bestCoupon.isCashback   name  \n",
       "0                                   NaN                             NaN  Steam  "
      ]
     },
     "execution_count": 24,
     "metadata": {},
     "output_type": "execute_result"
    }
   ],
   "source": [
    "instock_list[instock_list.price==instock_list.price.min()]"
   ]
  },
  {
   "cell_type": "code",
   "execution_count": 25,
   "id": "23dd263c",
   "metadata": {
    "scrolled": true
   },
   "outputs": [
    {
     "data": {
      "text/html": [
       "<div>\n",
       "<style scoped>\n",
       "    .dataframe tbody tr th:only-of-type {\n",
       "        vertical-align: middle;\n",
       "    }\n",
       "\n",
       "    .dataframe tbody tr th {\n",
       "        vertical-align: top;\n",
       "    }\n",
       "\n",
       "    .dataframe thead th {\n",
       "        text-align: right;\n",
       "    }\n",
       "</style>\n",
       "<table border=\"1\" class=\"dataframe\">\n",
       "  <thead>\n",
       "    <tr style=\"text-align: right;\">\n",
       "      <th></th>\n",
       "      <th>id_x</th>\n",
       "      <th>affiliateUrl</th>\n",
       "      <th>isActive</th>\n",
       "      <th>merchant</th>\n",
       "      <th>edition</th>\n",
       "      <th>region</th>\n",
       "      <th>stock</th>\n",
       "      <th>platform</th>\n",
       "      <th>price.eur.bestCoupon</th>\n",
       "      <th>currency</th>\n",
       "      <th>price</th>\n",
       "      <th>price.eur.bestCoupon.code</th>\n",
       "      <th>price.eur.bestCoupon.discountValue</th>\n",
       "      <th>price.eur.bestCoupon.discountStrategy</th>\n",
       "      <th>price.eur.bestCoupon.isCashback</th>\n",
       "      <th>name</th>\n",
       "      <th>priceSEK</th>\n",
       "    </tr>\n",
       "  </thead>\n",
       "  <tbody>\n",
       "    <tr>\n",
       "      <th>0</th>\n",
       "      <td>132861340</td>\n",
       "      <td>https://store.steampowered.com/app/1174180/Red...</td>\n",
       "      <td>True</td>\n",
       "      <td>1</td>\n",
       "      <td>1</td>\n",
       "      <td>2</td>\n",
       "      <td>InStock</td>\n",
       "      <td>steam</td>\n",
       "      <td>NaN</td>\n",
       "      <td>eur</td>\n",
       "      <td>29.99</td>\n",
       "      <td>NaN</td>\n",
       "      <td>NaN</td>\n",
       "      <td>NaN</td>\n",
       "      <td>NaN</td>\n",
       "      <td>Steam</td>\n",
       "      <td>328.23</td>\n",
       "    </tr>\n",
       "    <tr>\n",
       "      <th>2</th>\n",
       "      <td>132868941</td>\n",
       "      <td>https://www.cjs-cdkeys.com/products/Red-Dead-R...</td>\n",
       "      <td>True</td>\n",
       "      <td>67</td>\n",
       "      <td>1</td>\n",
       "      <td>2</td>\n",
       "      <td>InStock</td>\n",
       "      <td>steam</td>\n",
       "      <td>NaN</td>\n",
       "      <td>eur</td>\n",
       "      <td>33.87</td>\n",
       "      <td>NaN</td>\n",
       "      <td>NaN</td>\n",
       "      <td>NaN</td>\n",
       "      <td>NaN</td>\n",
       "      <td>CJS-CDKeys</td>\n",
       "      <td>370.70</td>\n",
       "    </tr>\n",
       "    <tr>\n",
       "      <th>3</th>\n",
       "      <td>134548291</td>\n",
       "      <td>https://store.steampowered.com/sub/412454/</td>\n",
       "      <td>True</td>\n",
       "      <td>1</td>\n",
       "      <td>21</td>\n",
       "      <td>2</td>\n",
       "      <td>InStock</td>\n",
       "      <td>steam</td>\n",
       "      <td>NaN</td>\n",
       "      <td>eur</td>\n",
       "      <td>35.99</td>\n",
       "      <td>NaN</td>\n",
       "      <td>NaN</td>\n",
       "      <td>NaN</td>\n",
       "      <td>NaN</td>\n",
       "      <td>Steam</td>\n",
       "      <td>393.90</td>\n",
       "    </tr>\n",
       "    <tr>\n",
       "      <th>1</th>\n",
       "      <td>134728294</td>\n",
       "      <td>https://www.hrkgame.com/en/games/product/red-d...</td>\n",
       "      <td>True</td>\n",
       "      <td>94</td>\n",
       "      <td>21</td>\n",
       "      <td>2</td>\n",
       "      <td>InStock</td>\n",
       "      <td>steam</td>\n",
       "      <td>NaN</td>\n",
       "      <td>eur</td>\n",
       "      <td>37.38</td>\n",
       "      <td>-10%: ALLKEYSHOP10</td>\n",
       "      <td>10.00</td>\n",
       "      <td>%</td>\n",
       "      <td>False</td>\n",
       "      <td>HRK</td>\n",
       "      <td>409.12</td>\n",
       "    </tr>\n",
       "  </tbody>\n",
       "</table>\n",
       "</div>"
      ],
      "text/plain": [
       "        id_x                                       affiliateUrl  isActive  \\\n",
       "0  132861340  https://store.steampowered.com/app/1174180/Red...      True   \n",
       "2  132868941  https://www.cjs-cdkeys.com/products/Red-Dead-R...      True   \n",
       "3  134548291         https://store.steampowered.com/sub/412454/      True   \n",
       "1  134728294  https://www.hrkgame.com/en/games/product/red-d...      True   \n",
       "\n",
       "  merchant edition region    stock platform  price.eur.bestCoupon currency  \\\n",
       "0        1       1      2  InStock    steam                   NaN      eur   \n",
       "2       67       1      2  InStock    steam                   NaN      eur   \n",
       "3        1      21      2  InStock    steam                   NaN      eur   \n",
       "1       94      21      2  InStock    steam                   NaN      eur   \n",
       "\n",
       "   price price.eur.bestCoupon.code price.eur.bestCoupon.discountValue  \\\n",
       "0  29.99                       NaN                                NaN   \n",
       "2  33.87                       NaN                                NaN   \n",
       "3  35.99                       NaN                                NaN   \n",
       "1  37.38        -10%: ALLKEYSHOP10                              10.00   \n",
       "\n",
       "  price.eur.bestCoupon.discountStrategy price.eur.bestCoupon.isCashback  \\\n",
       "0                                   NaN                             NaN   \n",
       "2                                   NaN                             NaN   \n",
       "3                                   NaN                             NaN   \n",
       "1                                     %                           False   \n",
       "\n",
       "         name  priceSEK  \n",
       "0       Steam    328.23  \n",
       "2  CJS-CDKeys    370.70  \n",
       "3       Steam    393.90  \n",
       "1         HRK    409.12  "
      ]
     },
     "execution_count": 25,
     "metadata": {},
     "output_type": "execute_result"
    }
   ],
   "source": [
    "allkeysSE = instock_list.assign(priceSEK=instock_list[\"price\"]*rate_sek)\n",
    "#df2.round({'priceSEK': 1})\n",
    "allkeysSE.priceSEK=allkeysSE.priceSEK.round(2)\n",
    "allkeysSE.sort_values(by='priceSEK')"
   ]
  },
  {
   "cell_type": "code",
   "execution_count": 26,
   "id": "4bf38a76",
   "metadata": {},
   "outputs": [
    {
     "data": {
      "text/html": [
       "<div>\n",
       "<style scoped>\n",
       "    .dataframe tbody tr th:only-of-type {\n",
       "        vertical-align: middle;\n",
       "    }\n",
       "\n",
       "    .dataframe tbody tr th {\n",
       "        vertical-align: top;\n",
       "    }\n",
       "\n",
       "    .dataframe thead th {\n",
       "        text-align: right;\n",
       "    }\n",
       "</style>\n",
       "<table border=\"1\" class=\"dataframe\">\n",
       "  <thead>\n",
       "    <tr style=\"text-align: right;\">\n",
       "      <th></th>\n",
       "      <th>priceSEK</th>\n",
       "      <th>name</th>\n",
       "    </tr>\n",
       "  </thead>\n",
       "  <tbody>\n",
       "  </tbody>\n",
       "</table>\n",
       "</div>"
      ],
      "text/plain": [
       "Empty DataFrame\n",
       "Columns: [priceSEK, name]\n",
       "Index: []"
      ]
     },
     "execution_count": 26,
     "metadata": {},
     "output_type": "execute_result"
    }
   ],
   "source": [
    "allkeysSE.loc[allkeysSE['merchant']=='13',['priceSEK','name']].sort_values(by='priceSEK').head(3)"
   ]
  },
  {
   "cell_type": "code",
   "execution_count": 27,
   "id": "d817ec1a",
   "metadata": {
    "scrolled": true
   },
   "outputs": [
    {
     "data": {
      "text/html": [
       "<div>\n",
       "<style scoped>\n",
       "    .dataframe tbody tr th:only-of-type {\n",
       "        vertical-align: middle;\n",
       "    }\n",
       "\n",
       "    .dataframe tbody tr th {\n",
       "        vertical-align: top;\n",
       "    }\n",
       "\n",
       "    .dataframe thead th {\n",
       "        text-align: right;\n",
       "    }\n",
       "</style>\n",
       "<table border=\"1\" class=\"dataframe\">\n",
       "  <thead>\n",
       "    <tr style=\"text-align: right;\">\n",
       "      <th></th>\n",
       "      <th>id_x</th>\n",
       "      <th>affiliateUrl</th>\n",
       "      <th>isActive</th>\n",
       "      <th>merchant</th>\n",
       "      <th>edition</th>\n",
       "      <th>region</th>\n",
       "      <th>stock</th>\n",
       "      <th>platform</th>\n",
       "      <th>price.eur.bestCoupon</th>\n",
       "      <th>currency</th>\n",
       "      <th>price</th>\n",
       "      <th>price.eur.bestCoupon.code</th>\n",
       "      <th>price.eur.bestCoupon.discountValue</th>\n",
       "      <th>price.eur.bestCoupon.discountStrategy</th>\n",
       "      <th>price.eur.bestCoupon.isCashback</th>\n",
       "      <th>name</th>\n",
       "      <th>priceSEK</th>\n",
       "    </tr>\n",
       "  </thead>\n",
       "  <tbody>\n",
       "    <tr>\n",
       "      <th>0</th>\n",
       "      <td>132861340</td>\n",
       "      <td>https://store.steampowered.com/app/1174180/Red...</td>\n",
       "      <td>True</td>\n",
       "      <td>1</td>\n",
       "      <td>1</td>\n",
       "      <td>2</td>\n",
       "      <td>InStock</td>\n",
       "      <td>steam</td>\n",
       "      <td>NaN</td>\n",
       "      <td>eur</td>\n",
       "      <td>29.99</td>\n",
       "      <td>NaN</td>\n",
       "      <td>NaN</td>\n",
       "      <td>NaN</td>\n",
       "      <td>NaN</td>\n",
       "      <td>Steam</td>\n",
       "      <td>328.23</td>\n",
       "    </tr>\n",
       "  </tbody>\n",
       "</table>\n",
       "</div>"
      ],
      "text/plain": [
       "        id_x                                       affiliateUrl  isActive  \\\n",
       "0  132861340  https://store.steampowered.com/app/1174180/Red...      True   \n",
       "\n",
       "  merchant edition region    stock platform  price.eur.bestCoupon currency  \\\n",
       "0        1       1      2  InStock    steam                   NaN      eur   \n",
       "\n",
       "   price price.eur.bestCoupon.code price.eur.bestCoupon.discountValue  \\\n",
       "0  29.99                       NaN                                NaN   \n",
       "\n",
       "  price.eur.bestCoupon.discountStrategy price.eur.bestCoupon.isCashback  \\\n",
       "0                                   NaN                             NaN   \n",
       "\n",
       "    name  priceSEK  \n",
       "0  Steam    328.23  "
      ]
     },
     "execution_count": 27,
     "metadata": {},
     "output_type": "execute_result"
    }
   ],
   "source": [
    "allkeysSE[allkeysSE.priceSEK==allkeysSE.priceSEK.min()]"
   ]
  },
  {
   "cell_type": "code",
   "execution_count": 28,
   "id": "1c4369da",
   "metadata": {
    "scrolled": false
   },
   "outputs": [
    {
     "data": {
      "text/plain": [
       "id_x                                                                             132861340\n",
       "affiliateUrl                             https://store.steampowered.com/app/1174180/Red...\n",
       "isActive                                                                              True\n",
       "merchant                                                                                 1\n",
       "edition                                                                                  1\n",
       "region                                                                                   2\n",
       "stock                                                                              InStock\n",
       "platform                                                                             steam\n",
       "price.eur.bestCoupon                                                                   NaN\n",
       "currency                                                                               eur\n",
       "price                                                                                29.99\n",
       "price.eur.bestCoupon.code                                                              NaN\n",
       "price.eur.bestCoupon.discountValue                                                     NaN\n",
       "price.eur.bestCoupon.discountStrategy                                                  NaN\n",
       "price.eur.bestCoupon.isCashback                                                        NaN\n",
       "name                                                                                 Steam\n",
       "priceSEK                                                                            328.23\n",
       "Name: 0, dtype: object"
      ]
     },
     "execution_count": 28,
     "metadata": {},
     "output_type": "execute_result"
    }
   ],
   "source": [
    "allkeysSE.loc[allkeysSE['priceSEK'].idxmin()]"
   ]
  },
  {
   "cell_type": "code",
   "execution_count": 29,
   "id": "2eb0b6fc",
   "metadata": {},
   "outputs": [
    {
     "data": {
      "text/html": [
       "<div>\n",
       "<style scoped>\n",
       "    .dataframe tbody tr th:only-of-type {\n",
       "        vertical-align: middle;\n",
       "    }\n",
       "\n",
       "    .dataframe tbody tr th {\n",
       "        vertical-align: top;\n",
       "    }\n",
       "\n",
       "    .dataframe thead th {\n",
       "        text-align: right;\n",
       "    }\n",
       "</style>\n",
       "<table border=\"1\" class=\"dataframe\">\n",
       "  <thead>\n",
       "    <tr style=\"text-align: right;\">\n",
       "      <th></th>\n",
       "      <th>name</th>\n",
       "      <th>priceSEK</th>\n",
       "    </tr>\n",
       "  </thead>\n",
       "  <tbody>\n",
       "    <tr>\n",
       "      <th>0</th>\n",
       "      <td>Steam</td>\n",
       "      <td>328.23</td>\n",
       "    </tr>\n",
       "    <tr>\n",
       "      <th>2</th>\n",
       "      <td>CJS-CDKeys</td>\n",
       "      <td>370.70</td>\n",
       "    </tr>\n",
       "    <tr>\n",
       "      <th>3</th>\n",
       "      <td>Steam</td>\n",
       "      <td>393.90</td>\n",
       "    </tr>\n",
       "  </tbody>\n",
       "</table>\n",
       "</div>"
      ],
      "text/plain": [
       "         name  priceSEK\n",
       "0       Steam    328.23\n",
       "2  CJS-CDKeys    370.70\n",
       "3       Steam    393.90"
      ]
     },
     "execution_count": 29,
     "metadata": {},
     "output_type": "execute_result"
    }
   ],
   "source": [
    "allkeysSE.nsmallest(3,'priceSEK').filter(['name','priceSEK'],axis=1)"
   ]
  },
  {
   "cell_type": "code",
   "execution_count": 30,
   "id": "f9818824",
   "metadata": {
    "scrolled": true
   },
   "outputs": [
    {
     "data": {
      "text/html": [
       "<div>\n",
       "<style scoped>\n",
       "    .dataframe tbody tr th:only-of-type {\n",
       "        vertical-align: middle;\n",
       "    }\n",
       "\n",
       "    .dataframe tbody tr th {\n",
       "        vertical-align: top;\n",
       "    }\n",
       "\n",
       "    .dataframe thead th {\n",
       "        text-align: right;\n",
       "    }\n",
       "</style>\n",
       "<table border=\"1\" class=\"dataframe\">\n",
       "  <thead>\n",
       "    <tr style=\"text-align: right;\">\n",
       "      <th></th>\n",
       "      <th>priceSEK</th>\n",
       "      <th>name</th>\n",
       "    </tr>\n",
       "  </thead>\n",
       "  <tbody>\n",
       "    <tr>\n",
       "      <th>0</th>\n",
       "      <td>328.23</td>\n",
       "      <td>Steam</td>\n",
       "    </tr>\n",
       "    <tr>\n",
       "      <th>2</th>\n",
       "      <td>370.70</td>\n",
       "      <td>CJS-CDKeys</td>\n",
       "    </tr>\n",
       "    <tr>\n",
       "      <th>3</th>\n",
       "      <td>393.90</td>\n",
       "      <td>Steam</td>\n",
       "    </tr>\n",
       "  </tbody>\n",
       "</table>\n",
       "</div>"
      ],
      "text/plain": [
       "   priceSEK        name\n",
       "0    328.23       Steam\n",
       "2    370.70  CJS-CDKeys\n",
       "3    393.90       Steam"
      ]
     },
     "execution_count": 30,
     "metadata": {},
     "output_type": "execute_result"
    }
   ],
   "source": [
    "allkeysSE.loc[allkeysSE['platform']=='steam',['priceSEK','name']].sort_values(by='priceSEK').head(3)"
   ]
  },
  {
   "cell_type": "code",
   "execution_count": 31,
   "id": "806d74ea",
   "metadata": {
    "scrolled": false
   },
   "outputs": [
    {
     "data": {
      "text/html": [
       "<div>\n",
       "<style scoped>\n",
       "    .dataframe tbody tr th:only-of-type {\n",
       "        vertical-align: middle;\n",
       "    }\n",
       "\n",
       "    .dataframe tbody tr th {\n",
       "        vertical-align: top;\n",
       "    }\n",
       "\n",
       "    .dataframe thead th {\n",
       "        text-align: right;\n",
       "    }\n",
       "</style>\n",
       "<table border=\"1\" class=\"dataframe\">\n",
       "  <thead>\n",
       "    <tr style=\"text-align: right;\">\n",
       "      <th></th>\n",
       "      <th>id_x</th>\n",
       "      <th>affiliateUrl</th>\n",
       "      <th>isActive</th>\n",
       "      <th>merchant</th>\n",
       "      <th>edition</th>\n",
       "      <th>region</th>\n",
       "      <th>stock</th>\n",
       "      <th>platform</th>\n",
       "      <th>price.eur.bestCoupon</th>\n",
       "      <th>currency</th>\n",
       "      <th>price</th>\n",
       "      <th>price.eur.bestCoupon.code</th>\n",
       "      <th>price.eur.bestCoupon.discountValue</th>\n",
       "      <th>price.eur.bestCoupon.discountStrategy</th>\n",
       "      <th>price.eur.bestCoupon.isCashback</th>\n",
       "      <th>name</th>\n",
       "      <th>priceSEK</th>\n",
       "    </tr>\n",
       "  </thead>\n",
       "  <tbody>\n",
       "    <tr>\n",
       "      <th>0</th>\n",
       "      <td>132861340</td>\n",
       "      <td>https://store.steampowered.com/app/1174180/Red...</td>\n",
       "      <td>True</td>\n",
       "      <td>1</td>\n",
       "      <td>1</td>\n",
       "      <td>2</td>\n",
       "      <td>InStock</td>\n",
       "      <td>steam</td>\n",
       "      <td>NaN</td>\n",
       "      <td>eur</td>\n",
       "      <td>29.99</td>\n",
       "      <td>NaN</td>\n",
       "      <td>NaN</td>\n",
       "      <td>NaN</td>\n",
       "      <td>NaN</td>\n",
       "      <td>Steam</td>\n",
       "      <td>328.23</td>\n",
       "    </tr>\n",
       "  </tbody>\n",
       "</table>\n",
       "</div>"
      ],
      "text/plain": [
       "        id_x                                       affiliateUrl  isActive  \\\n",
       "0  132861340  https://store.steampowered.com/app/1174180/Red...      True   \n",
       "\n",
       "  merchant edition region    stock platform  price.eur.bestCoupon currency  \\\n",
       "0        1       1      2  InStock    steam                   NaN      eur   \n",
       "\n",
       "   price price.eur.bestCoupon.code price.eur.bestCoupon.discountValue  \\\n",
       "0  29.99                       NaN                                NaN   \n",
       "\n",
       "  price.eur.bestCoupon.discountStrategy price.eur.bestCoupon.isCashback  \\\n",
       "0                                   NaN                             NaN   \n",
       "\n",
       "    name  priceSEK  \n",
       "0  Steam    328.23  "
      ]
     },
     "execution_count": 31,
     "metadata": {},
     "output_type": "execute_result"
    }
   ],
   "source": [
    "allkeysSE[allkeysSE.price==allkeysSE.price.min()]"
   ]
  },
  {
   "cell_type": "code",
   "execution_count": 32,
   "id": "0f0bc09b",
   "metadata": {},
   "outputs": [
    {
     "data": {
      "text/plain": [
       "pyarrow.Table\n",
       "id_x: int64\n",
       "affiliateUrl: string\n",
       "isActive: bool\n",
       "merchant: string\n",
       "edition: string\n",
       "region: string\n",
       "stock: string\n",
       "platform: string\n",
       "price.eur.bestCoupon: double\n",
       "currency: string\n",
       "price: double\n",
       "price.eur.bestCoupon.code: string\n",
       "price.eur.bestCoupon.discountValue: string\n",
       "price.eur.bestCoupon.discountStrategy: string\n",
       "price.eur.bestCoupon.isCashback: bool\n",
       "name: string\n",
       "priceSEK: double\n",
       "__index_level_0__: int64\n",
       "----\n",
       "id_x: [[132861340,134728294,132868941,134548291]]\n",
       "affiliateUrl: [[\"https://store.steampowered.com/app/1174180/Red_Dead_Redemption_2/\",\"https://www.hrkgame.com/en/games/product/red-dead-redemption-2-ultimate-edition-steam-edition\",\"https://www.cjs-cdkeys.com/products/Red-Dead-Redemption-2-CD-Key-For-Steam.html\",\"https://store.steampowered.com/sub/412454/\"]]\n",
       "isActive: [[true,true,true,true]]\n",
       "merchant: [[\"1\",\"94\",\"67\",\"1\"]]\n",
       "edition: [[\"1\",\"21\",\"1\",\"21\"]]\n",
       "region: [[\"2\",\"2\",\"2\",\"2\"]]\n",
       "stock: [[\"InStock\",\"InStock\",\"InStock\",\"InStock\"]]\n",
       "platform: [[\"steam\",\"steam\",\"steam\",\"steam\"]]\n",
       "price.eur.bestCoupon: [[null,null,null,null]]\n",
       "currency: [[\"eur\",\"eur\",\"eur\",\"eur\"]]\n",
       "..."
      ]
     },
     "execution_count": 32,
     "metadata": {},
     "output_type": "execute_result"
    }
   ],
   "source": [
    "scru.to_paraquet('allkey_prices',allkeysSE)"
   ]
  }
 ],
 "metadata": {
  "kernelspec": {
   "display_name": "Python 3.10.0 ('scraping_prices-iCStyPHz')",
   "language": "python",
   "name": "python3"
  },
  "language_info": {
   "codemirror_mode": {
    "name": "ipython",
    "version": 3
   },
   "file_extension": ".py",
   "mimetype": "text/x-python",
   "name": "python",
   "nbconvert_exporter": "python",
   "pygments_lexer": "ipython3",
   "version": "3.10.0"
  },
  "vscode": {
   "interpreter": {
    "hash": "c818b9eec72219e7d362e3bf18220f729802fb300973581bcb291bde24c2d9ac"
   }
  }
 },
 "nbformat": 4,
 "nbformat_minor": 5
}
