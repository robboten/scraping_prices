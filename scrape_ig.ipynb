{
 "cells": [
  {
   "cell_type": "markdown",
   "metadata": {},
   "source": [
    "todo: rename vars, add sek price, add datetime and compare to latest"
   ]
  },
  {
   "cell_type": "code",
   "execution_count": 1,
   "metadata": {},
   "outputs": [],
   "source": [
    "import requests\n",
    "import pandas as pd\n",
    "\n",
    "import scr_utils as scru"
   ]
  },
  {
   "cell_type": "code",
   "execution_count": 2,
   "metadata": {},
   "outputs": [],
   "source": [
    "url = \"https://qknhp8tc3y-dsn.algolia.net/1/indexes/produits_en/query\"\n",
    "\n",
    "headers = {\n",
    "    \"Accept\": 'application/json',\n",
    "    'Referer': 'https://www.instant-gaming.com/',\n",
    "    'User-Agent':\"Mozilla/5.0 (Windows NT 10.0; Win64; x64) AppleWebKit/537.36 (KHTML, like Gecko) Chrome/106.0.0.0 Safari/537.36\",\n",
    "    'content-type': 'application/x-www-form-urlencoded'\n",
    "}\n",
    "\n",
    "params = {\n",
    "    \"x-algolia-agent\": \"Algolia for vanilla JavaScript (lite) 3.24.7\",\n",
    "    \"x-algolia-api-key\": \"4813969db52fc22897f8b84bac1299ad\",\n",
    "    \"x-algolia-application-id\": \"QKNHP8TC3Y\",\n",
    "    \"filter\":\"(sites:ig) AND (region:Worldwide OR region:SE OR region:Europe)\"\n",
    "}\n",
    "\n",
    "payload={\n",
    "    \"query\": \"Hitman 3\",\n",
    "    \"distinct\": True,\n",
    "    \"hitsPerPage\": 60,\n",
    "}\n",
    "\n",
    "response = requests.request(\"POST\", url, headers=headers, json=payload, params=params)\n",
    "#response.json()"
   ]
  },
  {
   "cell_type": "code",
   "execution_count": 3,
   "metadata": {},
   "outputs": [],
   "source": [
    "#response.json()['hits'][0]"
   ]
  },
  {
   "cell_type": "code",
   "execution_count": 4,
   "metadata": {},
   "outputs": [
    {
     "data": {
      "text/html": [
       "<div>\n",
       "<style scoped>\n",
       "    .dataframe tbody tr th:only-of-type {\n",
       "        vertical-align: middle;\n",
       "    }\n",
       "\n",
       "    .dataframe tbody tr th {\n",
       "        vertical-align: top;\n",
       "    }\n",
       "\n",
       "    .dataframe thead th {\n",
       "        text-align: right;\n",
       "    }\n",
       "</style>\n",
       "<table border=\"1\" class=\"dataframe\">\n",
       "  <thead>\n",
       "    <tr style=\"text-align: right;\">\n",
       "      <th></th>\n",
       "      <th>lang</th>\n",
       "      <th>name</th>\n",
       "      <th>prod_id</th>\n",
       "      <th>seo_name</th>\n",
       "      <th>small_name</th>\n",
       "      <th>type</th>\n",
       "      <th>region</th>\n",
       "      <th>is_dlc</th>\n",
       "      <th>preorder</th>\n",
       "      <th>brand</th>\n",
       "      <th>...</th>\n",
       "      <th>is_prepaid</th>\n",
       "      <th>developer_name</th>\n",
       "      <th>publisher_name</th>\n",
       "      <th>can_display_video_preview</th>\n",
       "      <th>platform</th>\n",
       "      <th>reviews_avg</th>\n",
       "      <th>cat_ids</th>\n",
       "      <th>lcat</th>\n",
       "      <th>objectID</th>\n",
       "      <th>_highlightResult</th>\n",
       "    </tr>\n",
       "  </thead>\n",
       "  <tbody>\n",
       "    <tr>\n",
       "      <th>0</th>\n",
       "      <td>en</td>\n",
       "      <td>Hitman 3</td>\n",
       "      <td>6851</td>\n",
       "      <td>hitman-3-pc-game-epic-games-europe</td>\n",
       "      <td>Hitman 3</td>\n",
       "      <td>Epic Games</td>\n",
       "      <td>Europe</td>\n",
       "      <td>0</td>\n",
       "      <td>0</td>\n",
       "      <td>Io-Interactive A/S</td>\n",
       "      <td>...</td>\n",
       "      <td>0</td>\n",
       "      <td>Io-Interactive A/S</td>\n",
       "      <td>Io-Interactive A/S</td>\n",
       "      <td>1</td>\n",
       "      <td>Epic Games</td>\n",
       "      <td>90</td>\n",
       "      <td>[47, 1, 4]</td>\n",
       "      <td>H</td>\n",
       "      <td>6851</td>\n",
       "      <td>{'name': {'value': '&lt;em&gt;Hitman&lt;/em&gt; &lt;em&gt;3&lt;/em&gt;...</td>\n",
       "    </tr>\n",
       "    <tr>\n",
       "      <th>1</th>\n",
       "      <td>en</td>\n",
       "      <td>Hitman 3</td>\n",
       "      <td>12619</td>\n",
       "      <td>hitman-3-pc-game-steam</td>\n",
       "      <td>Hitman 3</td>\n",
       "      <td>Steam</td>\n",
       "      <td>Worldwide</td>\n",
       "      <td>0</td>\n",
       "      <td>0</td>\n",
       "      <td>Io-Interactive A/S</td>\n",
       "      <td>...</td>\n",
       "      <td>0</td>\n",
       "      <td>Io-Interactive A/S</td>\n",
       "      <td>Io-Interactive A/S</td>\n",
       "      <td>1</td>\n",
       "      <td>Steam</td>\n",
       "      <td>90</td>\n",
       "      <td>[47, 1, 4]</td>\n",
       "      <td>H</td>\n",
       "      <td>12619</td>\n",
       "      <td>{'name': {'value': '&lt;em&gt;Hitman&lt;/em&gt; &lt;em&gt;3&lt;/em&gt;...</td>\n",
       "    </tr>\n",
       "    <tr>\n",
       "      <th>2</th>\n",
       "      <td>en</td>\n",
       "      <td>Hitman 3 (Xbox ONE / Xbox Series X|S)</td>\n",
       "      <td>8010</td>\n",
       "      <td>hitman-3-xbox-one-xbox-series-x-s-xbox-one-xbo...</td>\n",
       "      <td>Hitman 3 (Xbox ONE / Xbox Series X|S)</td>\n",
       "      <td>Microsoft Store</td>\n",
       "      <td>Worldwide</td>\n",
       "      <td>0</td>\n",
       "      <td>0</td>\n",
       "      <td>Io-Interactive A/S</td>\n",
       "      <td>...</td>\n",
       "      <td>0</td>\n",
       "      <td>Io-Interactive A/S</td>\n",
       "      <td>Io-Interactive A/S</td>\n",
       "      <td>1</td>\n",
       "      <td>Xbox Series X|S</td>\n",
       "      <td>90</td>\n",
       "      <td>[47, 1, 4]</td>\n",
       "      <td>H</td>\n",
       "      <td>8010</td>\n",
       "      <td>{'name': {'value': '&lt;em&gt;Hitman&lt;/em&gt; &lt;em&gt;3&lt;/em&gt;...</td>\n",
       "    </tr>\n",
       "  </tbody>\n",
       "</table>\n",
       "<p>3 rows × 46 columns</p>\n",
       "</div>"
      ],
      "text/plain": [
       "  lang                                   name prod_id  \\\n",
       "0   en                               Hitman 3    6851   \n",
       "1   en                               Hitman 3   12619   \n",
       "2   en  Hitman 3 (Xbox ONE / Xbox Series X|S)    8010   \n",
       "\n",
       "                                            seo_name  \\\n",
       "0                 hitman-3-pc-game-epic-games-europe   \n",
       "1                             hitman-3-pc-game-steam   \n",
       "2  hitman-3-xbox-one-xbox-series-x-s-xbox-one-xbo...   \n",
       "\n",
       "                              small_name             type     region is_dlc  \\\n",
       "0                               Hitman 3       Epic Games     Europe      0   \n",
       "1                               Hitman 3            Steam  Worldwide      0   \n",
       "2  Hitman 3 (Xbox ONE / Xbox Series X|S)  Microsoft Store  Worldwide      0   \n",
       "\n",
       "  preorder               brand  ... is_prepaid      developer_name  \\\n",
       "0        0  Io-Interactive A/S  ...          0  Io-Interactive A/S   \n",
       "1        0  Io-Interactive A/S  ...          0  Io-Interactive A/S   \n",
       "2        0  Io-Interactive A/S  ...          0  Io-Interactive A/S   \n",
       "\n",
       "       publisher_name can_display_video_preview         platform reviews_avg  \\\n",
       "0  Io-Interactive A/S                         1       Epic Games          90   \n",
       "1  Io-Interactive A/S                         1            Steam          90   \n",
       "2  Io-Interactive A/S                         1  Xbox Series X|S          90   \n",
       "\n",
       "      cat_ids lcat objectID                                   _highlightResult  \n",
       "0  [47, 1, 4]    H     6851  {'name': {'value': '<em>Hitman</em> <em>3</em>...  \n",
       "1  [47, 1, 4]    H    12619  {'name': {'value': '<em>Hitman</em> <em>3</em>...  \n",
       "2  [47, 1, 4]    H     8010  {'name': {'value': '<em>Hitman</em> <em>3</em>...  \n",
       "\n",
       "[3 rows x 46 columns]"
      ]
     },
     "execution_count": 4,
     "metadata": {},
     "output_type": "execute_result"
    }
   ],
   "source": [
    "df_hitman=pd.json_normalize(response.json(),record_path=['hits'], max_level=0)\n",
    "#df_hitman.iloc[:1,10:]\n",
    "df_hitman"
   ]
  },
  {
   "cell_type": "markdown",
   "metadata": {},
   "source": [
    "df_hitman.dtypes"
   ]
  },
  {
   "cell_type": "markdown",
   "metadata": {},
   "source": [
    "df_hitman.keys()"
   ]
  },
  {
   "cell_type": "code",
   "execution_count": 5,
   "metadata": {},
   "outputs": [],
   "source": [
    "is_bools=[\n",
    "    'is_dlc',\n",
    "    'preorder',\n",
    "    'is_draft',\n",
    "    'is_delivered',\n",
    "    'exclude_from_search',\n",
    "    'is_free_to_play',\n",
    "    'has_video_preview',\n",
    "    'is_prepaid',\n",
    "    'can_display_video_preview',\n",
    "    'promo'\n",
    "]\n",
    "def str2bool(val): \n",
    "    if val == \"1\":\n",
    "        return True\n",
    "    else: \n",
    "        return False\n",
    "\n",
    "for item in is_bools:\n",
    "    df_hitman[item]= df_hitman[item].apply(str2bool)\n",
    "\n",
    "#df_hitman"
   ]
  },
  {
   "cell_type": "code",
   "execution_count": 6,
   "metadata": {},
   "outputs": [],
   "source": [
    "column_drops=[\n",
    "    '_highlightResult',\n",
    "    'currency_prices',\n",
    "    'sites_prices',\n",
    "    #'developer_name',\n",
    "    #'publisher_name'\n",
    "]\n",
    "\n",
    "for item in column_drops:\n",
    "    df_hitman.drop(item,inplace=True,axis=1)\n"
   ]
  },
  {
   "cell_type": "code",
   "execution_count": 7,
   "metadata": {},
   "outputs": [],
   "source": [
    "to_int=['developer_id', 'publisher_id', 'objectID', 'prod_id']\n",
    "df_hitman[to_int] = df_hitman[to_int].apply(lambda x: x.astype('int'))"
   ]
  },
  {
   "cell_type": "code",
   "execution_count": 8,
   "metadata": {},
   "outputs": [],
   "source": [
    "df_hitman['discount']=df_hitman['discount'].astype('float') / 100\n",
    "df_hitman['retail']=df_hitman['retail'].astype('float')"
   ]
  },
  {
   "cell_type": "markdown",
   "metadata": {},
   "source": [
    "to_int={'developer_id', 'publisher_id', 'objectID', 'prod_id'}\n",
    "\n",
    "def ToInt(ti):\n",
    "    df_test[ti]=df_test[ti].astype('int')\n",
    "\n",
    "for ti in to_int:\n",
    "    ToInt(ti)"
   ]
  },
  {
   "cell_type": "markdown",
   "metadata": {},
   "source": [
    "to_int={'developer_id', 'publisher_id', 'objectID', 'prod_id'}\n",
    "for ti in to_int:\n",
    "    df_test[ti]=df_test[ti].astype('int')"
   ]
  },
  {
   "cell_type": "markdown",
   "metadata": {},
   "source": [
    "#new_list=[new_item for item in list]"
   ]
  },
  {
   "cell_type": "markdown",
   "metadata": {},
   "source": [
    "to_change_dict={\n",
    "    'developer_id':'int', \n",
    "    'publisher_id':'int', \n",
    "    'objectID':'int', \n",
    "    'prod_id':'int'\n",
    "}\n",
    "\n",
    "df_test2=df_hitman.astype(to_change_dict)"
   ]
  },
  {
   "cell_type": "markdown",
   "metadata": {},
   "source": [
    "per=(df_test['retail']-df_test['price'])/df_test['retail']\n",
    "per"
   ]
  },
  {
   "cell_type": "code",
   "execution_count": 9,
   "metadata": {},
   "outputs": [],
   "source": [
    "#df_test.info(verbose=True)"
   ]
  },
  {
   "cell_type": "code",
   "execution_count": 10,
   "metadata": {},
   "outputs": [
    {
     "data": {
      "text/plain": [
       "pyarrow.Table\n",
       "lang: string\n",
       "name: string\n",
       "prod_id: int32\n",
       "seo_name: string\n",
       "small_name: string\n",
       "type: string\n",
       "region: string\n",
       "is_dlc: bool\n",
       "preorder: bool\n",
       "brand: string\n",
       "is_draft: bool\n",
       "is_delivered: bool\n",
       "retail_currency: string\n",
       "other_platforms_prod_id: string\n",
       "similar_prod_id: string\n",
       "promo: bool\n",
       "discount: double\n",
       "sites: list<item: string>\n",
       "  child 0, item: string\n",
       "platforms: list<item: string>\n",
       "  child 0, item: string\n",
       "price: double\n",
       "retail: double\n",
       "category: list<item: string>\n",
       "  child 0, item: string\n",
       "search_tags: list<item: string>\n",
       "  child 0, item: string\n",
       "avail_date: int64\n",
       "vpn_countries: null\n",
       "exclude_from_search: bool\n",
       "langs: list<item: string>\n",
       "  child 0, item: string\n",
       "manual_search_tags: null\n",
       "developer_id: int32\n",
       "publisher_id: int32\n",
       "is_free_to_play: bool\n",
       "updated_at: int64\n",
       "has_video_preview: bool\n",
       "video_preview_updated_at: string\n",
       "is_prepaid: bool\n",
       "developer_name: string\n",
       "publisher_name: string\n",
       "can_display_video_preview: bool\n",
       "platform: string\n",
       "reviews_avg: int64\n",
       "cat_ids: list<item: string>\n",
       "  child 0, item: string\n",
       "lcat: string\n",
       "objectID: int32\n",
       "----\n",
       "lang: [[\"en\",\"en\",\"en\"]]\n",
       "name: [[\"Hitman 3\",\"Hitman 3\",\"Hitman 3 (Xbox ONE / Xbox Series X|S)\"]]\n",
       "prod_id: [[6851,12619,8010]]\n",
       "seo_name: [[\"hitman-3-pc-game-epic-games-europe\",\"hitman-3-pc-game-steam\",\"hitman-3-xbox-one-xbox-series-x-s-xbox-one-xbox-series-x-s-game-microsoft-store\"]]\n",
       "small_name: [[\"Hitman 3\",\"Hitman 3\",\"Hitman 3 (Xbox ONE / Xbox Series X|S)\"]]\n",
       "type: [[\"Epic Games\",\"Steam\",\"Microsoft Store\"]]\n",
       "region: [[\"Europe\",\"Worldwide\",\"Worldwide\"]]\n",
       "is_dlc: [[false,false,false]]\n",
       "preorder: [[false,false,false]]\n",
       "brand: [[\"Io-Interactive A/S\",\"Io-Interactive A/S\",\"Io-Interactive A/S\"]]\n",
       "..."
      ]
     },
     "execution_count": 10,
     "metadata": {},
     "output_type": "execute_result"
    }
   ],
   "source": [
    "scru.to_paraquet('ig_prices',df_hitman)"
   ]
  }
 ],
 "metadata": {
  "kernelspec": {
   "display_name": "Python 3.10.0 ('scraping_prices-iCStyPHz')",
   "language": "python",
   "name": "python3"
  },
  "language_info": {
   "codemirror_mode": {
    "name": "ipython",
    "version": 3
   },
   "file_extension": ".py",
   "mimetype": "text/x-python",
   "name": "python",
   "nbconvert_exporter": "python",
   "pygments_lexer": "ipython3",
   "version": "3.10.0"
  },
  "orig_nbformat": 4,
  "vscode": {
   "interpreter": {
    "hash": "c818b9eec72219e7d362e3bf18220f729802fb300973581bcb291bde24c2d9ac"
   }
  }
 },
 "nbformat": 4,
 "nbformat_minor": 2
}
